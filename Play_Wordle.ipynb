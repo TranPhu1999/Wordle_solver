{
  "cells": [
    {
      "cell_type": "markdown",
      "metadata": {
        "id": "view-in-github",
        "colab_type": "text"
      },
      "source": [
        "<a href=\"https://colab.research.google.com/github/TranPhu1999/Wordle_solver/blob/main/Play_Wordle.ipynb\" target=\"_parent\"><img src=\"https://colab.research.google.com/assets/colab-badge.svg\" alt=\"Open In Colab\"/></a>"
      ]
    },
    {
      "cell_type": "code",
      "source": [
        "from google.colab import drive\n",
        "drive.mount('/content/drive')"
      ],
      "metadata": {
        "colab": {
          "base_uri": "https://localhost:8080/"
        },
        "id": "zMp01i4zuGjf",
        "outputId": "a5d1e18d-76f1-427d-8c7c-3f740a34625a"
      },
      "execution_count": 7,
      "outputs": [
        {
          "output_type": "stream",
          "name": "stdout",
          "text": [
            "Drive already mounted at /content/drive; to attempt to forcibly remount, call drive.mount(\"/content/drive\", force_remount=True).\n"
          ]
        }
      ]
    },
    {
      "cell_type": "code",
      "source": [
        "%%time\n",
        "# !pip install -r /content/drive/MyDrive/Projects/Wordle_solver/requirements.txt\n",
        "!python /content/drive/MyDrive/Projects/Wordle_solver/main_v1.py | tee /content/drive/MyDrive/Projects/Wordle_solver/logs/8_40_9_v2.txt"
      ],
      "metadata": {
        "id": "PA6OOI7wunBf",
        "colab": {
          "base_uri": "https://localhost:8080/"
        },
        "outputId": "afd8569e-c060-41e0-ff39-8c03444a823a"
      },
      "execution_count": 81,
      "outputs": [
        {
          "output_type": "stream",
          "name": "stdout",
          "text": [
            "\n",
            "inital_guess:  etao\n",
            "ground_truth_list:  ['present', 'absent', 'present', 'absent']\n",
            "100% 346/346 [00:15<00:00, 22.67it/s]\n",
            "\n",
            "inital_guess:  rale\n",
            "ground_truth_list:  ['present', 'correct', 'absent', 'correct']\n",
            "100% 23/23 [00:00<00:00, 402.05it/s]\n",
            "\n",
            "inital_guess:  rafe\n",
            "ground_truth_list:  ['present', 'correct', 'absent', 'correct']\n",
            "100% 21/21 [00:00<00:00, 429.47it/s]\n",
            "\n",
            "inital_guess:  rase\n",
            "ground_truth_list:  ['present', 'correct', 'absent', 'correct']\n",
            "100% 19/19 [00:00<00:00, 467.77it/s]\n",
            "\n",
            "inital_guess:  rape\n",
            "ground_truth_list:  ['present', 'correct', 'absent', 'correct']\n",
            "100% 17/17 [00:00<00:00, 526.90it/s]\n",
            "\n",
            "inital_guess:  rame\n",
            "ground_truth_list:  ['present', 'correct', 'present', 'correct']\n",
            "100% 1/1 [00:00<00:00, 2597.09it/s]\n",
            "\n",
            "inital_guess:  mare\n",
            "ground_truth_list:  ['correct', 'correct', 'correct', 'correct']\n",
            "         657569 function calls (657449 primitive calls) in 17.647 seconds\n",
            "\n",
            "   Ordered by: internal time\n",
            "\n",
            "   ncalls  tottime  percall  cumtime  percall filename:lineno(function)\n",
            "    34593   15.118    0.000   15.150    0.000 /content/drive/MyDrive/Projects/Wordle_solver/main_v1.py:35(get_remain_words_list)\n",
            "       14    0.980    0.070    0.980    0.070 {method 'read' of '_ssl._SSLSocket' objects}\n",
            "        7    0.393    0.056    0.393    0.056 {method 'do_handshake' of '_ssl._SSLSocket' objects}\n",
            "        1    0.372    0.372   17.647   17.647 /content/drive/MyDrive/Projects/Wordle_solver/main_v1.py:107(wordle_bot)\n",
            "        7    0.349    0.050    0.349    0.050 {method 'connect' of '_socket.socket' objects}\n",
            "      427    0.241    0.001   15.404    0.036 /content/drive/MyDrive/Projects/Wordle_solver/main_v1.py:67(calculate_entropy)\n",
            "298694/298687    0.051    0.000    0.051    0.000 {built-in method builtins.len}\n",
            "   264321    0.033    0.000    0.033    0.000 {method 'append' of 'list' objects}\n",
            "    13736    0.010    0.000    0.010    0.000 {built-in method math.log}\n",
            "        7    0.009    0.001    0.009    0.001 {built-in method _socket.getaddrinfo}\n",
            "      191    0.009    0.000    0.009    0.000 {built-in method __new__ of type object at 0x57d2080af9a0}\n",
            "      137    0.005    0.000    0.009    0.000 /usr/local/lib/python3.10/dist-packages/tqdm/std.py:467(format_meter)\n",
            "      149    0.005    0.000    0.005    0.000 {method 'write' of '_io.TextIOWrapper' objects}\n",
            "        6    0.003    0.000   15.454    2.576 /content/drive/MyDrive/Projects/Wordle_solver/main_v1.py:80(get_best_guess)\n",
            "      681    0.003    0.000    0.003    0.000 {method 'format' of 'str' objects}\n",
            "      125    0.002    0.000    0.031    0.000 /usr/local/lib/python3.10/dist-packages/tqdm/std.py:1199(update)\n",
            "     5098    0.002    0.000    0.004    0.000 /usr/local/lib/python3.10/dist-packages/tqdm/utils.py:374(<genexpr>)\n",
            "       59    0.002    0.000    0.002    0.000 {built-in method posix.stat}\n",
            "      433    0.002    0.000    0.034    0.000 /usr/local/lib/python3.10/dist-packages/tqdm/std.py:1161(__iter__)\n",
            "      756    0.002    0.000    0.002    0.000 /usr/local/lib/python3.10/dist-packages/tqdm/std.py:231(__call__)\n",
            "      137    0.001    0.000    0.002    0.000 /usr/local/lib/python3.10/dist-packages/tqdm/std.py:1447(format_dict)\n",
            "     4961    0.001    0.000    0.001    0.000 {built-in method unicodedata.east_asian_width}\n",
            "      137    0.001    0.000    0.012    0.000 /usr/local/lib/python3.10/dist-packages/tqdm/std.py:1151(__str__)\n",
            "       56    0.001    0.000    0.002    0.000 /usr/local/lib/python3.10/dist-packages/urllib3/util/url.py:227(_encode_invalid_chars)\n",
            "      137    0.001    0.000    0.005    0.000 {built-in method builtins.sum}\n",
            "        8    0.001    0.000    0.001    0.000 {built-in method marshal.loads}\n",
            "      137    0.001    0.000    0.026    0.000 /usr/local/lib/python3.10/dist-packages/tqdm/std.py:1465(display)\n",
            "      137    0.001    0.000    0.013    0.000 /usr/local/lib/python3.10/dist-packages/tqdm/std.py:460(print_status)\n",
            "      131    0.001    0.000    0.028    0.000 /usr/local/lib/python3.10/dist-packages/tqdm/std.py:1326(refresh)\n",
            "      155    0.001    0.000    0.001    0.000 /usr/local/lib/python3.10/dist-packages/tqdm/std.py:102(acquire)\n",
            "       14    0.001    0.000    0.003    0.000 /usr/lib/python3.10/urllib/request.py:2487(getproxies_environment)\n",
            "      268    0.001    0.000    0.002    0.000 /usr/local/lib/python3.10/dist-packages/tqdm/std.py:400(format_interval)\n",
            "      131    0.001    0.000    0.001    0.000 {built-in method now}\n",
            "      155    0.001    0.000    0.001    0.000 /usr/local/lib/python3.10/dist-packages/tqdm/std.py:106(release)\n",
            "      137    0.001    0.000    0.006    0.000 /usr/local/lib/python3.10/dist-packages/tqdm/std.py:454(fp_write)\n",
            "      149    0.001    0.000    0.001    0.000 {method 'flush' of '_io.TextIOWrapper' objects}\n",
            "      137    0.001    0.000    0.006    0.000 /usr/local/lib/python3.10/dist-packages/tqdm/utils.py:377(disp_len)\n",
            "1949/1921    0.001    0.000    0.001    0.000 {built-in method builtins.isinstance}\n",
            "       36    0.001    0.000    0.001    0.000 {built-in method builtins.__build_class__}\n",
            "       77    0.001    0.000    0.001    0.000 /usr/lib/python3.10/urllib/parse.py:444(urlsplit)\n",
            "      137    0.000    0.000    0.005    0.000 /usr/local/lib/python3.10/dist-packages/tqdm/utils.py:373(_text_width)\n",
            "     1330    0.000    0.000    0.001    0.000 /usr/lib/python3.10/os.py:698(__iter__)\n",
            "      137    0.000    0.000    0.000    0.000 {method 'sub' of 're.Pattern' objects}\n",
            "     2366    0.000    0.000    0.000    0.000 {method 'decode' of 'bytes' objects}\n",
            "      7/1    0.000    0.000   17.234   17.234 /content/drive/MyDrive/Projects/Wordle_solver/main_v1.py:91(guess_result)\n",
            "     1358    0.000    0.000    0.001    0.000 /usr/lib/python3.10/os.py:759(decode)\n",
            "        7    0.000    0.000    0.001    0.000 /usr/lib/python3.10/ssl.py:1331(_real_close)\n",
            "        7    0.000    0.000    0.000    0.000 {function socket.close at 0x783985086680}\n",
            "       21    0.000    0.000    0.003    0.000 /usr/local/lib/python3.10/dist-packages/urllib3/util/url.py:369(parse_url)\n",
            "        3    0.000    0.000    0.001    0.000 /usr/lib/python3.10/enum.py:180(__new__)\n",
            "      224    0.000    0.000    0.000    0.000 {method 'match' of 're.Pattern' objects}\n",
            "     1330    0.000    0.000    0.002    0.000 /usr/lib/python3.10/_collections_abc.py:885(__iter__)\n",
            "        7    0.000    0.000    0.010    0.001 /usr/local/lib/python3.10/dist-packages/urllib3/util/ssl_.py:218(create_urllib3_context)\n",
            "      155    0.000    0.000    0.000    0.000 {method 'acquire' of '_multiprocessing.SemLock' objects}\n",
            "        7    0.000    0.000    0.000    0.000 {method 'write' of '_ssl._SSLSocket' objects}\n",
            "      286    0.000    0.000    0.005    0.000 /usr/local/lib/python3.10/dist-packages/tqdm/utils.py:193(inner)\n",
            "       70    0.000    0.000    0.001    0.000 /usr/lib/python3.10/urllib/parse.py:379(urlparse)\n",
            "      713    0.000    0.000    0.000    0.000 {built-in method builtins.hasattr}\n",
            "       13    0.000    0.000    0.003    0.000 <frozen importlib._bootstrap>:921(_find_spec)\n",
            "       22    0.000    0.000    0.003    0.000 <frozen importlib._bootstrap_external>:1536(find_spec)\n",
            "        7    0.000    0.000    0.984    0.141 /usr/local/lib/python3.10/dist-packages/urllib3/connection.py:435(getresponse)\n",
            "        7    0.000    0.000    0.394    0.056 /usr/lib/python3.10/ssl.py:1014(_create)\n",
            "        7    0.000    0.000    0.405    0.058 /usr/local/lib/python3.10/dist-packages/urllib3/connection.py:708(_ssl_wrap_socket_and_match_hostname)\n",
            "      184    0.000    0.000    0.000    0.000 {method 'acquire' of '_thread.RLock' objects}\n",
            "        6    0.000    0.000    0.003    0.001 /usr/local/lib/python3.10/dist-packages/tqdm/std.py:953(__init__)\n",
            "        7    0.000    0.000    0.000    0.000 {method 'set_default_verify_paths' of '_ssl._SSLContext' objects}\n",
            "      175    0.000    0.000    0.000    0.000 /usr/lib/python3.10/urllib/parse.py:122(_coerce_args)\n",
            "  440/426    0.000    0.000    0.000    0.000 {method 'encode' of 'str' objects}\n",
            "        2    0.000    0.000    0.000    0.000 {built-in method _imp.create_dynamic}\n",
            "       77    0.000    0.000    0.001    0.000 /usr/lib/python3.10/queue.py:122(put)\n",
            "      639    0.000    0.000    0.000    0.000 {built-in method time.time}\n",
            "       35    0.000    0.000    0.000    0.000 /usr/lib/python3.10/http/client.py:1239(putheader)\n",
            "        7    0.000    0.000    0.002    0.000 /usr/local/lib/python3.10/dist-packages/urllib3/connection.py:319(request)\n",
            "        7    0.000    0.000    0.764    0.109 /usr/local/lib/python3.10/dist-packages/urllib3/connection.py:609(connect)\n",
            "       56    0.000    0.000    0.001    0.000 /usr/lib/python3.10/_collections_abc.py:991(update)\n",
            "      306    0.000    0.000    0.000    0.000 {built-in method builtins.getattr}\n",
            "       84    0.000    0.000    0.001    0.000 /usr/lib/python3.10/queue.py:154(get)\n",
            "      153    0.000    0.000    0.000    0.000 {built-in method builtins.max}\n",
            "       14    0.000    0.000    0.000    0.000 /usr/lib/python3.10/socket.py:220(__init__)\n",
            "       84    0.000    0.000    0.000    0.000 /usr/lib/python3.10/os.py:675(__getitem__)\n",
            "        7    0.000    0.000    0.001    0.000 /usr/local/lib/python3.10/dist-packages/urllib3/connection.py:270(close)\n",
            "     1183    0.000    0.000    0.000    0.000 {method 'lower' of 'str' objects}\n",
            "      536    0.000    0.000    0.000    0.000 {built-in method builtins.divmod}\n",
            "        7    0.000    0.000    1.759    0.251 /usr/local/lib/python3.10/dist-packages/requests/sessions.py:673(send)\n",
            "      122    0.000    0.000    0.002    0.000 /usr/lib/python3.10/enum.py:359(__call__)\n",
            "        8    0.000    0.000    0.000    0.000 {built-in method io.open_code}\n",
            "      182    0.000    0.000    0.000    0.000 {built-in method _abc._abc_instancecheck}\n",
            "      158    0.000    0.000    0.000    0.000 {method 'acquire' of '_thread.lock' objects}\n",
            "        7    0.000    0.000    0.359    0.051 /usr/local/lib/python3.10/dist-packages/urllib3/util/connection.py:27(create_connection)\n",
            "        7    0.000    0.000    0.000    0.000 /usr/local/lib/python3.10/dist-packages/urllib3/poolmanager.py:95(_default_key_normalizer)\n",
            "        7    0.000    0.000    1.750    0.250 /usr/local/lib/python3.10/dist-packages/urllib3/connectionpool.py:380(_make_request)\n",
            "       14    0.000    0.000    0.001    0.000 /usr/lib/python3.10/email/feedparser.py:218(_parsegen)\n",
            "        7    0.000    0.000    1.752    0.250 /usr/local/lib/python3.10/dist-packages/urllib3/connectionpool.py:595(urlopen)\n",
            "       70    0.000    0.000    0.000    0.000 /usr/lib/python3.10/_collections_abc.py:821(get)\n",
            "       46    0.000    0.000    0.000    0.000 /usr/lib/python3.10/enum.py:89(__setitem__)\n",
            "        7    0.000    0.000    1.770    0.253 /usr/local/lib/python3.10/dist-packages/requests/api.py:14(request)\n",
            "        7    0.000    0.000    0.001    0.000 /usr/lib/python3.10/http/client.py:1083(putrequest)\n",
            "        7    0.000    0.000    0.980    0.140 /usr/lib/python3.10/http/client.py:278(_read_status)\n",
            "        7    0.000    0.000    0.000    0.000 {built-in method today}\n",
            "        7    0.000    0.000    0.001    0.000 /usr/local/lib/python3.10/dist-packages/requests/utils.py:199(get_netrc_auth)\n",
            "      376    0.000    0.000    0.000    0.000 {method 'startswith' of 'str' objects}\n",
            "        7    0.000    0.000    0.001    0.000 /usr/local/lib/python3.10/dist-packages/urllib3/connectionpool.py:178(__init__)\n",
            "       42    0.000    0.000    0.001    0.000 /usr/local/lib/python3.10/dist-packages/requests/structures.py:40(__init__)\n",
            "        7    0.000    0.000    1.757    0.251 /usr/local/lib/python3.10/dist-packages/requests/adapters.py:434(send)\n",
            "        7    0.000    0.000    0.000    0.000 {method '_wrap_socket' of '_ssl._SSLContext' objects}\n",
            "      140    0.000    0.000    0.000    0.000 /usr/lib/python3.10/_collections_abc.py:909(__iter__)\n",
            "       23    0.000    0.000    0.000    0.000 /usr/lib/python3.10/threading.py:236(__init__)\n",
            "       14    0.000    0.000    0.000    0.000 /usr/lib/python3.10/urllib/parse.py:505(urlunparse)\n",
            "       35    0.000    0.000    0.001    0.000 /usr/local/lib/python3.10/dist-packages/urllib3/util/url.py:303(_normalize_host)\n",
            "      140    0.000    0.000    0.000    0.000 /usr/local/lib/python3.10/dist-packages/requests/structures.py:46(__setitem__)\n",
            "       49    0.000    0.000    0.001    0.000 /usr/local/lib/python3.10/dist-packages/requests/sessions.py:61(merge_setting)\n",
            "        7    0.000    0.000    0.002    0.000 /usr/local/lib/python3.10/dist-packages/requests/models.py:410(prepare_url)\n",
            "        7    0.000    0.000    0.982    0.140 /usr/lib/python3.10/http/client.py:311(begin)\n",
            "       56    0.000    0.000    0.000    0.000 /usr/lib/python3.10/urllib/parse.py:167(hostname)\n",
            "        7    0.000    0.000    0.359    0.051 /usr/local/lib/python3.10/dist-packages/urllib3/connection.py:197(_new_conn)\n",
            "      119    0.000    0.000    0.000    0.000 /usr/lib/python3.10/enum.py:678(__new__)\n",
            "       49    0.000    0.000    0.000    0.000 /usr/local/lib/python3.10/dist-packages/requests/utils.py:340(to_key_val_list)\n",
            "       14    0.000    0.000    0.000    0.000 /usr/lib/python3.10/posixpath.py:229(expanduser)\n",
            "        6    0.000    0.000    0.000    0.000 {built-in method fcntl.ioctl}\n",
            "        7    0.000    0.000    0.005    0.001 /usr/local/lib/python3.10/dist-packages/requests/sessions.py:459(prepare_request)\n",
            "        7    0.000    0.000    0.000    0.000 /usr/lib/python3.10/socket.py:302(makefile)\n",
            "       42    0.000    0.000    0.980    0.023 {method 'readline' of '_io.BufferedReader' objects}\n",
            "        7    0.000    0.000    0.000    0.000 /usr/lib/python3.10/email/feedparser.py:471(_parse_headers)\n",
            "       14    0.000    0.000    0.000    0.000 /usr/local/lib/python3.10/dist-packages/requests/adapters.py:135(__init__)\n",
            "      952    0.000    0.000    0.000    0.000 {built-in method builtins.ord}\n",
            "        7    0.000    0.000    1.768    0.253 /usr/local/lib/python3.10/dist-packages/requests/sessions.py:502(request)\n",
            "        6    0.000    0.000    0.001    0.000 /usr/local/lib/python3.10/dist-packages/tqdm/utils.py:332(_screen_shape_linux)\n",
            "       35    0.000    0.000    0.000    0.000 /usr/lib/python3.10/enum.py:980(__or__)\n",
            "      154    0.000    0.000    0.000    0.000 /usr/lib/python3.10/threading.py:359(notify)\n",
            "        2    0.000    0.000    0.000    0.000 {built-in method _imp.exec_dynamic}\n",
            "       84    0.000    0.000    0.000    0.000 {method 'search' of 're.Pattern' objects}\n",
            "       84    0.000    0.000    0.000    0.000 /usr/local/lib/python3.10/dist-packages/urllib3/util/url.py:332(_idna_encode)\n",
            "       56    0.000    0.000    0.000    0.000 /usr/lib/python3.10/email/message.py:462(get)\n",
            "       28    0.000    0.000    0.000    0.000 /usr/lib/python3.10/http/cookiejar.py:1266(__init__)\n",
            "      184    0.000    0.000    0.000    0.000 {method 'release' of '_thread.RLock' objects}\n",
            "        7    0.000    0.000    0.001    0.000 /usr/local/lib/python3.10/dist-packages/requests/adapters.py:294(build_response)\n",
            "        7    0.000    0.000    0.764    0.109 /usr/local/lib/python3.10/dist-packages/urllib3/connectionpool.py:1084(_validate_conn)\n",
            "      119    0.000    0.000    0.000    0.000 /usr/local/lib/python3.10/dist-packages/urllib3/util/util.py:19(to_str)\n",
            "       15    0.000    0.000    0.000    0.000 {method 'read' of '_io.BufferedReader' objects}\n",
            "      155    0.000    0.000    0.000    0.000 {method 'release' of '_multiprocessing.SemLock' objects}\n",
            "        7    0.000    0.000    0.000    0.000 /usr/local/lib/python3.10/dist-packages/urllib3/_collections.py:335(extend)\n",
            "       14    0.000    0.000    0.000    0.000 {built-in method builtins.print}\n",
            "      111    0.000    0.000    0.000    0.000 <frozen importlib._bootstrap_external>:128(<listcomp>)\n",
            "       14    0.000    0.000    0.000    0.000 /usr/lib/python3.10/ssl.py:728(verify_mode)\n",
            "       56    0.000    0.000    0.000    0.000 /usr/lib/python3.10/urllib/parse.py:208(_hostinfo)\n",
            "       84    0.000    0.000    0.000    0.000 /usr/lib/python3.10/os.py:755(encode)\n",
            "       21    0.000    0.000    0.000    0.000 /usr/lib/python3.10/encodings/idna.py:145(encode)\n",
            "       23    0.000    0.000    0.000    0.000 <frozen importlib._bootstrap>:179(_get_module_lock)\n",
            "       21    0.000    0.000    0.000    0.000 /usr/local/lib/python3.10/dist-packages/urllib3/util/url.py:263(_remove_path_dot_segments)\n",
            "      111    0.000    0.000    0.000    0.000 <frozen importlib._bootstrap_external>:126(_path_join)\n",
            "       12    0.000    0.000    0.002    0.000 /usr/local/lib/python3.10/dist-packages/tqdm/std.py:1266(close)\n",
            "       21    0.000    0.000    0.001    0.000 /usr/local/lib/python3.10/dist-packages/requests/cookies.py:521(cookiejar_from_dict)\n",
            "        7    0.000    0.000    0.001    0.000 /usr/local/lib/python3.10/dist-packages/requests/sessions.py:391(__init__)\n",
            "       28    0.000    0.000    0.000    0.000 /usr/lib/python3.10/http/cookiejar.py:885(__init__)\n",
            "       14    0.000    0.000    0.001    0.000 /usr/local/lib/python3.10/dist-packages/urllib3/response.py:801(_raw_read)\n",
            "       61    0.000    0.000    0.000    0.000 /usr/lib/python3.10/enum.py:470(__setattr__)\n",
            "      182    0.000    0.000    0.000    0.000 /usr/lib/python3.10/abc.py:117(__instancecheck__)\n",
            "        7    0.000    0.000    0.000    0.000 /usr/local/lib/python3.10/dist-packages/urllib3/response.py:251(get)\n",
            "      126    0.000    0.000    0.000    0.000 /usr/local/lib/python3.10/dist-packages/requests/structures.py:51(__getitem__)\n",
            "       11    0.000    0.000    0.003    0.000 <frozen importlib._bootstrap_external>:1399(_get_spec)\n",
            "      162    0.000    0.000    0.000    0.000 /usr/lib/python3.10/threading.py:267(__exit__)\n",
            "       35    0.000    0.000    0.001    0.000 /usr/local/lib/python3.10/dist-packages/urllib3/connection.py:305(putheader)\n",
            "      162    0.000    0.000    0.000    0.000 /usr/lib/python3.10/threading.py:264(__enter__)\n",
            "        6    0.000    0.000    0.010    0.002 /usr/local/lib/python3.10/dist-packages/tqdm/std.py:666(__new__)\n",
            "       14    0.000    0.000    0.980    0.070 /usr/lib/python3.10/socket.py:691(readinto)\n",
            "       42    0.000    0.000    0.000    0.000 /usr/lib/python3.10/http/cookiejar.py:1227(vals_sorted_by_key)\n",
            "       14    0.000    0.000    0.000    0.000 /usr/local/lib/python3.10/dist-packages/urllib3/util/retry.py:198(__init__)\n",
            "        7    0.000    0.000    0.000    0.000 /usr/local/lib/python3.10/dist-packages/requests/models.py:659(__init__)\n",
            "        7    0.000    0.000    0.000    0.000 /usr/local/lib/python3.10/dist-packages/urllib3/connectionpool.py:1043(_new_conn)\n",
            "      196    0.000    0.000    0.000    0.000 {method 'partition' of 'str' objects}\n",
            "      175    0.000    0.000    0.000    0.000 /usr/local/lib/python3.10/dist-packages/requests/structures.py:58(<genexpr>)\n",
            "        7    0.000    0.000    0.002    0.000 /usr/lib/python3.10/http/client.py:224(parse_headers)\n",
            "        6    0.000    0.000    0.000    0.000 /usr/local/lib/python3.10/dist-packages/tqdm/std.py:689(_decr_instances)\n",
            "        3    0.000    0.000    0.000    0.000 /usr/lib/python3.10/enum.py:222(<setcomp>)\n",
            "        7    0.000    0.000    0.003    0.000 /usr/local/lib/python3.10/dist-packages/requests/sessions.py:751(merge_environment_settings)\n",
            "        7    0.000    0.000    0.009    0.001 /usr/lib/python3.10/socket.py:938(getaddrinfo)\n",
            "        7    0.000    0.000    0.000    0.000 {built-in method _warnings.warn}\n",
            "       28    0.000    0.000    0.000    0.000 /usr/lib/python3.10/email/message.py:564(get_content_type)\n",
            "        7    0.000    0.000    0.000    0.000 /usr/local/lib/python3.10/dist-packages/requests/models.py:484(prepare_headers)\n",
            "      143    0.000    0.000    0.000    0.000 {method 'split' of 'str' objects}\n",
            "      462    0.000    0.000    0.000    0.000 {method 'replace' of 'str' objects}\n",
            "       21    0.000    0.000    0.000    0.000 /usr/lib/python3.10/contextlib.py:102(__init__)\n",
            "        7    0.000    0.000    0.393    0.056 /usr/lib/python3.10/ssl.py:1335(do_handshake)\n",
            "       28    0.000    0.000    0.000    0.000 /usr/lib/python3.10/email/_policybase.py:293(header_source_parse)\n",
            "     13/3    0.000    0.000    0.009    0.003 <frozen importlib._bootstrap>:1022(_find_and_load)\n",
            "       14    0.000    0.000    0.980    0.070 /usr/lib/python3.10/ssl.py:1263(recv_into)\n",
            "        7    0.000    0.000    0.000    0.000 /usr/lib/python3.10/ssl.py:1226(sendall)\n",
            "        7    0.000    0.000    1.770    0.253 /content/drive/MyDrive/Projects/Wordle_solver/main_v1.py:26(check_answer)\n",
            "        8    0.000    0.000    0.002    0.000 <frozen importlib._bootstrap_external>:950(get_code)\n",
            "       35    0.000    0.000    0.000    0.000 /usr/local/lib/python3.10/dist-packages/urllib3/connection.py:354(<genexpr>)\n",
            "       14    0.000    0.000    0.000    0.000 /usr/local/lib/python3.10/dist-packages/urllib3/poolmanager.py:199(__init__)\n",
            "        7    0.000    0.000    0.000    0.000 /usr/lib/python3.10/ssl.py:562(set_alpn_protocols)\n",
            "      155    0.000    0.000    0.000    0.000 /usr/lib/python3.10/threading.py:279(_is_owned)\n",
            "        7    0.000    0.000    0.000    0.000 {method 'getpeername' of '_socket.socket' objects}\n",
            "        7    0.000    0.000    0.000    0.000 /usr/lib/python3.10/http/client.py:206(_read_headers)\n",
            "        7    0.000    0.000    0.002    0.000 /usr/lib/python3.10/email/parser.py:41(parse)\n",
            "        7    0.000    0.000    1.770    0.253 /usr/local/lib/python3.10/dist-packages/requests/api.py:62(get)\n",
            "        7    0.000    0.000    0.002    0.000 /usr/local/lib/python3.10/dist-packages/requests/utils.py:764(should_bypass_proxies)\n",
            "        7    0.000    0.000    0.000    0.000 /usr/lib/python3.10/http/cookiejar.py:1361(add_cookie_header)\n",
            "        7    0.000    0.000    0.000    0.000 /usr/lib/python3.10/email/feedparser.py:139(__init__)\n",
            "        7    0.000    0.000    0.000    0.000 /usr/lib/python3.10/http/client.py:838(__init__)\n",
            "      149    0.000    0.000    0.000    0.000 {built-in method builtins.abs}\n",
            "        7    0.000    0.000    0.000    0.000 /usr/local/lib/python3.10/dist-packages/urllib3/util/request.py:189(body_to_chunks)\n",
            "        7    0.000    0.000    0.000    0.000 /usr/lib/python3.10/json/decoder.py:343(raw_decode)\n",
            "        7    0.000    0.000    0.000    0.000 /usr/local/lib/python3.10/dist-packages/urllib3/response.py:297(__init__)\n",
            "       16    0.000    0.000    0.000    0.000 <frozen importlib._bootstrap_external>:380(cache_from_source)\n",
            "        1    0.000    0.000    0.000    0.000 /usr/lib/python3.10/multiprocessing/synchronize.py:50(__init__)\n",
            "      172    0.000    0.000    0.000    0.000 {method 'get' of 'dict' objects}\n",
            "       14    0.000    0.000    0.980    0.070 /usr/lib/python3.10/ssl.py:1121(read)\n",
            "        7    0.000    0.000    0.002    0.000 /usr/local/lib/python3.10/dist-packages/urllib3/connectionpool.py:1170(_close_pool_connections)\n",
            "      241    0.000    0.000    0.000    0.000 {method 'join' of 'str' objects}\n",
            "        7    0.000    0.000    0.000    0.000 /usr/local/lib/python3.10/dist-packages/urllib3/response.py:537(__init__)\n",
            "        1    0.000    0.000    0.003    0.003 /usr/lib/python3.10/multiprocessing/process.py:1(<module>)\n",
            "       56    0.000    0.000    0.000    0.000 /usr/local/lib/python3.10/dist-packages/requests/utils.py:1043(_validate_header_part)\n",
            "       14    0.000    0.000    0.000    0.000 /usr/local/lib/python3.10/dist-packages/urllib3/_collections.py:82(__init__)\n",
            "       35    0.000    0.000    0.000    0.000 /usr/local/lib/python3.10/dist-packages/requests/structures.py:57(__iter__)\n",
            "      161    0.000    0.000    0.000    0.000 /usr/lib/python3.10/queue.py:248(_qsize)\n",
            "       23    0.000    0.000    0.000    0.000 <frozen importlib._bootstrap>:100(acquire)\n",
            "       28    0.000    0.000    0.000    0.000 /usr/local/lib/python3.10/dist-packages/urllib3/util/timeout.py:113(__init__)\n",
            "        7    0.000    0.000    0.000    0.000 /usr/lib/python3.10/socket.py:679(__init__)\n",
            "       35    0.000    0.000    0.000    0.000 {method 'settimeout' of '_socket.socket' objects}\n",
            "       14    0.000    0.000    0.000    0.000 /usr/lib/python3.10/http/cookiejar.py:1685(extract_cookies)\n",
            "       21    0.000    0.000    0.001    0.000 /usr/local/lib/python3.10/dist-packages/requests/cookies.py:35(__init__)\n",
            "        7    0.000    0.000    0.000    0.000 /usr/lib/python3.10/ssl.py:600(minimum_version)\n",
            "        7    0.000    0.000    0.002    0.000 /usr/local/lib/python3.10/dist-packages/urllib3/poolmanager.py:330(connection_from_pool_key)\n",
            "        7    0.000    0.000    0.001    0.000 /usr/local/lib/python3.10/dist-packages/urllib3/response.py:843(read)\n",
            "      315    0.000    0.000    0.000    0.000 {method 'rstrip' of 'str' objects}\n",
            "       18    0.000    0.000    0.000    0.000 /usr/lib/python3.10/_weakrefset.py:63(__iter__)\n",
            "        7    0.000    0.000    0.002    0.000 /usr/lib/python3.10/email/parser.py:59(parsestr)\n",
            "        7    0.000    0.000    0.000    0.000 /usr/lib/python3.10/queue.py:34(__init__)\n",
            "       21    0.000    0.000    0.002    0.000 /usr/local/lib/python3.10/dist-packages/requests/models.py:887(content)\n",
            "        7    0.000    0.000    0.001    0.000 /usr/local/lib/python3.10/dist-packages/urllib3/poolmanager.py:229(_new_pool)\n",
            "       14    0.000    0.000    0.001    0.000 /usr/local/lib/python3.10/dist-packages/requests/utils.py:836(select_proxy)\n",
            "       21    0.000    0.000    0.000    0.000 /usr/local/lib/python3.10/dist-packages/urllib3/util/url.py:100(__new__)\n",
            "       10    0.000    0.000    0.000    0.000 <frozen importlib._bootstrap_external>:721(spec_from_file_location)\n",
            "        7    0.000    0.000    0.000    0.000 /usr/lib/python3.10/http/client.py:248(__init__)\n",
            "       56    0.000    0.000    0.000    0.000 /usr/local/lib/python3.10/dist-packages/urllib3/_collections.py:257(__getitem__)\n",
            "        6    0.000    0.000    0.000    0.000 /usr/local/lib/python3.10/dist-packages/tqdm/std.py:441(status_printer)\n",
            "       12    0.000    0.000    0.000    0.000 <frozen importlib._bootstrap>:492(_init_module_attrs)\n",
            "       84    0.000    0.000    0.002    0.000 {method 'join' of 'bytes' objects}\n",
            "     12/3    0.000    0.000    0.008    0.003 <frozen importlib._bootstrap>:664(_load_unlocked)\n",
            "       35    0.000    0.000    0.000    0.000 /usr/local/lib/python3.10/dist-packages/urllib3/connection.py:168(host)\n",
            "       56    0.000    0.000    0.000    0.000 {method 'subn' of 're.Pattern' objects}\n",
            "       63    0.000    0.000    0.000    0.000 /usr/lib/python3.10/email/_policybase.py:281(_sanitize_header)\n",
            "       14    0.000    0.000    0.001    0.000 /usr/lib/python3.10/http/client.py:450(read)\n",
            "        7    0.000    0.000    0.000    0.000 /usr/lib/python3.10/email/feedparser.py:101(push)\n",
            "       14    0.000    0.000    0.000    0.000 /usr/lib/python3.10/http/cookiejar.py:1604(make_cookies)\n",
            "       14    0.000    0.000    0.000    0.000 /usr/local/lib/python3.10/dist-packages/urllib3/_collections.py:141(clear)\n",
            "       49    0.000    0.000    0.000    0.000 /usr/lib/python3.10/email/feedparser.py:78(readline)\n",
            "       14    0.000    0.000    0.001    0.000 /usr/local/lib/python3.10/dist-packages/requests/cookies.py:124(extract_cookies_to_jar)\n",
            "        7    0.000    0.000    0.000    0.000 /usr/local/lib/python3.10/dist-packages/urllib3/_collections.py:240(__init__)\n",
            "       42    0.000    0.000    0.000    0.000 /usr/lib/python3.10/http/cookiejar.py:1231(deepvalues)\n",
            "        7    0.000    0.000    0.982    0.140 /usr/lib/python3.10/http/client.py:1331(getresponse)\n",
            "       35    0.000    0.000    0.000    0.000 {method 'fullmatch' of 're.Pattern' objects}\n",
            "        7    0.000    0.000    0.001    0.000 /usr/local/lib/python3.10/dist-packages/urllib3/connectionpool.py:979(__init__)\n",
            "        6    0.000    0.000    0.000    0.000 /usr/local/lib/python3.10/dist-packages/tqdm/utils.py:212(__init__)\n",
            "        1    0.000    0.000    0.000    0.000 {built-in method _thread.start_new_thread}\n",
            "       42    0.000    0.000    0.000    0.000 /usr/lib/python3.10/threading.py:90(RLock)\n",
            "       28    0.000    0.000    0.000    0.000 /usr/local/lib/python3.10/dist-packages/urllib3/util/url.py:326(<listcomp>)\n",
            "       14    0.000    0.000    0.000    0.000 {method 'readlines' of '_io._IOBase' objects}\n",
            "      159    0.000    0.000    0.000    0.000 {method 'rpartition' of 'str' objects}\n",
            "        7    0.000    0.000    0.003    0.000 /usr/local/lib/python3.10/dist-packages/requests/models.py:352(prepare)\n",
            "        3    0.000    0.000    0.000    0.000 /usr/lib/python3.10/enum.py:553(<listcomp>)\n",
            "       28    0.000    0.000    0.000    0.000 /usr/lib/python3.10/socket.py:99(_intenum_converter)\n",
            "       21    0.000    0.000    0.000    0.000 /usr/local/lib/python3.10/dist-packages/requests/hooks.py:15(default_hooks)\n",
            "       18    0.000    0.000    0.000    0.000 {method 'remove' of 'set' objects}\n",
            "       14    0.000    0.000    0.000    0.000 /usr/local/lib/python3.10/dist-packages/requests/cookies.py:542(merge_cookies)\n",
            "       49    0.000    0.000    0.000    0.000 /usr/lib/python3.10/email/feedparser.py:128(__next__)\n",
            "        7    0.000    0.000    0.394    0.056 /usr/lib/python3.10/ssl.py:507(wrap_socket)\n",
            "       42    0.000    0.000    0.000    0.000 {built-in method builtins.sorted}\n",
            "       23    0.000    0.000    0.000    0.000 <frozen importlib._bootstrap>:125(release)\n",
            "        7    0.000    0.000    0.000    0.000 /usr/lib/python3.10/socket.py:768(close)\n",
            "        7    0.000    0.000    0.000    0.000 /usr/local/lib/python3.10/dist-packages/urllib3/connection.py:508(__init__)\n",
            "       28    0.000    0.000    0.000    0.000 /usr/lib/python3.10/email/message.py:497(get_all)\n",
            "       76    0.000    0.000    0.000    0.000 /usr/lib/python3.10/signal.py:9(<lambda>)\n",
            "        7    0.000    0.000    0.000    0.000 /usr/local/lib/python3.10/dist-packages/urllib3/util/response.py:40(assert_header_parsing)\n",
            "        1    0.000    0.000    0.002    0.002 /usr/lib/python3.10/signal.py:1(<module>)\n",
            "     13/3    0.000    0.000    0.009    0.003 <frozen importlib._bootstrap>:987(_find_and_load_unlocked)\n",
            "      122    0.000    0.000    0.000    0.000 <frozen importlib._bootstrap>:244(_verbose_message)\n",
            "       14    0.000    0.000    0.001    0.000 /usr/local/lib/python3.10/dist-packages/urllib3/response.py:918(stream)\n",
            "       14    0.000    0.000    0.000    0.000 /usr/lib/python3.10/urllib/parse.py:516(urlunsplit)\n",
            "        7    0.000    0.000    0.001    0.000 /usr/local/lib/python3.10/dist-packages/urllib3/connection.py:285(putrequest)\n",
            "       14    0.000    0.000    0.000    0.000 /usr/local/lib/python3.10/dist-packages/requests/adapters.py:173(init_poolmanager)\n",
            "       14    0.000    0.000    0.000    0.000 /usr/lib/python3.10/typing.py:306(inner)\n",
            "       51    0.000    0.000    0.000    0.000 {built-in method builtins.next}\n",
            "        3    0.000    0.000    0.001    0.000 /usr/lib/python3.10/enum.py:483(_create_)\n",
            "        6    0.000    0.000    0.000    0.000 /usr/local/lib/python3.10/dist-packages/tqdm/std.py:682(_get_free_pos)\n",
            "        7    0.000    0.000    0.000    0.000 /usr/lib/python3.10/email/feedparser.py:53(__init__)\n",
            "        7    0.000    0.000    0.000    0.000 /usr/lib/python3.10/weakref.py:569(__init__)\n",
            "        6    0.000    0.000    0.000    0.000 /usr/local/lib/python3.10/dist-packages/tqdm/utils.py:265(_supports_unicode)\n",
            "       28    0.000    0.000    0.000    0.000 /usr/local/lib/python3.10/dist-packages/urllib3/_collections.py:300(add)\n",
            "        7    0.000    0.000    0.003    0.000 /usr/local/lib/python3.10/dist-packages/requests/adapters.py:331(get_connection)\n",
            "        7    0.000    0.000    0.001    0.000 /usr/lib/python3.10/http/client.py:968(send)\n",
            "      162    0.000    0.000    0.000    0.000 {method '__enter__' of '_thread.lock' objects}\n",
            "        7    0.000    0.000    0.000    0.000 /usr/local/lib/python3.10/dist-packages/urllib3/response.py:641(_init_length)\n",
            "        1    0.000    0.000    0.001    0.001 /usr/lib/python3.10/subprocess.py:1(<module>)\n",
            "        7    0.000    0.000    0.000    0.000 /usr/lib/python3.10/json/decoder.py:332(decode)\n",
            "        7    0.000    0.000    0.000    0.000 /usr/local/lib/python3.10/dist-packages/urllib3/connection.py:133(__init__)\n",
            "        7    0.000    0.000    0.000    0.000 /usr/local/lib/python3.10/dist-packages/requests/models.py:258(__init__)\n",
            "       45    0.000    0.000    0.000    0.000 {built-in method builtins.any}\n",
            "       28    0.000    0.000    0.000    0.000 /usr/lib/python3.10/_collections_abc.py:840(items)\n",
            "        8    0.000    0.000    0.000    0.000 <frozen importlib._bootstrap_external>:1070(get_data)\n",
            "       77    0.000    0.000    0.000    0.000 /usr/lib/python3.10/queue.py:254(_get)\n",
            "       35    0.000    0.000    0.000    0.000 /usr/lib/python3.10/_collections_abc.py:828(__contains__)\n",
            "        1    0.000    0.000    0.002    0.002 /usr/lib/python3.10/multiprocessing/util.py:1(<module>)\n",
            "       77    0.000    0.000    0.000    0.000 /usr/lib/python3.10/queue.py:251(_put)\n",
            "        7    0.000    0.000    0.000    0.000 /usr/local/lib/python3.10/dist-packages/urllib3/_collections.py:93(__getitem__)\n",
            "       28    0.000    0.000    0.000    0.000 /usr/local/lib/python3.10/dist-packages/requests/utils.py:1032(check_header_validity)\n",
            "       46    0.000    0.000    0.000    0.000 /usr/lib/python3.10/enum.py:44(_is_private)\n",
            "      175    0.000    0.000    0.000    0.000 /usr/lib/python3.10/urllib/parse.py:111(_noop)\n",
            "        8    0.000    0.000    0.000    0.000 {method '__exit__' of '_io._IOBase' objects}\n",
            "      208    0.000    0.000    0.000    0.000 {method '__exit__' of '_thread.lock' objects}\n",
            "       21    0.000    0.000    0.000    0.000 /usr/lib/python3.10/contextlib.py:279(helper)\n",
            "        7    0.000    0.000    0.000    0.000 /usr/local/lib/python3.10/dist-packages/requests/utils.py:1016(get_auth_from_url)\n",
            "      133    0.000    0.000    0.000    0.000 {method 'strip' of 'str' objects}\n",
            "      102    0.000    0.000    0.000    0.000 {method 'pop' of 'list' objects}\n",
            "        6    0.000    0.000    0.000    0.000 /usr/lib/python3.10/functools.py:393(__get__)\n",
            "       28    0.000    0.000    0.000    0.000 /usr/lib/python3.10/email/message.py:29(_splitparam)\n",
            "       14    0.000    0.000    0.000    0.000 /usr/lib/python3.10/email/message.py:120(__init__)\n",
            "        7    0.000    0.000    0.002    0.000 /usr/local/lib/python3.10/dist-packages/urllib3/poolmanager.py:305(connection_from_context)\n",
            "        7    0.000    0.000    0.000    0.000 /usr/local/lib/python3.10/dist-packages/requests/models.py:106(_encode_params)\n",
            "        1    0.000    0.000    0.000    0.000 {built-in method posix.listdir}\n",
            "       42    0.000    0.000    0.000    0.000 /usr/lib/python3.10/_collections_abc.py:862(__init__)\n",
            "       13    0.000    0.000    0.000    0.000 /usr/local/lib/python3.10/dist-packages/_distutils_hack/__init__.py:89(find_spec)\n",
            "      112    0.000    0.000    0.000    0.000 {method 'lstrip' of 'str' objects}\n",
            "       21    0.000    0.000    0.000    0.000 /usr/lib/python3.10/contextlib.py:139(__exit__)\n",
            "       14    0.000    0.000    0.000    0.000 /usr/lib/python3.10/typing.py:1154(__subclasscheck__)\n",
            "        1    0.000    0.000    0.004    0.004 /usr/lib/python3.10/multiprocessing/context.py:1(<module>)\n",
            "       70    0.000    0.000    0.000    0.000 /usr/lib/python3.10/email/utils.py:51(_has_surrogates)\n",
            "       56    0.000    0.000    0.000    0.000 {method 'count' of 'bytes' objects}\n",
            "       14    0.000    0.000    0.001    0.000 /usr/lib/python3.10/email/feedparser.py:178(_call_parse)\n",
            "        7    0.000    0.000    0.000    0.000 /usr/lib/python3.10/urllib/parse.py:418(_splitnetloc)\n",
            "       12    0.000    0.000    0.000    0.000 /usr/lib/python3.10/_weakrefset.py:53(_commit_removals)\n",
            "        7    0.000    0.000    0.000    0.000 /usr/lib/python3.10/ssl.py:1199(send)\n",
            "        7    0.000    0.000    0.000    0.000 /usr/local/lib/python3.10/dist-packages/requests/sessions.py:796(close)\n",
            "        7    0.000    0.000    0.000    0.000 /usr/local/lib/python3.10/dist-packages/urllib3/response.py:240(__init__)\n",
            "       16    0.000    0.000    0.000    0.000 <frozen importlib._bootstrap_external>:132(_path_split)\n",
            "       70    0.000    0.000    0.000    0.000 /usr/local/lib/python3.10/dist-packages/urllib3/connection.py:307(<genexpr>)\n",
            "        1    0.000    0.000    0.000    0.000 /usr/lib/python3.10/multiprocessing/reduction.py:1(<module>)\n",
            "       77    0.000    0.000    0.000    0.000 {method 'find' of 'str' objects}\n",
            "       46    0.000    0.000    0.000    0.000 /usr/lib/python3.10/enum.py:22(_is_dunder)\n",
            "        7    0.000    0.000    0.000    0.000 /usr/local/lib/python3.10/dist-packages/requests/models.py:495(prepare_body)\n",
            "        7    0.000    0.000    0.000    0.000 /usr/lib/python3.10/ssl.py:587(load_default_certs)\n",
            "        7    0.000    0.000    0.003    0.000 /usr/local/lib/python3.10/dist-packages/urllib3/poolmanager.py:356(connection_from_url)\n",
            "        7    0.000    0.000    0.001    0.000 /usr/local/lib/python3.10/dist-packages/requests/cookies.py:140(get_cookie_header)\n",
            "       14    0.000    0.000    0.000    0.000 /usr/lib/python3.10/genericpath.py:16(exists)\n",
            "        7    0.000    0.000    0.000    0.000 /usr/local/lib/python3.10/dist-packages/urllib3/_collections.py:100(__setitem__)\n",
            "        7    0.000    0.000    0.000    0.000 {method 'getsockopt' of '_socket.socket' objects}\n",
            "       45    0.000    0.000    0.002    0.000 <frozen importlib._bootstrap_external>:140(_path_stat)\n",
            "       21    0.000    0.000    0.000    0.000 /usr/lib/python3.10/contextlib.py:130(__enter__)\n",
            "       42    0.000    0.000    0.000    0.000 /usr/lib/python3.10/http/cookiejar.py:1758(__iter__)\n",
            "        7    0.000    0.000    0.000    0.000 /usr/local/lib/python3.10/dist-packages/urllib3/connectionpool.py:82(__init__)\n",
            "        7    0.000    0.000    0.001    0.000 /usr/lib/python3.10/http/client.py:1029(_send_output)\n",
            "        7    0.000    0.000    0.002    0.000 /usr/lib/python3.10/weakref.py:586(__call__)\n",
            "        7    0.000    0.000    0.000    0.000 /usr/lib/python3.10/email/message.py:213(get_payload)\n",
            "       12    0.000    0.000    0.000    0.000 /usr/lib/python3.10/_weakrefset.py:27(__exit__)\n",
            "        7    0.000    0.000    0.394    0.056 /usr/local/lib/python3.10/dist-packages/urllib3/util/ssl_.py:398(ssl_wrap_socket)\n",
            "        8    0.000    0.000    0.001    0.000 <frozen importlib._bootstrap_external>:670(_compile_bytecode)\n",
            "       14    0.000    0.000    0.000    0.000 /usr/local/lib/python3.10/dist-packages/urllib3/util/ssl_.py:179(resolve_cert_reqs)\n",
            "        9    0.000    0.000    0.000    0.000 /usr/lib/python3.10/enum.py:590(_find_data_type)\n",
            "       14    0.000    0.000    0.000    0.000 /usr/local/lib/python3.10/dist-packages/urllib3/util/timeout.py:192(clone)\n",
            "       28    0.000    0.000    0.000    0.000 <frozen importlib._bootstrap>:404(parent)\n",
            "        7    0.000    0.000    0.000    0.000 /usr/local/lib/python3.10/dist-packages/requests/utils.py:898(default_headers)\n",
            "        7    0.000    0.000    0.000    0.000 /usr/local/lib/python3.10/dist-packages/requests/models.py:944(json)\n",
            "        7    0.000    0.000    0.009    0.001 /usr/lib/python3.10/ssl.py:488(__new__)\n",
            "        7    0.000    0.000    0.000    0.000 /usr/local/lib/python3.10/dist-packages/requests/sessions.py:159(resolve_redirects)\n",
            "       14    0.000    0.000    0.000    0.000 /usr/lib/python3.10/http/client.py:417(close)\n",
            "       12    0.000    0.000    0.001    0.000 <frozen importlib._bootstrap>:564(module_from_spec)\n",
            "      158    0.000    0.000    0.000    0.000 {method 'items' of 'dict' objects}\n",
            "       28    0.000    0.000    0.000    0.000 /usr/local/lib/python3.10/dist-packages/urllib3/response.py:697(_error_catcher)\n",
            "        7    0.000    0.000    0.394    0.056 /usr/local/lib/python3.10/dist-packages/urllib3/util/ssl_.py:497(_ssl_wrap_socket_impl)\n",
            "       14    0.000    0.000    0.000    0.000 /usr/local/lib/python3.10/dist-packages/requests/adapters.py:360(close)\n",
            "       46    0.000    0.000    0.000    0.000 /usr/lib/python3.10/enum.py:33(_is_sunder)\n",
            "        7    0.000    0.000    0.000    0.000 /usr/lib/python3.10/urllib/parse.py:900(quote_from_bytes)\n",
            "       63    0.000    0.000    0.000    0.000 /usr/lib/python3.10/email/_policybase.py:311(header_fetch_parse)\n",
            "       14    0.000    0.000    0.000    0.000 /usr/lib/python3.10/typing.py:993(__instancecheck__)\n",
            "       11    0.000    0.000    0.000    0.000 {method 'update' of 'dict' objects}\n",
            "       42    0.000    0.000    0.000    0.000 /usr/lib/python3.10/http/client.py:1008(_output)\n",
            "       12    0.000    0.000    0.000    0.000 /usr/lib/python3.10/_weakrefset.py:21(__enter__)\n",
            "        7    0.000    0.000    0.000    0.000 /usr/lib/python3.10/socket.py:514(family)\n",
            "       24    0.000    0.000    0.000    0.000 /usr/local/lib/python3.10/dist-packages/tqdm/std.py:110(__enter__)\n",
            "       14    0.000    0.000    0.001    0.000 /usr/local/lib/python3.10/dist-packages/requests/models.py:812(generate)\n",
            "       14    0.000    0.000    0.000    0.000 /usr/local/lib/python3.10/dist-packages/requests/sessions.py:801(mount)\n",
            "        7    0.000    0.000    0.000    0.000 /usr/local/lib/python3.10/dist-packages/requests/models.py:207(register_hook)\n",
            "       40    0.000    0.000    0.000    0.000 /usr/lib/python3.10/enum.py:12(_is_descriptor)\n",
            "        7    0.000    0.000    0.000    0.000 /usr/lib/python3.10/json/__init__.py:299(loads)\n",
            "        7    0.000    0.000    0.000    0.000 /usr/local/lib/python3.10/dist-packages/urllib3/util/ssl_.py:473(is_ipaddress)\n",
            "        7    0.000    0.000    0.000    0.000 /usr/local/lib/python3.10/dist-packages/requests/adapters.py:370(request_url)\n",
            "        7    0.000    0.000    0.001    0.000 /usr/lib/python3.10/http/client.py:954(close)\n",
            "       12    0.000    0.000    0.000    0.000 /usr/local/lib/python3.10/dist-packages/tqdm/std.py:1287(fp_write)\n",
            "        7    0.000    0.000    0.000    0.000 /usr/local/lib/python3.10/dist-packages/urllib3/response.py:959(closed)\n",
            "        7    0.000    0.000    0.000    0.000 /usr/local/lib/python3.10/dist-packages/urllib3/util/url.py:351(_encode_target)\n",
            "       14    0.000    0.000    0.000    0.000 /usr/lib/python3.10/logging/__init__.py:1455(debug)\n",
            "       34    0.000    0.000    0.000    0.000 <frozen importlib._bootstrap_external>:1356(_path_importer_cache)\n",
            "        7    0.000    0.000    0.000    0.000 /usr/local/lib/python3.10/dist-packages/requests/utils.py:538(get_encoding_from_headers)\n",
            "        1    0.000    0.000    0.003    0.003 /usr/lib/python3.10/multiprocessing/synchronize.py:1(<module>)\n",
            "     21/4    0.000    0.000    0.008    0.002 <frozen importlib._bootstrap>:233(_call_with_frames_removed)\n",
            "        7    0.000    0.000    0.002    0.000 /usr/local/lib/python3.10/dist-packages/urllib3/poolmanager.py:276(connection_from_host)\n",
            "        7    0.000    0.000    0.000    0.000 /usr/lib/python3.10/urllib/parse.py:655(unquote)\n",
            "       24    0.000    0.000    0.000    0.000 /usr/local/lib/python3.10/dist-packages/tqdm/std.py:113(__exit__)\n",
            "      5/2    0.000    0.000    0.007    0.003 {built-in method builtins.__import__}\n",
            "        7    0.000    0.000    0.000    0.000 /usr/local/lib/python3.10/dist-packages/urllib3/util/timeout.py:176(from_float)\n",
            "        3    0.000    0.000    0.002    0.001 /usr/lib/python3.10/enum.py:536(_convert_)\n",
            "        7    0.000    0.000    0.000    0.000 /usr/local/lib/python3.10/dist-packages/requests/models.py:85(path_url)\n",
            "      8/2    0.000    0.000    0.008    0.004 <frozen importlib._bootstrap_external>:877(exec_module)\n",
            "       88    0.000    0.000    0.000    0.000 {method 'pop' of 'dict' objects}\n",
            "        6    0.000    0.000    0.000    0.000 /usr/lib/python3.10/_weakrefset.py:111(remove)\n",
            "       35    0.000    0.000    0.000    0.000 /usr/local/lib/python3.10/dist-packages/urllib3/_collections.py:289(__iter__)\n",
            "       24    0.000    0.000    0.000    0.000 <frozen importlib._bootstrap_external>:84(_unpack_uint32)\n",
            "        6    0.000    0.000    0.000    0.000 {built-in method utcfromtimestamp}\n",
            "       14    0.000    0.000    0.001    0.000 /usr/local/lib/python3.10/dist-packages/urllib3/response.py:753(_fp_read)\n",
            "        1    0.000    0.000    0.000    0.000 /usr/lib/python3.10/tempfile.py:281(rng)\n",
            "        7    0.000    0.000    0.000    0.000 /usr/local/lib/python3.10/dist-packages/urllib3/util/connection.py:93(_set_socket_options)\n",
            "       13    0.000    0.000    0.000    0.000 <frozen importlib._bootstrap>:71(__init__)\n",
            "        1    0.000    0.000    0.000    0.000 {built-in method builtins.dir}\n",
            "       84    0.000    0.000    0.000    0.000 /usr/local/lib/python3.10/dist-packages/urllib3/util/timeout.py:134(_validate_timeout)\n",
            "       13    0.000    0.000    0.000    0.000 <frozen importlib._bootstrap>:198(cb)\n",
            "       48    0.000    0.000    0.000    0.000 <frozen importlib._bootstrap>:897(__exit__)\n",
            "       56    0.000    0.000    0.000    0.000 {method 'decode' of 'bytearray' objects}\n",
            "       35    0.000    0.000    0.000    0.000 /usr/local/lib/python3.10/dist-packages/requests/_internal_utils.py:25(to_native_string)\n",
            "       14    0.000    0.000    0.000    0.000 /usr/lib/python3.10/logging/__init__.py:1724(isEnabledFor)\n",
            "        8    0.000    0.000    0.000    0.000 <frozen importlib._bootstrap_external>:585(_classify_pyc)\n",
            "        7    0.000    0.000    0.000    0.000 /usr/local/lib/python3.10/dist-packages/requests/utils.py:772(get_proxy)\n",
            "       21    0.000    0.000    0.000    0.000 /usr/lib/python3.10/email/message.py:588(get_content_maintype)\n",
            "       42    0.000    0.000    0.000    0.000 {method 'upper' of 'str' objects}\n",
            "       14    0.000    0.000    0.000    0.000 /usr/local/lib/python3.10/dist-packages/urllib3/connectionpool.py:349(_get_timeout)\n",
            "        7    0.000    0.000    0.001    0.000 /usr/local/lib/python3.10/dist-packages/requests/models.py:611(prepare_cookies)\n",
            "      9/5    0.000    0.000    0.007    0.001 <frozen importlib._bootstrap>:1053(_handle_fromlist)\n",
            "        7    0.000    0.000    0.000    0.000 /usr/local/lib/python3.10/dist-packages/requests/models.py:795(iter_content)\n",
            "        7    0.000    0.000    0.000    0.000 /usr/lib/python3.10/urllib/parse.py:922(urlencode)\n",
            "       14    0.000    0.000    0.000    0.000 /usr/local/lib/python3.10/dist-packages/requests/cookies.py:358(update)\n",
            "       21    0.000    0.000    0.000    0.000 /usr/lib/python3.10/socket.py:730(readable)\n",
            "       14    0.000    0.000    0.000    0.000 /usr/local/lib/python3.10/dist-packages/urllib3/response.py:247(put)\n",
            "        7    0.000    0.000    0.000    0.000 {method 'setsockopt' of '_socket.socket' objects}\n",
            "        7    0.000    0.000    0.001    0.000 /usr/lib/python3.10/urllib/request.py:2524(proxy_bypass_environment)\n",
            "       14    0.000    0.000    0.000    0.000 /usr/local/lib/python3.10/dist-packages/urllib3/response.py:597(release_conn)\n",
            "       48    0.000    0.000    0.000    0.000 {built-in method builtins.setattr}\n",
            "        7    0.000    0.000    0.000    0.000 /usr/local/lib/python3.10/dist-packages/urllib3/connectionpool.py:259(_get_conn)\n",
            "        7    0.000    0.000    0.000    0.000 /usr/local/lib/python3.10/dist-packages/requests/models.py:906(text)\n",
            "        7    0.000    0.000    0.000    0.000 /usr/lib/python3.10/http/cookiejar.py:1302(_cookie_attrs)\n",
            "        7    0.000    0.000    0.000    0.000 /usr/local/lib/python3.10/dist-packages/urllib3/connectionpool.py:297(_put_conn)\n",
            "        7    0.000    0.000    0.000    0.000 /usr/local/lib/python3.10/dist-packages/requests/utils.py:659(requote_uri)\n",
            "       14    0.000    0.000    0.000    0.000 /usr/local/lib/python3.10/dist-packages/urllib3/poolmanager.py:267(clear)\n",
            "        7    0.000    0.000    0.000    0.000 /usr/local/lib/python3.10/dist-packages/urllib3/util/retry.py:383(is_retry)\n",
            "        7    0.000    0.000    0.000    0.000 /usr/lib/python3.10/_weakrefset.py:86(add)\n",
            "        7    0.000    0.000    0.000    0.000 /usr/local/lib/python3.10/dist-packages/requests/utils.py:513(_parse_content_type_header)\n",
            "       28    0.000    0.000    0.000    0.000 /usr/lib/python3.10/email/message.py:479(set_raw)\n",
            "       44    0.000    0.000    0.000    0.000 {built-in method builtins.issubclass}\n",
            "        8    0.000    0.000    0.000    0.000 {built-in method builtins.locals}\n",
            "        7    0.000    0.000    0.000    0.000 /usr/lib/python3.10/http/cookiejar.py:1739(clear_expired_cookies)\n",
            "       10    0.000    0.000    0.000    0.000 <frozen importlib._bootstrap_external>:1531(_get_spec)\n",
            "       36    0.000    0.000    0.000    0.000 {built-in method _thread.allocate_lock}\n",
            "        7    0.000    0.000    0.000    0.000 /usr/local/lib/python3.10/dist-packages/requests/sessions.py:782(get_adapter)\n",
            "       21    0.000    0.000    0.000    0.000 /usr/local/lib/python3.10/dist-packages/urllib3/util/timeout.py:130(resolve_default_timeout)\n",
            "       48    0.000    0.000    0.000    0.000 <frozen importlib._bootstrap>:893(__enter__)\n",
            "        7    0.000    0.000    0.000    0.000 /usr/local/lib/python3.10/dist-packages/requests/utils.py:635(unquote_unreserved)\n",
            "       40    0.000    0.000    0.000    0.000 {method 'endswith' of 'str' objects}\n",
            "       10    0.000    0.000    0.000    0.000 {method 'sort' of 'list' objects}\n",
            "        7    0.000    0.000    0.000    0.000 /usr/lib/python3.10/email/feedparser.py:184(close)\n",
            "       21    0.000    0.000    0.000    0.000 /usr/local/lib/python3.10/dist-packages/requests/cookies.py:534(<listcomp>)\n",
            "        7    0.000    0.000    0.000    0.000 /usr/local/lib/python3.10/dist-packages/urllib3/util/timeout.py:249(read_timeout)\n",
            "       42    0.000    0.000    0.000    0.000 {method 'groups' of 're.Match' objects}\n",
            "        7    0.000    0.000    0.000    0.000 /usr/lib/python3.10/ssl.py:628(hostname_checks_common_name)\n",
            "       21    0.000    0.000    0.000    0.000 /usr/local/lib/python3.10/dist-packages/requests/sessions.py:84(<listcomp>)\n",
            "        7    0.000    0.000    0.000    0.000 {method 'close' of '_io.BufferedReader' objects}\n",
            "       18    0.000    0.000    0.000    0.000 /usr/local/lib/python3.10/dist-packages/tqdm/utils.py:151(wrapper_setattr)\n",
            "        7    0.000    0.000    0.000    0.000 /usr/lib/python3.10/urllib/parse.py:829(quote)\n",
            "        7    0.000    0.000    0.000    0.000 /usr/lib/python3.10/email/feedparser.py:70(close)\n",
            "       13    0.000    0.000    0.000    0.000 <frozen importlib._bootstrap>:169(__enter__)\n",
            "       10    0.000    0.000    0.000    0.000 <frozen importlib._bootstrap_external>:510(_get_cached)\n",
            "       28    0.000    0.000    0.000    0.000 {method 'add' of 'set' objects}\n",
            "        7    0.000    0.000    0.000    0.000 /usr/lib/python3.10/ssl.py:614(options)\n",
            "       12    0.000    0.000    0.000    0.000 /usr/local/lib/python3.10/dist-packages/tqdm/utils.py:186(disable_on_exception)\n",
            "       59    0.000    0.000    0.000    0.000 {method 'setdefault' of 'dict' objects}\n",
            "       63    0.000    0.000    0.000    0.000 {method 'values' of 'collections.OrderedDict' objects}\n",
            "       11    0.000    0.000    0.003    0.000 <frozen importlib._bootstrap_external>:1431(find_spec)\n",
            "       14    0.000    0.000    0.000    0.000 /usr/local/lib/python3.10/dist-packages/requests/sessions.py:807(<listcomp>)\n",
            "        7    0.000    0.000    0.003    0.000 /usr/local/lib/python3.10/dist-packages/requests/utils.py:824(get_environ_proxies)\n",
            "        2    0.000    0.000    0.000    0.000 {built-in method _imp.exec_builtin}\n",
            "        7    0.000    0.000    0.001    0.000 /usr/lib/python3.10/http/client.py:1267(endheaders)\n",
            "       20    0.000    0.000    0.000    0.000 {built-in method builtins.min}\n",
            "        7    0.000    0.000    0.000    0.000 /usr/local/lib/python3.10/dist-packages/requests/models.py:335(__init__)\n",
            "        7    0.000    0.000    0.000    0.000 /usr/local/lib/python3.10/dist-packages/urllib3/util/retry.py:375(_is_method_retryable)\n",
            "       12    0.000    0.000    0.000    0.000 /usr/lib/python3.10/_weakrefset.py:17(__init__)\n",
            "        1    0.000    0.000    0.000    0.000 /usr/lib/python3.10/subprocess.py:702(Popen)\n",
            "      8/2    0.000    0.000    0.008    0.004 {built-in method builtins.exec}\n",
            "        7    0.000    0.000    0.000    0.000 /usr/lib/python3.10/email/feedparser.py:197(_new_message)\n",
            "        7    0.000    0.000    0.000    0.000 /usr/lib/python3.10/email/message.py:459(<listcomp>)\n",
            "       13    0.000    0.000    0.000    0.000 <frozen importlib._bootstrap>:357(__init__)\n",
            "        1    0.000    0.000    0.000    0.000 /usr/lib/python3.10/multiprocessing/process.py:71(BaseProcess)\n",
            "       14    0.000    0.000    0.000    0.000 /usr/local/lib/python3.10/dist-packages/urllib3/response.py:374(retries)\n",
            "        7    0.000    0.000    0.000    0.000 /usr/lib/python3.10/socket.py:504(detach)\n",
            "       21    0.000    0.000    0.000    0.000 {function SocketIO.close at 0x783985087130}\n",
            "        7    0.000    0.000    0.000    0.000 /usr/local/lib/python3.10/dist-packages/requests/models.py:394(prepare_method)\n",
            "       84    0.000    0.000    0.000    0.000 {built-in method _imp.acquire_lock}\n",
            "        7    0.000    0.000    0.001    0.000 /usr/lib/python3.10/socket.py:498(close)\n",
            "       18    0.000    0.000    0.000    0.000 <frozen importlib._bootstrap>:391(cached)\n",
            "       91    0.000    0.000    0.000    0.000 {method 'isascii' of 'str' objects}\n",
            "       17    0.000    0.000    0.000    0.000 {method 'extend' of 'list' objects}\n",
            "        1    0.000    0.000    0.000    0.000 /usr/lib/python3.10/threading.py:827(__init__)\n",
            "        3    0.000    0.000    0.000    0.000 /usr/lib/python3.10/enum.py:626(_find_new_)\n",
            "       28    0.000    0.000    0.000    0.000 /usr/local/lib/python3.10/dist-packages/urllib3/util/retry.py:238(<genexpr>)\n",
            "        7    0.000    0.000    0.000    0.000 /usr/local/lib/python3.10/dist-packages/urllib3/response.py:410(_init_decoder)\n",
            "        7    0.000    0.000    0.000    0.000 /usr/local/lib/python3.10/dist-packages/requests/models.py:589(prepare_auth)\n",
            "        7    0.000    0.000    0.000    0.000 /usr/lib/python3.10/ssl.py:499(_encode_hostname)\n",
            "       14    0.000    0.000    0.000    0.000 /usr/lib/python3.10/email/feedparser.py:122(pushlines)\n",
            "       84    0.000    0.000    0.000    0.000 {built-in method _imp.release_lock}\n",
            "       32    0.000    0.000    0.000    0.000 <frozen importlib._bootstrap_external>:134(<genexpr>)\n",
            "       14    0.000    0.000    0.000    0.000 /usr/local/lib/python3.10/dist-packages/urllib3/util/response.py:9(is_fp_closed)\n",
            "       14    0.000    0.000    0.000    0.000 /usr/lib/python3.10/ssl.py:736(verify_mode)\n",
            "        7    0.000    0.000    0.000    0.000 /usr/local/lib/python3.10/dist-packages/requests/adapters.py:237(cert_verify)\n",
            "       14    0.000    0.000    0.000    0.000 /usr/local/lib/python3.10/dist-packages/requests/adapters.py:73(__init__)\n",
            "        9    0.000    0.000    0.000    0.000 /usr/lib/python3.10/enum.py:579(_get_mixins_)\n",
            "        7    0.000    0.000    0.001    0.000 /usr/lib/python3.10/email/feedparser.py:173(feed)\n",
            "        7    0.000    0.000    0.000    0.000 /usr/lib/python3.10/typing.py:1037(__hash__)\n",
            "        1    0.000    0.000    0.000    0.000 /usr/lib/python3.10/multiprocessing/context.py:30(BaseContext)\n",
            "       56    0.000    0.000    0.000    0.000 {method 'keys' of 'dict' objects}\n",
            "       14    0.000    0.000    0.000    0.000 {method 'pop' of 'collections.OrderedDict' objects}\n",
            "       38    0.000    0.000    0.000    0.000 /usr/lib/python3.10/multiprocessing/__init__.py:23(<genexpr>)\n",
            "        7    0.000    0.000    0.000    0.000 /usr/lib/python3.10/socket.py:494(_real_close)\n",
            "        7    0.000    0.000    0.000    0.000 /usr/local/lib/python3.10/dist-packages/requests/structures.py:76(copy)\n",
            "       21    0.000    0.000    0.000    0.000 {method 'split' of 'bytes' objects}\n",
            "       10    0.000    0.000    0.000    0.000 <frozen importlib._bootstrap>:216(_lock_unlock_module)\n",
            "       14    0.000    0.000    0.000    0.000 <frozen importlib._bootstrap_external>:150(_path_is_mode_type)\n",
            "       28    0.000    0.000    0.000    0.000 {method 'copy' of 'dict' objects}\n",
            "       14    0.000    0.000    0.000    0.000 {built-in method _abc._abc_subclasscheck}\n",
            "        1    0.000    0.000    0.000    0.000 {function Random.seed at 0x7839850f92d0}\n",
            "        1    0.000    0.000    0.004    0.004 /usr/lib/python3.10/multiprocessing/__init__.py:1(<module>)\n",
            "        3    0.000    0.000    0.000    0.000 /usr/lib/python3.10/enum.py:165(__prepare__)\n",
            "        5    0.000    0.000    0.000    0.000 /usr/local/lib/python3.10/dist-packages/tqdm/_monitor.py:94(report)\n",
            "       18    0.000    0.000    0.000    0.000 /usr/local/lib/python3.10/dist-packages/tqdm/std.py:226(__init__)\n",
            "        7    0.000    0.000    0.000    0.000 /usr/local/lib/python3.10/dist-packages/requests/models.py:631(prepare_hooks)\n",
            "        7    0.000    0.000    0.000    0.000 /usr/local/lib/python3.10/dist-packages/requests/sessions.py:107(get_redirect_target)\n",
            "        1    0.000    0.000    0.009    0.009 /usr/local/lib/python3.10/dist-packages/tqdm/std.py:116(create_mp_lock)\n",
            "       21    0.000    0.000    0.000    0.000 /usr/local/lib/python3.10/dist-packages/requests/hooks.py:16(<dictcomp>)\n",
            "       14    0.000    0.000    0.000    0.000 {method 'read' of '_io.StringIO' objects}\n",
            "        1    0.000    0.000    0.000    0.000 /usr/lib/python3.10/multiprocessing/__init__.py:22(<listcomp>)\n",
            "        7    0.000    0.000    0.000    0.000 /usr/local/lib/python3.10/dist-packages/urllib3/response.py:668(<setcomp>)\n",
            "        7    0.000    0.000    0.000    0.000 /usr/local/lib/python3.10/dist-packages/urllib3/util/timeout.py:206(start_connect)\n",
            "        7    0.000    0.000    0.000    0.000 /usr/local/lib/python3.10/dist-packages/urllib3/connectionpool.py:1145(_normalize_host)\n",
            "        1    0.000    0.000    0.000    0.000 /usr/local/lib/python3.10/dist-packages/tqdm/_monitor.py:30(__init__)\n",
            "        7    0.000    0.000    0.000    0.000 {method '_set_alpn_protocols' of '_ssl._SSLContext' objects}\n",
            "        7    0.000    0.000    0.000    0.000 {method 'cast' of 'memoryview' objects}\n",
            "       21    0.000    0.000    0.000    0.000 /usr/local/lib/python3.10/dist-packages/urllib3/_request_methods.py:51(__init__)\n",
            "       21    0.000    0.000    0.000    0.000 /usr/local/lib/python3.10/dist-packages/requests/utils.py:206(<genexpr>)\n",
            "        8    0.000    0.000    0.000    0.000 <frozen importlib._bootstrap_external>:618(_validate_timestamp_pyc)\n",
            "        1    0.000    0.000    0.000    0.000 /usr/lib/python3.10/subprocess.py:648(_use_posix_spawn)\n",
            "       13    0.000    0.000    0.000    0.000 <frozen importlib._bootstrap>:746(find_spec)\n",
            "        8    0.000    0.000    0.000    0.000 <frozen importlib._bootstrap_external>:542(_check_name_wrapper)\n",
            "        6    0.000    0.000    0.009    0.002 /usr/local/lib/python3.10/dist-packages/tqdm/std.py:763(get_lock)\n",
            "        7    0.000    0.000    0.000    0.000 /usr/lib/python3.10/ssl.py:618(options)\n",
            "        7    0.000    0.000    0.000    0.000 /usr/lib/python3.10/socket.py:488(_decref_socketios)\n",
            "       14    0.000    0.000    0.000    0.000 {method 'extend' of 'collections.deque' objects}\n",
            "       28    0.000    0.000    0.000    0.000 {method 'count' of 'str' objects}\n",
            "        7    0.000    0.000    0.000    0.000 /usr/local/lib/python3.10/dist-packages/requests/models.py:770(is_redirect)\n",
            "        7    0.000    0.000    0.000    0.000 {method 'rstrip' of 'bytes' objects}\n",
            "        7    0.000    0.000    0.000    0.000 /usr/lib/python3.10/http/client.py:429(flush)\n",
            "        7    0.000    0.000    0.000    0.000 /usr/local/lib/python3.10/dist-packages/requests/sessions.py:91(merge_hooks)\n",
            "       12    0.000    0.000    0.000    0.000 /usr/local/lib/python3.10/dist-packages/tqdm/std.py:1158(__hash__)\n",
            "       14    0.000    0.000    0.000    0.000 /usr/lib/python3.10/_collections_abc.py:836(keys)\n",
            "        7    0.000    0.000    0.000    0.000 /usr/lib/python3.10/http/client.py:1214(_validate_method)\n",
            "       43    0.000    0.000    0.000    0.000 {built-in method posix.fspath}\n",
            "       42    0.000    0.000    0.000    0.000 /usr/lib/python3.10/ssl.py:1109(_checkClosed)\n",
            "        2    0.000    0.000    0.000    0.000 {built-in method _imp.create_builtin}\n",
            "        8    0.000    0.000    0.000    0.000 {built-in method _imp.is_builtin}\n",
            "        7    0.000    0.000    0.000    0.000 /usr/lib/python3.10/http/client.py:1231(_validate_host)\n",
            "       78    0.000    0.000    0.000    0.000 /usr/lib/python3.10/signal.py:21(<lambda>)\n",
            "       13    0.000    0.000    0.000    0.000 <frozen importlib._bootstrap>:173(__exit__)\n",
            "       14    0.000    0.000    0.000    0.000 /usr/local/lib/python3.10/dist-packages/requests/cookies.py:110(__init__)\n",
            "        7    0.000    0.000    0.000    0.000 /content/drive/MyDrive/Projects/Wordle_solver/main_v1.py:29(<listcomp>)\n",
            "       61    0.000    0.000    0.000    0.000 {method 'get' of 'mappingproxy' objects}\n",
            "        7    0.000    0.000    0.000    0.000 /usr/local/lib/python3.10/dist-packages/requests/_internal_utils.py:38(unicode_is_ascii)\n",
            "        1    0.000    0.000    0.004    0.004 /usr/lib/python3.10/multiprocessing/context.py:70(RLock)\n",
            "        7    0.000    0.000    0.000    0.000 {method 'extend' of 'bytearray' objects}\n",
            "        7    0.000    0.000    0.000    0.000 /usr/lib/python3.10/http/client.py:412(_close_conn)\n",
            "       14    0.000    0.000    0.000    0.000 {method '_checkReadable' of '_io._IOBase' objects}\n",
            "       47    0.000    0.000    0.000    0.000 {built-in method _thread.get_ident}\n",
            "        7    0.000    0.000    0.000    0.000 /usr/lib/python3.10/email/parser.py:17(__init__)\n",
            "        7    0.000    0.000    0.000    0.000 /usr/local/lib/python3.10/dist-packages/requests/utils.py:889(default_user_agent)\n",
            "       35    0.000    0.000    0.000    0.000 /usr/lib/python3.10/http/client.py:440(isclosed)\n",
            "        7    0.000    0.000    0.000    0.000 /usr/local/lib/python3.10/dist-packages/urllib3/util/connection.py:103(allowed_gai_family)\n",
            "       13    0.000    0.000    0.000    0.000 <frozen importlib._bootstrap>:165(__init__)\n",
            "        7    0.000    0.000    0.000    0.000 /usr/local/lib/python3.10/dist-packages/urllib3/poolmanager.py:374(_merge_pool_kwargs)\n",
            "        7    0.000    0.000    0.000    0.000 /usr/lib/python3.10/urllib/parse.py:196(_userinfo)\n",
            "       12    0.000    0.000    0.000    0.000 /usr/local/lib/python3.10/dist-packages/tqdm/utils.py:221(__eq__)\n",
            "        7    0.000    0.000    0.000    0.000 /usr/lib/python3.10/socket.py:520(type)\n",
            "       13    0.000    0.000    0.000    0.000 {built-in method builtins.id}\n",
            "       77    0.000    0.000    0.000    0.000 /usr/lib/python3.10/signal.py:16(<lambda>)\n",
            "        7    0.000    0.000    0.000    0.000 /usr/lib/python3.10/email/message.py:451(items)\n",
            "       14    0.000    0.000    0.000    0.000 {method 'clear' of 'collections.OrderedDict' objects}\n",
            "        6    0.000    0.000    0.000    0.000 /usr/local/lib/python3.10/dist-packages/tqdm/utils.py:124(__eq__)\n",
            "       21    0.000    0.000    0.000    0.000 /usr/lib/python3.10/http/cookiejar.py:44(_debug)\n",
            "       76    0.000    0.000    0.000    0.000 {method 'isupper' of 'str' objects}\n",
            "        6    0.000    0.000    0.000    0.000 /usr/local/lib/python3.10/dist-packages/tqdm/utils.py:155(__init__)\n",
            "       14    0.000    0.000    0.000    0.000 {method 'update' of 'collections.OrderedDict' objects}\n",
            "       13    0.000    0.000    0.000    0.000 <frozen importlib._bootstrap_external>:159(_path_isfile)\n",
            "       12    0.000    0.000    0.000    0.000 /usr/local/lib/python3.10/dist-packages/tqdm/std.py:1154(_comparable)\n",
            "       40    0.000    0.000    0.000    0.000 /usr/lib/python3.10/enum.py:559(<lambda>)\n",
            "       15    0.000    0.000    0.000    0.000 /usr/lib/python3.10/posixpath.py:41(_get_sep)\n",
            "        7    0.000    0.000    0.000    0.000 /usr/lib/python3.10/urllib/parse.py:159(username)\n",
            "       49    0.000    0.000    0.000    0.000 {method 'popleft' of 'collections.deque' objects}\n",
            "        1    0.000    0.000    0.000    0.000 /usr/lib/python3.10/random.py:128(seed)\n",
            "        6    0.000    0.000    0.000    0.000 /usr/local/lib/python3.10/dist-packages/tqdm/std.py:685(<setcomp>)\n",
            "        7    0.000    0.000    0.000    0.000 /usr/local/lib/python3.10/dist-packages/urllib3/util/ssl_.py:202(resolve_ssl_version)\n",
            "        7    0.000    0.000    0.000    0.000 {method 'write' of '_io.StringIO' objects}\n",
            "        8    0.000    0.000    0.000    0.000 <frozen importlib._bootstrap>:48(_new_module)\n",
            "        1    0.000    0.000    0.009    0.009 /usr/local/lib/python3.10/dist-packages/tqdm/std.py:90(__init__)\n",
            "       21    0.000    0.000    0.000    0.000 /usr/local/lib/python3.10/dist-packages/urllib3/util/timeout.py:231(connect_timeout)\n",
            "       14    0.000    0.000    0.000    0.000 {method '_checkClosed' of '_io._IOBase' objects}\n",
            "        1    0.000    0.000    0.000    0.000 {built-in method _abc._abc_init}\n",
            "       14    0.000    0.000    0.000    0.000 /usr/local/lib/python3.10/dist-packages/requests/structures.py:60(__len__)\n",
            "        7    0.000    0.000    0.000    0.000 /usr/lib/python3.10/email/feedparser.py:210(_pop_message)\n",
            "        7    0.000    0.000    0.000    0.000 /usr/lib/python3.10/email/message.py:303(set_payload)\n",
            "        7    0.000    0.000    0.000    0.000 /usr/local/lib/python3.10/dist-packages/requests/hooks.py:22(dispatch_hook)\n",
            "        7    0.000    0.000    0.000    0.000 /usr/local/lib/python3.10/dist-packages/requests/sessions.py:456(__exit__)\n",
            "       12    0.000    0.000    0.000    0.000 /usr/local/lib/python3.10/dist-packages/tqdm/utils.py:138(__getattr__)\n",
            "       14    0.000    0.000    0.000    0.000 /usr/lib/python3.10/abc.py:121(__subclasscheck__)\n",
            "        1    0.000    0.000    0.000    0.000 /usr/lib/python3.10/subprocess.py:425(CompletedProcess)\n",
            "        7    0.000    0.000    0.000    0.000 /usr/lib/python3.10/http/client.py:383(_check_close)\n",
            "        7    0.000    0.000    0.000    0.000 /usr/local/lib/python3.10/dist-packages/urllib3/util/request.py:134(set_file_position)\n",
            "        7    0.000    0.000    0.000    0.000 /usr/lib/python3.10/http/client.py:1223(_validate_path)\n",
            "        3    0.000    0.000    0.000    0.000 /usr/lib/python3.10/enum.py:198(<dictcomp>)\n",
            "        8    0.000    0.000    0.000    0.000 <frozen importlib._bootstrap_external>:1089(path_stats)\n",
            "       14    0.000    0.000    0.000    0.000 /usr/local/lib/python3.10/dist-packages/urllib3/response.py:429(_decode)\n",
            "        7    0.000    0.000    0.000    0.000 /usr/lib/python3.10/http/cookiejar.py:1295(_cookies_for_request)\n",
            "       14    0.000    0.000    0.000    0.000 {built-in method sys.audit}\n",
            "        1    0.000    0.000    0.000    0.000 /usr/lib/python3.10/random.py:519(<listcomp>)\n",
            "       14    0.000    0.000    0.000    0.000 /usr/lib/python3.10/email/message.py:181(is_multipart)\n",
            "       11    0.000    0.000    0.000    0.000 <frozen importlib._bootstrap>:826(find_spec)\n",
            "        1    0.000    0.000    0.000    0.000 /usr/lib/python3.10/multiprocessing/context.py:23(AuthenticationError)\n",
            "       28    0.000    0.000    0.000    0.000 {method 'items' of 'collections.OrderedDict' objects}\n",
            "       14    0.000    0.000    0.000    0.000 /usr/local/lib/python3.10/dist-packages/urllib3/response.py:323(<genexpr>)\n",
            "       29    0.000    0.000    0.000    0.000 {method '__exit__' of '_thread.RLock' objects}\n",
            "        1    0.000    0.000    0.000    0.000 /usr/lib/python3.10/threading.py:288(wait)\n",
            "        1    0.000    0.000    0.000    0.000 /usr/lib/python3.10/multiprocessing/synchronize.py:46(SemLock)\n",
            "        1    0.000    0.000    0.000    0.000 <frozen importlib._bootstrap_external>:1587(_fill_cache)\n",
            "       14    0.000    0.000    0.000    0.000 {method 'write' of '_io.BytesIO' objects}\n",
            "        1    0.000    0.000    0.000    0.000 /usr/lib/python3.10/weakref.py:105(__init__)\n",
            "        1    0.000    0.000    0.000    0.000 /usr/lib/python3.10/threading.py:916(start)\n",
            "        7    0.000    0.000    0.000    0.000 /usr/local/lib/python3.10/dist-packages/requests/sessions.py:725(<listcomp>)\n",
            "       14    0.000    0.000    0.000    0.000 /usr/local/lib/python3.10/dist-packages/requests/utils.py:742(set_environ)\n",
            "        1    0.000    0.000    0.000    0.000 /usr/lib/python3.10/threading.py:589(wait)\n",
            "        6    0.000    0.000    0.000    0.000 /usr/local/lib/python3.10/dist-packages/tqdm/utils.py:251(_is_utf)\n",
            "        3    0.000    0.000    0.000    0.000 /usr/lib/python3.10/enum.py:569(_check_for_existing_members)\n",
            "        1    0.000    0.000    0.000    0.000 /usr/lib/python3.10/multiprocessing/process.py:399(__init__)\n",
            "        7    0.000    0.000    0.000    0.000 <string>:1(<lambda>)\n",
            "        7    0.000    0.000    0.000    0.000 /usr/lib/python3.10/http/client.py:1210(_encode_request)\n",
            "       28    0.000    0.000    0.000    0.000 /usr/local/lib/python3.10/dist-packages/urllib3/response.py:244(__len__)\n",
            "        7    0.000    0.000    0.000    0.000 /usr/local/lib/python3.10/dist-packages/requests/models.py:573(prepare_content_length)\n",
            "       28    0.000    0.000    0.000    0.000 {method 'seek' of '_io.StringIO' objects}\n",
            "        7    0.000    0.000    0.000    0.000 /usr/lib/python3.10/urllib/parse.py:343(geturl)\n",
            "       24    0.000    0.000    0.000    0.000 {built-in method from_bytes}\n",
            "       28    0.000    0.000    0.000    0.000 /usr/local/lib/python3.10/dist-packages/requests/cookies.py:117(info)\n",
            "        2    0.000    0.000    0.000    0.000 <frozen importlib._bootstrap_external>:1174(create_module)\n",
            "       12    0.000    0.000    0.000    0.000 {built-in method _weakref.proxy}\n",
            "       11    0.000    0.000    0.000    0.000 <frozen importlib._bootstrap_external>:180(_path_isabs)\n",
            "        7    0.000    0.000    0.000    0.000 {method 'append' of 'bytearray' objects}\n",
            "        7    0.000    0.000    0.000    0.000 /usr/lib/python3.10/http/client.py:884(_get_hostport)\n",
            "        3    0.000    0.000    0.000    0.000 /usr/lib/python3.10/enum.py:82(__init__)\n",
            "        2    0.000    0.000    0.000    0.000 <frozen importlib._bootstrap>:421(spec_from_loader)\n",
            "        6    0.000    0.000    0.000    0.000 /usr/lib/python3.10/signal.py:49(decorator)\n",
            "       22    0.000    0.000    0.000    0.000 <frozen importlib._bootstrap_external>:71(_relax_case)\n",
            "        8    0.000    0.000    0.000    0.000 <frozen importlib._bootstrap_external>:1040(__init__)\n",
            "       21    0.000    0.000    0.000    0.000 {method 'gettimeout' of '_socket.socket' objects}\n",
            "        6    0.000    0.000    0.000    0.000 /usr/local/lib/python3.10/dist-packages/tqdm/std.py:1148(__del__)\n",
            "        7    0.000    0.000    0.000    0.000 /usr/lib/python3.10/_collections_abc.py:865(__len__)\n",
            "        1    0.000    0.000    0.000    0.000 /usr/lib/python3.10/posixpath.py:338(normpath)\n",
            "        7    0.000    0.000    0.000    0.000 /usr/lib/python3.10/urllib/parse.py:426(_checknetloc)\n",
            "       11    0.000    0.000    0.000    0.000 {built-in method _imp.is_frozen}\n",
            "        1    0.000    0.000    0.000    0.000 /usr/lib/python3.10/random.py:506(choices)\n",
            "        1    0.000    0.000    0.000    0.000 /usr/lib/python3.10/tempfile.py:292(__next__)\n",
            "        7    0.000    0.000    0.000    0.000 /usr/lib/python3.10/queue.py:245(_init)\n",
            "       14    0.000    0.000    0.000    0.000 /usr/local/lib/python3.10/dist-packages/urllib3/connection.py:256(is_closed)\n",
            "        7    0.000    0.000    0.000    0.000 {built-in method _socket.getdefaulttimeout}\n",
            "        1    0.000    0.000    0.000    0.000 <frozen importlib._bootstrap_external>:1343(_path_hooks)\n",
            "        2    0.000    0.000    0.000    0.000 <frozen importlib._bootstrap>:254(_requires_builtin_wrapper)\n",
            "        1    0.000    0.000    0.000    0.000 <frozen importlib._bootstrap_external>:1494(__init__)\n",
            "        1    0.000    0.000    0.000    0.000 <frozen zipimport>:64(__init__)\n",
            "        6    0.000    0.000    0.000    0.000 /usr/local/lib/python3.10/dist-packages/tqdm/utils.py:281(_screen_shape_wrapper)\n",
            "        1    0.000    0.000    0.000    0.000 /usr/lib/python3.10/multiprocessing/reduction.py:33(ForkingPickler)\n",
            "        6    0.000    0.000    0.000    0.000 {method 'difference' of 'set' objects}\n",
            "       14    0.000    0.000    0.000    0.000 {method 'end' of 're.Match' objects}\n",
            "       21    0.000    0.000    0.000    0.000 {method 'values' of 'dict' objects}\n",
            "        7    0.000    0.000    0.000    0.000 /usr/local/lib/python3.10/dist-packages/urllib3/util/response.py:79(<listcomp>)\n",
            "       16    0.000    0.000    0.000    0.000 {method 'rfind' of 'str' objects}\n",
            "        1    0.000    0.000    0.000    0.000 /usr/lib/python3.10/weakref.py:165(__setitem__)\n",
            "       14    0.000    0.000    0.000    0.000 {method '__exit__' of 'memoryview' objects}\n",
            "        2    0.000    0.000    0.000    0.000 <frozen importlib._bootstrap_external>:1182(exec_module)\n",
            "        1    0.000    0.000    0.000    0.000 /usr/lib/python3.10/multiprocessing/util.py:171(register_after_fork)\n",
            "       16    0.000    0.000    0.000    0.000 {method 'pop' of 'set' objects}\n",
            "        1    0.000    0.000    0.000    0.000 {built-in method posix.getcwd}\n",
            "        1    0.000    0.000    0.000    0.000 /usr/lib/python3.10/posixpath.py:60(isabs)\n",
            "       14    0.000    0.000    0.000    0.000 {method 'truncate' of '_io.StringIO' objects}\n",
            "        9    0.000    0.000    0.000    0.000 {method 'setter' of 'property' objects}\n",
            "        7    0.000    0.000    0.000    0.000 /usr/local/lib/python3.10/dist-packages/urllib3/connection.py:187(host)\n",
            "        7    0.000    0.000    0.000    0.000 {built-in method builtins.all}\n",
            "        3    0.000    0.000    0.000    0.000 /usr/lib/python3.10/enum.py:423(__getattr__)\n",
            "        9    0.000    0.000    0.000    0.000 /usr/lib/python3.10/enum.py:245(<genexpr>)\n",
            "        1    0.000    0.000    0.000    0.000 /usr/lib/python3.10/abc.py:105(__new__)\n",
            "        2    0.000    0.000    0.000    0.000 /usr/lib/python3.10/threading.py:545(__init__)\n",
            "       15    0.000    0.000    0.000    0.000 {method 'items' of 'mappingproxy' objects}\n",
            "        1    0.000    0.000    0.000    0.000 /usr/lib/python3.10/weakref.py:290(update)\n",
            "        7    0.000    0.000    0.000    0.000 {method 'fileno' of '_socket.socket' objects}\n",
            "        1    0.000    0.000    0.000    0.000 /usr/lib/python3.10/posixpath.py:377(abspath)\n",
            "        7    0.000    0.000    0.000    0.000 {built-in method time.monotonic}\n",
            "        1    0.000    0.000    0.000    0.000 /usr/lib/python3.10/multiprocessing/synchronize.py:114(_make_name)\n",
            "        2    0.000    0.000    0.000    0.000 <frozen importlib._bootstrap>:770(create_module)\n",
            "        7    0.000    0.000    0.000    0.000 /usr/local/lib/python3.10/dist-packages/requests/models.py:216(<genexpr>)\n",
            "        7    0.000    0.000    0.000    0.000 /usr/lib/python3.10/ssl.py:1113(_check_connected)\n",
            "        1    0.000    0.000    0.000    0.000 /usr/lib/python3.10/_weakrefset.py:37(__init__)\n",
            "        1    0.000    0.000    0.000    0.000 {built-in method posix.sysconf}\n",
            "        1    0.000    0.000    0.000    0.000 {built-in method posix.urandom}\n",
            "       15    0.000    0.000    0.000    0.000 {method 'append' of 'collections.deque' objects}\n",
            "       14    0.000    0.000    0.000    0.000 /usr/lib/python3.10/email/feedparser.py:125(__iter__)\n",
            "        1    0.000    0.000    0.000    0.000 /usr/lib/python3.10/subprocess.py:104(CalledProcessError)\n",
            "        1    0.000    0.000    0.000    0.000 <frozen importlib._bootstrap_external>:1628(path_hook_for_FileFinder)\n",
            "        1    0.000    0.000    0.000    0.000 /usr/lib/python3.10/multiprocessing/context.py:276(ForkProcess)\n",
            "        7    0.000    0.000    0.000    0.000 /usr/local/lib/python3.10/dist-packages/requests/adapters.py:399(add_headers)\n",
            "        7    0.000    0.000    0.000    0.000 {method 'getvalue' of '_io.BytesIO' objects}\n",
            "        8    0.000    0.000    0.000    0.000 {built-in method _imp._fix_co_filename}\n",
            "        7    0.000    0.000    0.000    0.000 /usr/local/lib/python3.10/dist-packages/urllib3/util/proxy.py:11(connection_requires_http_tunnel)\n",
            "        2    0.000    0.000    0.000    0.000 <frozen importlib._bootstrap_external>:1163(__init__)\n",
            "        7    0.000    0.000    0.000    0.000 /usr/lib/python3.10/threading.py:553(is_set)\n",
            "        1    0.000    0.000    0.000    0.000 /usr/lib/python3.10/multiprocessing/synchronize.py:360(Barrier)\n",
            "        7    0.000    0.000    0.000    0.000 {built-in method builtins.hash}\n",
            "        7    0.000    0.000    0.000    0.000 /usr/local/lib/python3.10/dist-packages/requests/cookies.py:87(get_new_headers)\n",
            "        1    0.000    0.000    0.000    0.000 /usr/lib/python3.10/multiprocessing/reduction.py:251(AbstractReducer)\n",
            "       12    0.000    0.000    0.000    0.000 <frozen importlib._bootstrap>:412(has_location)\n",
            "        1    0.000    0.000    0.000    0.000 /usr/lib/python3.10/threading.py:273(_release_save)\n",
            "        1    0.000    0.000    0.000    0.000 /usr/lib/python3.10/multiprocessing/synchronize.py:321(Event)\n",
            "        1    0.000    0.000    0.000    0.000 /usr/lib/python3.10/multiprocessing/synchronize.py:210(Condition)\n",
            "        1    0.000    0.000    0.000    0.000 /usr/lib/python3.10/threading.py:1301(_make_invoke_excepthook)\n",
            "        7    0.000    0.000    0.000    0.000 /usr/lib/python3.10/typing.py:1737(cast)\n",
            "        7    0.000    0.000    0.000    0.000 /usr/local/lib/python3.10/dist-packages/requests/sessions.py:453(__enter__)\n",
            "        3    0.000    0.000    0.000    0.000 /usr/lib/python3.10/enum.py:451(__members__)\n",
            "        7    0.000    0.000    0.000    0.000 /usr/local/lib/python3.10/dist-packages/urllib3/connectionpool.py:340(_validate_conn)\n",
            "        8    0.000    0.000    0.000    0.000 <frozen importlib._bootstrap_external>:1500(<genexpr>)\n",
            "        1    0.000    0.000    0.000    0.000 /usr/lib/python3.10/random.py:119(__init__)\n",
            "        7    0.000    0.000    0.000    0.000 {function socket.detach at 0x783985086710}\n",
            "        5    0.000    0.000    0.000    0.000 /usr/lib/python3.10/multiprocessing/reduction.py:43(register)\n",
            "        7    0.000    0.000    0.000    0.000 /usr/local/lib/python3.10/dist-packages/requests/utils.py:580(iter_slices)\n",
            "        1    0.000    0.000    0.000    0.000 /usr/lib/python3.10/multiprocessing/util.py:182(Finalize)\n",
            "        8    0.000    0.000    0.000    0.000 /usr/local/lib/python3.10/dist-packages/_distutils_hack/__init__.py:96(<lambda>)\n",
            "        1    0.000    0.000    0.000    0.000 /usr/lib/python3.10/threading.py:782(_newname)\n",
            "        1    0.000    0.000    0.000    0.000 /usr/lib/python3.10/multiprocessing/context.py:220(Process)\n",
            "        3    0.000    0.000    0.000    0.000 {built-in method builtins.vars}\n",
            "        8    0.000    0.000    0.000    0.000 {method 'random' of '_random.Random' objects}\n",
            "        1    0.000    0.000    0.000    0.000 /usr/lib/python3.10/subprocess.py:141(TimeoutExpired)\n",
            "        2    0.000    0.000    0.000    0.000 <frozen importlib._bootstrap>:778(exec_module)\n",
            "        6    0.000    0.000    0.000    0.000 /usr/local/lib/python3.10/dist-packages/tqdm/std.py:1302(<lambda>)\n",
            "        1    0.000    0.000    0.000    0.000 /usr/lib/python3.10/threading.py:1430(current_thread)\n",
            "        1    0.000    0.000    0.000    0.000 /usr/lib/python3.10/multiprocessing/context.py:283(SpawnProcess)\n",
            "        1    0.000    0.000    0.000    0.000 /usr/lib/python3.10/weakref.py:348(__new__)\n",
            "        7    0.000    0.000    0.000    0.000 {function HTTPResponse.flush at 0x783984f389d0}\n",
            "        8    0.000    0.000    0.000    0.000 <frozen importlib._bootstrap_external>:874(create_module)\n",
            "        1    0.000    0.000    0.000    0.000 /usr/lib/python3.10/multiprocessing/context.py:230(DefaultContext)\n",
            "        1    0.000    0.000    0.000    0.000 {built-in method posix.confstr}\n",
            "        1    0.000    0.000    0.000    0.000 /usr/lib/python3.10/weakref.py:353(__init__)\n",
            "        8    0.000    0.000    0.000    0.000 <frozen importlib._bootstrap_external>:1065(get_filename)\n",
            "        1    0.000    0.000    0.000    0.000 /usr/lib/python3.10/threading.py:1198(daemon)\n",
            "        1    0.000    0.000    0.000    0.000 /usr/lib/python3.10/multiprocessing/synchronize.py:186(__init__)\n",
            "        1    0.000    0.000    0.000    0.000 /usr/lib/python3.10/multiprocessing/process.py:364(_ParentProcess)\n",
            "        6    0.000    0.000    0.000    0.000 /usr/lib/python3.10/signal.py:48(_wraps)\n",
            "        1    0.000    0.000    0.000    0.000 {built-in method posix.getpid}\n",
            "        1    0.000    0.000    0.000    0.000 /usr/lib/python3.10/multiprocessing/context.py:203(reducer)\n",
            "        1    0.000    0.000    0.000    0.000 <frozen importlib._bootstrap_external>:164(_path_isdir)\n",
            "        1    0.000    0.000    0.000    0.000 /usr/local/lib/python3.10/dist-packages/tqdm/std.py:98(<listcomp>)\n",
            "        1    0.000    0.000    0.000    0.000 /usr/lib/python3.10/multiprocessing/util.py:368(ForkAwareThreadLock)\n",
            "        1    0.000    0.000    0.000    0.000 /usr/lib/python3.10/multiprocessing/synchronize.py:90(_make_methods)\n",
            "        1    0.000    0.000    0.000    0.000 /usr/lib/python3.10/threading.py:1183(daemon)\n",
            "        8    0.000    0.000    0.000    0.000 {built-in method math.floor}\n",
            "        1    0.000    0.000    0.000    0.000 /usr/lib/python3.10/multiprocessing/context.py:233(__init__)\n",
            "        3    0.000    0.000    0.000    0.000 {method 'mro' of 'type' objects}\n",
            "        1    0.000    0.000    0.000    0.000 /usr/lib/python3.10/multiprocessing/context.py:295(ForkServerProcess)\n",
            "        2    0.000    0.000    0.000    0.000 {built-in method atexit.register}\n",
            "        1    0.000    0.000    0.000    0.000 /usr/lib/python3.10/threading.py:276(_acquire_restore)\n",
            "        3    0.000    0.000    0.000    0.000 {built-in method builtins.globals}\n",
            "        1    0.000    0.000    0.000    0.000 /usr/lib/python3.10/multiprocessing/synchronize.py:123(Semaphore)\n",
            "        1    0.000    0.000    0.000    0.000 /usr/lib/python3.10/multiprocessing/process.py:349(AuthenticationString)\n",
            "        1    0.000    0.000    0.000    0.000 /usr/lib/python3.10/multiprocessing/util.py:385(ForkAwareLocal)\n",
            "        1    0.000    0.000    0.000    0.000 /usr/lib/python3.10/multiprocessing/context.py:237(get_context)\n",
            "        1    0.000    0.000    0.000    0.000 /usr/lib/python3.10/multiprocessing/process.py:397(_MainProcess)\n",
            "        1    0.000    0.000    0.000    0.000 /usr/lib/python3.10/multiprocessing/reduction.py:211(_C)\n",
            "        1    0.000    0.000    0.000    0.000 /usr/lib/python3.10/multiprocessing/context.py:306(SpawnContext)\n",
            "        1    0.000    0.000    0.000    0.000 /usr/lib/python3.10/multiprocessing/util.py:48(debug)\n",
            "        1    0.000    0.000    0.000    0.000 /usr/lib/python3.10/multiprocessing/context.py:197(get_start_method)\n",
            "        1    0.000    0.000    0.000    0.000 {method 'disable' of '_lsprof.Profiler' objects}\n",
            "        1    0.000    0.000    0.000    0.000 /usr/lib/python3.10/multiprocessing/context.py:310(ForkServerContext)\n",
            "        1    0.000    0.000    0.000    0.000 /usr/lib/python3.10/subprocess.py:101(SubprocessError)\n",
            "        1    0.000    0.000    0.000    0.000 /usr/lib/python3.10/multiprocessing/synchronize.py:142(BoundedSemaphore)\n",
            "        2    0.000    0.000    0.000    0.000 <frozen importlib._bootstrap>:795(is_package)\n",
            "        1    0.000    0.000    0.000    0.000 /usr/lib/python3.10/multiprocessing/synchronize.py:159(Lock)\n",
            "        1    0.000    0.000    0.000    0.000 /usr/lib/python3.10/multiprocessing/util.py:108(_platform_supports_abstract_sockets)\n",
            "        1    0.000    0.000    0.000    0.000 /usr/lib/python3.10/multiprocessing/context.py:302(ForkContext)\n",
            "        1    0.000    0.000    0.000    0.000 /usr/lib/python3.10/multiprocessing/synchronize.py:184(RLock)\n",
            "        1    0.000    0.000    0.000    0.000 /usr/lib/python3.10/multiprocessing/process.py:37(current_process)\n",
            "        1    0.000    0.000    0.000    0.000 /usr/lib/python3.10/multiprocessing/context.py:14(ProcessError)\n",
            "        1    0.000    0.000    0.000    0.000 {method 'release' of '_thread.lock' objects}\n",
            "        1    0.000    0.000    0.000    0.000 /usr/lib/python3.10/multiprocessing/context.py:17(BufferTooShort)\n",
            "        1    0.000    0.000    0.000    0.000 /usr/lib/python3.10/multiprocessing/context.py:20(TimeoutError)\n",
            "\n",
            "\n",
            "CPU times: user 263 ms, sys: 24.7 ms, total: 288 ms\n",
            "Wall time: 18.5 s\n"
          ]
        }
      ]
    },
    {
      "cell_type": "code",
      "execution_count": 10,
      "metadata": {
        "id": "mTn_GUPzUbdE"
      },
      "outputs": [],
      "source": [
        "import requests\n",
        "from tqdm import tqdm as ProgressDisplay\n",
        "from itertools import product\n",
        "from math import log\n",
        "from requests.packages.urllib3.exceptions import InsecureRequestWarning\n",
        "import numpy as np\n",
        "\n",
        "# Disable InsecureRequestWarning\n",
        "requests.packages.urllib3.disable_warnings(InsecureRequestWarning)"
      ]
    },
    {
      "cell_type": "code",
      "execution_count": 11,
      "metadata": {
        "id": "MSA5asiHgYU8"
      },
      "outputs": [],
      "source": [
        "from english_words import get_english_words_set\n",
        "web2lowerset = get_english_words_set(['web2'], lower=True, alpha =False) # gcide / web2\n",
        "web2lowerset = list(web2lowerset)"
      ]
    },
    {
      "cell_type": "code",
      "execution_count": 12,
      "metadata": {
        "id": "JRon20re7UgG"
      },
      "outputs": [],
      "source": [
        "common_letter_rank = \"etaonrishdlfcmugypwbvkjxzq\"\n",
        "ground_truth = {\"absent\": 0, \"present\": 1, \"correct\": 2}"
      ]
    },
    {
      "cell_type": "code",
      "execution_count": 13,
      "metadata": {
        "id": "zWER3TZRNp_F"
      },
      "outputs": [],
      "source": [
        "def check_answer(text, size, seed):\n",
        "  wordle_url =  f\"https://wordle.votee.dev:8000/random?guess={text}&seed={seed}&size={size}\"\n",
        "  r = requests.get(wordle_url, verify = False)\n",
        "  result = [check[\"result\"] for check in r.json()]\n",
        "  return result"
      ]
    },
    {
      "cell_type": "code",
      "execution_count": 14,
      "metadata": {
        "colab": {
          "base_uri": "https://localhost:8080/"
        },
        "id": "MuxUotfCOUac",
        "outputId": "7ccbada5-c9d0-4430-e7d3-cb32b7ac8d07"
      },
      "outputs": [
        {
          "output_type": "execute_result",
          "data": {
            "text/plain": [
              "['correct', 'correct', 'correct', 'correct', 'absent']"
            ]
          },
          "metadata": {},
          "execution_count": 14
        }
      ],
      "source": [
        "ground_truth_list = check_answer(text = \"thefo\",seed = 1234, size = 5)\n",
        "ground_truth_list"
      ]
    },
    {
      "cell_type": "code",
      "execution_count": 15,
      "metadata": {
        "id": "SOh8QsYGfQLQ"
      },
      "outputs": [],
      "source": [
        "def get_char_counts(text):\n",
        "  char_counts = dict()\n",
        "  characters = list(set(text))\n",
        "  for char in text:\n",
        "    if char not in char_counts.keys():\n",
        "      char_counts[char] = 1\n",
        "      continue\n",
        "    char_counts[char] += 1\n",
        "  return char_counts"
      ]
    },
    {
      "cell_type": "code",
      "source": [
        "# 18s\n",
        "def get_remain_words_list(guess_text: str,\n",
        "                          ground_truth_list: np.ndarray,\n",
        "                          all_text: list[str],\n",
        "                          allowed_words_list: np.ndarray) -> np.ndarray:\n",
        "  for i, word in enumerate(allowed_words_list):\n",
        "    if word:\n",
        "      for j in range(len(ground_truth_list)): # \"absent\": 0, \"present\": 1, \"correct\": 2\n",
        "        if (ground_truth_list[j] == 1 and guess_text[j] not in all_text[i]) or \\\n",
        "        (ground_truth_list[j] == 0 and guess_text[j] in all_text[i]) or \\\n",
        "        (ground_truth_list[j] == 2 and guess_text[j] != all_text[i][j]):\n",
        "          allowed_words_list[i] = 0\n",
        "\n",
        "  return allowed_words_list\n"
      ],
      "metadata": {
        "id": "z4i9L9ROR6HN"
      },
      "execution_count": 72,
      "outputs": []
    },
    {
      "cell_type": "code",
      "source": [
        "%%time\n",
        "allowed_text_1 = []\n",
        "\n",
        "for text in web2lowerset:\n",
        "  if len(text) == 5:\n",
        "    allowed_text_1.append(text)\n",
        "\n",
        "ans = get_remain_words_list(\"tfyao\", [2,1,0,0,0],allowed_text_1,np.ones(len(allowed_text_1)))\n"
      ],
      "metadata": {
        "colab": {
          "base_uri": "https://localhost:8080/"
        },
        "id": "BQAjIXlOq57v",
        "outputId": "c351605b-b2b8-4ca5-90f4-6e5c6c9223be"
      },
      "execution_count": 73,
      "outputs": [
        {
          "output_type": "stream",
          "name": "stdout",
          "text": [
            "CPU times: user 97.6 ms, sys: 0 ns, total: 97.6 ms\n",
            "Wall time: 100 ms\n"
          ]
        }
      ]
    },
    {
      "cell_type": "code",
      "source": [
        "for i in range(len(ans)):\n",
        "  if ans[i]:\n",
        "    print(allowed_text_1[i])"
      ],
      "metadata": {
        "colab": {
          "base_uri": "https://localhost:8080/"
        },
        "id": "JVGPVzi9rrSv",
        "outputId": "217433c1-b605-43e9-b21b-e379ee019bfc"
      },
      "execution_count": 74,
      "outputs": [
        {
          "output_type": "stream",
          "name": "stdout",
          "text": [
            "theft\n",
            "thief\n",
            "truff\n"
          ]
        }
      ]
    },
    {
      "cell_type": "code",
      "source": [
        "# 24s\n",
        "def get_remain_words_list(text, ground_truth_list, allowed_words_list):\n",
        "\n",
        "  remain_list = []\n",
        "  allowed_words_list = set(allowed_words_list)\n",
        "  for word in allowed_words_list:\n",
        "    check_condition = True\n",
        "    for i, ground_truth in enumerate(ground_truth_list):\n",
        "      if (ground_truth == \"present\" and text[i] not in word) or \\\n",
        "      (ground_truth == \"absent\" and text[i] in word) or \\\n",
        "      (ground_truth == \"correct\" and text[i] != word[i]):\n",
        "        check_condition = False\n",
        "\n",
        "    if check_condition == True:\n",
        "      remain_list.append(word)\n",
        "  return remain_list"
      ],
      "metadata": {
        "id": "EOetaNVO8cDy"
      },
      "execution_count": 75,
      "outputs": []
    },
    {
      "cell_type": "code",
      "source": [
        "%%time\n",
        "allowed_text_1 = []\n",
        "\n",
        "for text in web2lowerset:\n",
        "  if len(text) == 5:\n",
        "    allowed_text_1.append(text)\n",
        "\n",
        "ground_truth_list = ['correct', 'present', 'absent', 'absent', 'absent']\n",
        "get_remain_words_list(\"tfyao\", ground_truth_list, allowed_text_1)"
      ],
      "metadata": {
        "colab": {
          "base_uri": "https://localhost:8080/"
        },
        "id": "TEc-P8FHp2RB",
        "outputId": "6aa8fcdd-ac67-407c-f062-8f1888bb83d3"
      },
      "execution_count": 76,
      "outputs": [
        {
          "output_type": "stream",
          "name": "stdout",
          "text": [
            "CPU times: user 93.4 ms, sys: 0 ns, total: 93.4 ms\n",
            "Wall time: 94.4 ms\n"
          ]
        },
        {
          "output_type": "execute_result",
          "data": {
            "text/plain": [
              "['truff', 'thief', 'theft']"
            ]
          },
          "metadata": {},
          "execution_count": 76
        }
      ]
    },
    {
      "cell_type": "code",
      "execution_count": 68,
      "metadata": {
        "id": "eYjw82o1e2Gj"
      },
      "outputs": [],
      "source": [
        "def calculate_entropy(text, all_text: list[str], allowed_words_list, text_size):\n",
        "\n",
        "  possible_comnination = np.array(list(product(*[[0 ,1 ,2]]*text_size)),dtype=int) # \"absent\": 0, \"present\": 1, \"correct\": 2,\n",
        "  entropy = 0\n",
        "  for comnination in possible_comnination:\n",
        "    # print(text)\n",
        "    # temp = allowed_words_list.copy()\n",
        "    remain_words = get_remain_words_list(guess_text = text, ground_truth_list = comnination, all_text = all_text, allowed_words_list = allowed_words_list)\n",
        "    # print(\"remain_words: \", remain_words.sum())\n",
        "    if remain_words.sum() > 0:\n",
        "      px = remain_words.sum() / allowed_words_list.sum()\n",
        "      information = log(1/px, 2)\n",
        "      entropy += px*information\n",
        "  return entropy\n"
      ]
    },
    {
      "cell_type": "code",
      "execution_count": 19,
      "metadata": {
        "id": "mJSYyIKc56pr"
      },
      "outputs": [],
      "source": [
        "def get_best_guess(all_text: list[str], remain_words: np.ndarray, text_size: int) -> float:\n",
        "  max_entropy_index = -1\n",
        "  max_entropy = 0\n",
        "  for i in ProgressDisplay(range(len(remain_words))):\n",
        "    if remain_words[i] == 1:\n",
        "      entropy = calculate_entropy(all_text[i], all_text, remain_words, text_size)\n",
        "      if max_entropy < entropy:\n",
        "        max_entropy = entropy\n",
        "        max_entropy_index = i\n",
        "  return max_entropy_index\n"
      ]
    },
    {
      "cell_type": "code",
      "execution_count": 20,
      "metadata": {
        "id": "IlK1fXqX8HS3"
      },
      "outputs": [],
      "source": [
        "def guess_result(inital_guess: str, all_text: list[str], allowed_words_list: np.ndarray, text_size: int, seed: int) -> str:\n",
        "  if allowed_words_list.sum() == 1:\n",
        "    return all_text[list(np.where(allowed_words_list == 1))[0][0]]\n",
        "  # while len(allowed_words_list) > 1 and found_word == False:\n",
        "  # best_guess = max(dict_guess, key=dict_guess.get)\n",
        "\n",
        "\n",
        "  ground_truth_list = check_answer(inital_guess, text_size, seed)\n",
        "  print(\"\\ninital_guess: \",inital_guess)\n",
        "  print(\"ground_truth_list: \",ground_truth_list)\n",
        "\n",
        "  # \"absent\": 0, \"present\": 1, \"correct\": 2\n",
        "  ground_truth_list = np.array([ground_truth[i] for i in ground_truth_list],dtype=int)\n",
        "\n",
        "  if ground_truth_list.sum() == int(2*text_size):\n",
        "    return inital_guess\n",
        "  else:\n",
        "    remain_words = get_remain_words_list(guess_text = inital_guess, ground_truth_list = ground_truth_list, all_text = all_text, allowed_words_list = allowed_words_list)\n",
        "    max_entropy_index = get_best_guess(all_text = all_text, remain_words = remain_words, text_size = text_size)\n",
        "    best_guess = all_text[max_entropy_index]\n",
        "    remain_words[max_entropy_index] = 0\n",
        "    return guess_result(best_guess, all_text, remain_words, text_size, seed)"
      ]
    },
    {
      "cell_type": "code",
      "execution_count": 21,
      "metadata": {
        "id": "zfVsAx0QBmHM"
      },
      "outputs": [],
      "source": [
        "def wordle_bot(size, seed):\n",
        "  all_text = []\n",
        "\n",
        "  for i, text in enumerate(web2lowerset):\n",
        "    if len(text) == size:\n",
        "      all_text.append(text)\n",
        "  allowed_text = np.ones(len(all_text),dtype=int)\n",
        "\n",
        "  answer = guess_result(inital_guess = common_letter_rank[:size], all_text = all_text, allowed_words_list = allowed_text, text_size = size, seed = seed)\n",
        "  return answer"
      ]
    },
    {
      "cell_type": "code",
      "execution_count": 24,
      "metadata": {
        "colab": {
          "base_uri": "https://localhost:8080/",
          "height": 1000
        },
        "id": "BqOsAj9L4y-B",
        "outputId": "23f04256-a64c-4e5b-82ff-2b30d9c7c18e"
      },
      "outputs": [
        {
          "output_type": "stream",
          "name": "stdout",
          "text": [
            "\n",
            "inital_guess:  etao\n",
            "ground_truth_list:  ['present', 'absent', 'present', 'absent']\n"
          ]
        },
        {
          "output_type": "stream",
          "name": "stderr",
          "text": [
            "100%|██████████| 5006/5006 [00:00<00:00, 97331.25it/s]\n"
          ]
        },
        {
          "output_type": "stream",
          "name": "stdout",
          "text": [
            "\n",
            "inital_guess:  bogy\n",
            "ground_truth_list:  ['absent', 'absent', 'absent', 'absent']\n"
          ]
        },
        {
          "output_type": "stream",
          "name": "stderr",
          "text": [
            "100%|██████████| 5006/5006 [00:00<00:00, 1122157.33it/s]\n"
          ]
        },
        {
          "output_type": "stream",
          "name": "stdout",
          "text": [
            "\n",
            "inital_guess:  bogy\n",
            "ground_truth_list:  ['absent', 'absent', 'absent', 'absent']\n"
          ]
        },
        {
          "output_type": "stream",
          "name": "stderr",
          "text": [
            "100%|██████████| 5006/5006 [00:00<00:00, 1273298.11it/s]\n"
          ]
        },
        {
          "output_type": "stream",
          "name": "stdout",
          "text": [
            "\n",
            "inital_guess:  bogy\n",
            "ground_truth_list:  ['absent', 'absent', 'absent', 'absent']\n"
          ]
        },
        {
          "output_type": "stream",
          "name": "stderr",
          "text": [
            "100%|██████████| 5006/5006 [00:00<00:00, 883141.36it/s]\n"
          ]
        },
        {
          "output_type": "stream",
          "name": "stdout",
          "text": [
            "\n",
            "inital_guess:  bogy\n",
            "ground_truth_list:  ['absent', 'absent', 'absent', 'absent']\n"
          ]
        },
        {
          "output_type": "stream",
          "name": "stderr",
          "text": [
            "100%|██████████| 5006/5006 [00:00<00:00, 636610.45it/s]\n"
          ]
        },
        {
          "output_type": "stream",
          "name": "stdout",
          "text": [
            "\n",
            "inital_guess:  bogy\n",
            "ground_truth_list:  ['absent', 'absent', 'absent', 'absent']\n"
          ]
        },
        {
          "output_type": "stream",
          "name": "stderr",
          "text": [
            "100%|██████████| 5006/5006 [00:00<00:00, 625348.04it/s]\n"
          ]
        },
        {
          "output_type": "stream",
          "name": "stdout",
          "text": [
            "\n",
            "inital_guess:  bogy\n",
            "ground_truth_list:  ['absent', 'absent', 'absent', 'absent']\n"
          ]
        },
        {
          "output_type": "stream",
          "name": "stderr",
          "text": [
            "100%|██████████| 5006/5006 [00:00<00:00, 793855.56it/s]\n"
          ]
        },
        {
          "output_type": "stream",
          "name": "stdout",
          "text": [
            "\n",
            "inital_guess:  bogy\n",
            "ground_truth_list:  ['absent', 'absent', 'absent', 'absent']\n"
          ]
        },
        {
          "output_type": "stream",
          "name": "stderr",
          "text": [
            "100%|██████████| 5006/5006 [00:00<00:00, 960024.04it/s]\n"
          ]
        },
        {
          "output_type": "stream",
          "name": "stdout",
          "text": [
            "\n",
            "inital_guess:  bogy\n",
            "ground_truth_list:  ['absent', 'absent', 'absent', 'absent']\n"
          ]
        },
        {
          "output_type": "stream",
          "name": "stderr",
          "text": [
            "100%|██████████| 5006/5006 [00:00<00:00, 1159397.34it/s]\n"
          ]
        },
        {
          "output_type": "stream",
          "name": "stdout",
          "text": [
            "\n",
            "inital_guess:  bogy\n",
            "ground_truth_list:  ['absent', 'absent', 'absent', 'absent']\n"
          ]
        },
        {
          "output_type": "stream",
          "name": "stderr",
          "text": [
            "100%|██████████| 5006/5006 [00:00<00:00, 1302928.07it/s]\n"
          ]
        },
        {
          "output_type": "stream",
          "name": "stdout",
          "text": [
            "\n",
            "inital_guess:  bogy\n",
            "ground_truth_list:  ['absent', 'absent', 'absent', 'absent']\n"
          ]
        },
        {
          "output_type": "stream",
          "name": "stderr",
          "text": [
            "100%|██████████| 5006/5006 [00:00<00:00, 1357251.83it/s]\n"
          ]
        },
        {
          "output_type": "stream",
          "name": "stdout",
          "text": [
            "\n",
            "inital_guess:  bogy\n",
            "ground_truth_list:  ['absent', 'absent', 'absent', 'absent']\n"
          ]
        },
        {
          "output_type": "stream",
          "name": "stderr",
          "text": [
            "100%|██████████| 5006/5006 [00:00<00:00, 1151007.88it/s]\n"
          ]
        },
        {
          "output_type": "stream",
          "name": "stdout",
          "text": [
            "\n",
            "inital_guess:  bogy\n",
            "ground_truth_list:  ['absent', 'absent', 'absent', 'absent']\n"
          ]
        },
        {
          "output_type": "stream",
          "name": "stderr",
          "text": [
            "100%|██████████| 5006/5006 [00:00<00:00, 1581313.89it/s]\n"
          ]
        },
        {
          "output_type": "stream",
          "name": "stdout",
          "text": [
            "\n",
            "inital_guess:  bogy\n",
            "ground_truth_list:  ['absent', 'absent', 'absent', 'absent']\n"
          ]
        },
        {
          "output_type": "stream",
          "name": "stderr",
          "text": [
            "100%|██████████| 5006/5006 [00:00<00:00, 884890.67it/s]\n"
          ]
        },
        {
          "output_type": "stream",
          "name": "stdout",
          "text": [
            "\n",
            "inital_guess:  bogy\n",
            "ground_truth_list:  ['absent', 'absent', 'absent', 'absent']\n"
          ]
        },
        {
          "output_type": "stream",
          "name": "stderr",
          "text": [
            "100%|██████████| 5006/5006 [00:00<00:00, 993596.72it/s]\n"
          ]
        },
        {
          "output_type": "stream",
          "name": "stdout",
          "text": [
            "\n",
            "inital_guess:  bogy\n",
            "ground_truth_list:  ['absent', 'absent', 'absent', 'absent']\n"
          ]
        },
        {
          "output_type": "stream",
          "name": "stderr",
          "text": [
            "100%|██████████| 5006/5006 [00:00<00:00, 1203110.58it/s]\n"
          ]
        },
        {
          "output_type": "stream",
          "name": "stdout",
          "text": [
            "\n",
            "inital_guess:  bogy\n",
            "ground_truth_list:  ['absent', 'absent', 'absent', 'absent']\n"
          ]
        },
        {
          "output_type": "stream",
          "name": "stderr",
          "text": [
            "100%|██████████| 5006/5006 [00:00<00:00, 783926.44it/s]\n"
          ]
        },
        {
          "output_type": "stream",
          "name": "stdout",
          "text": [
            "\n",
            "inital_guess:  bogy\n",
            "ground_truth_list:  ['absent', 'absent', 'absent', 'absent']\n"
          ]
        },
        {
          "output_type": "stream",
          "name": "stderr",
          "text": [
            "100%|██████████| 5006/5006 [00:00<00:00, 518372.69it/s]\n"
          ]
        },
        {
          "output_type": "stream",
          "name": "stdout",
          "text": [
            "\n",
            "inital_guess:  bogy\n",
            "ground_truth_list:  ['absent', 'absent', 'absent', 'absent']\n"
          ]
        },
        {
          "output_type": "stream",
          "name": "stderr",
          "text": [
            "100%|██████████| 5006/5006 [00:00<00:00, 489627.26it/s]\n"
          ]
        },
        {
          "output_type": "error",
          "ename": "KeyboardInterrupt",
          "evalue": "ignored",
          "traceback": [
            "\u001b[0;31m---------------------------------------------------------------------------\u001b[0m",
            "\u001b[0;31mKeyboardInterrupt\u001b[0m                         Traceback (most recent call last)",
            "\u001b[0;32m<timed exec>\u001b[0m in \u001b[0;36m<module>\u001b[0;34m\u001b[0m\n",
            "\u001b[0;32m<ipython-input-21-d6cc7c57aa4e>\u001b[0m in \u001b[0;36mwordle_bot\u001b[0;34m(size, seed)\u001b[0m\n\u001b[1;32m      7\u001b[0m   \u001b[0mallowed_text\u001b[0m \u001b[0;34m=\u001b[0m \u001b[0mnp\u001b[0m\u001b[0;34m.\u001b[0m\u001b[0mones\u001b[0m\u001b[0;34m(\u001b[0m\u001b[0mlen\u001b[0m\u001b[0;34m(\u001b[0m\u001b[0mall_text\u001b[0m\u001b[0;34m)\u001b[0m\u001b[0;34m,\u001b[0m\u001b[0mdtype\u001b[0m\u001b[0;34m=\u001b[0m\u001b[0mint\u001b[0m\u001b[0;34m)\u001b[0m\u001b[0;34m\u001b[0m\u001b[0;34m\u001b[0m\u001b[0m\n\u001b[1;32m      8\u001b[0m \u001b[0;34m\u001b[0m\u001b[0m\n\u001b[0;32m----> 9\u001b[0;31m   \u001b[0manswer\u001b[0m \u001b[0;34m=\u001b[0m \u001b[0mguess_result\u001b[0m\u001b[0;34m(\u001b[0m\u001b[0minital_guess\u001b[0m \u001b[0;34m=\u001b[0m \u001b[0mcommon_letter_rank\u001b[0m\u001b[0;34m[\u001b[0m\u001b[0;34m:\u001b[0m\u001b[0msize\u001b[0m\u001b[0;34m]\u001b[0m\u001b[0;34m,\u001b[0m \u001b[0mall_text\u001b[0m \u001b[0;34m=\u001b[0m \u001b[0mall_text\u001b[0m\u001b[0;34m,\u001b[0m \u001b[0mallowed_words_list\u001b[0m \u001b[0;34m=\u001b[0m \u001b[0mallowed_text\u001b[0m\u001b[0;34m,\u001b[0m \u001b[0mtext_size\u001b[0m \u001b[0;34m=\u001b[0m \u001b[0msize\u001b[0m\u001b[0;34m,\u001b[0m \u001b[0mseed\u001b[0m \u001b[0;34m=\u001b[0m \u001b[0mseed\u001b[0m\u001b[0;34m)\u001b[0m\u001b[0;34m\u001b[0m\u001b[0;34m\u001b[0m\u001b[0m\n\u001b[0m\u001b[1;32m     10\u001b[0m   \u001b[0;32mreturn\u001b[0m \u001b[0manswer\u001b[0m\u001b[0;34m\u001b[0m\u001b[0;34m\u001b[0m\u001b[0m\n",
            "\u001b[0;32m<ipython-input-20-3177ad0a204e>\u001b[0m in \u001b[0;36mguess_result\u001b[0;34m(inital_guess, all_text, allowed_words_list, text_size, seed)\u001b[0m\n\u001b[1;32m     20\u001b[0m     \u001b[0mbest_guess\u001b[0m \u001b[0;34m=\u001b[0m \u001b[0mall_text\u001b[0m\u001b[0;34m[\u001b[0m\u001b[0mmax_entropy_index\u001b[0m\u001b[0;34m]\u001b[0m\u001b[0;34m\u001b[0m\u001b[0;34m\u001b[0m\u001b[0m\n\u001b[1;32m     21\u001b[0m     \u001b[0mremain_words\u001b[0m\u001b[0;34m[\u001b[0m\u001b[0mmax_entropy_index\u001b[0m\u001b[0;34m]\u001b[0m \u001b[0;34m=\u001b[0m \u001b[0;36m0\u001b[0m\u001b[0;34m\u001b[0m\u001b[0;34m\u001b[0m\u001b[0m\n\u001b[0;32m---> 22\u001b[0;31m     \u001b[0;32mreturn\u001b[0m \u001b[0mguess_result\u001b[0m\u001b[0;34m(\u001b[0m\u001b[0mbest_guess\u001b[0m\u001b[0;34m,\u001b[0m \u001b[0mall_text\u001b[0m\u001b[0;34m,\u001b[0m \u001b[0mremain_words\u001b[0m\u001b[0;34m,\u001b[0m \u001b[0mtext_size\u001b[0m\u001b[0;34m,\u001b[0m \u001b[0mseed\u001b[0m\u001b[0;34m)\u001b[0m\u001b[0;34m\u001b[0m\u001b[0;34m\u001b[0m\u001b[0m\n\u001b[0m",
            "\u001b[0;32m<ipython-input-20-3177ad0a204e>\u001b[0m in \u001b[0;36mguess_result\u001b[0;34m(inital_guess, all_text, allowed_words_list, text_size, seed)\u001b[0m\n\u001b[1;32m     20\u001b[0m     \u001b[0mbest_guess\u001b[0m \u001b[0;34m=\u001b[0m \u001b[0mall_text\u001b[0m\u001b[0;34m[\u001b[0m\u001b[0mmax_entropy_index\u001b[0m\u001b[0;34m]\u001b[0m\u001b[0;34m\u001b[0m\u001b[0;34m\u001b[0m\u001b[0m\n\u001b[1;32m     21\u001b[0m     \u001b[0mremain_words\u001b[0m\u001b[0;34m[\u001b[0m\u001b[0mmax_entropy_index\u001b[0m\u001b[0;34m]\u001b[0m \u001b[0;34m=\u001b[0m \u001b[0;36m0\u001b[0m\u001b[0;34m\u001b[0m\u001b[0;34m\u001b[0m\u001b[0m\n\u001b[0;32m---> 22\u001b[0;31m     \u001b[0;32mreturn\u001b[0m \u001b[0mguess_result\u001b[0m\u001b[0;34m(\u001b[0m\u001b[0mbest_guess\u001b[0m\u001b[0;34m,\u001b[0m \u001b[0mall_text\u001b[0m\u001b[0;34m,\u001b[0m \u001b[0mremain_words\u001b[0m\u001b[0;34m,\u001b[0m \u001b[0mtext_size\u001b[0m\u001b[0;34m,\u001b[0m \u001b[0mseed\u001b[0m\u001b[0;34m)\u001b[0m\u001b[0;34m\u001b[0m\u001b[0;34m\u001b[0m\u001b[0m\n\u001b[0m",
            "\u001b[0;32m<ipython-input-20-3177ad0a204e>\u001b[0m in \u001b[0;36mguess_result\u001b[0;34m(inital_guess, all_text, allowed_words_list, text_size, seed)\u001b[0m\n\u001b[1;32m     20\u001b[0m     \u001b[0mbest_guess\u001b[0m \u001b[0;34m=\u001b[0m \u001b[0mall_text\u001b[0m\u001b[0;34m[\u001b[0m\u001b[0mmax_entropy_index\u001b[0m\u001b[0;34m]\u001b[0m\u001b[0;34m\u001b[0m\u001b[0;34m\u001b[0m\u001b[0m\n\u001b[1;32m     21\u001b[0m     \u001b[0mremain_words\u001b[0m\u001b[0;34m[\u001b[0m\u001b[0mmax_entropy_index\u001b[0m\u001b[0;34m]\u001b[0m \u001b[0;34m=\u001b[0m \u001b[0;36m0\u001b[0m\u001b[0;34m\u001b[0m\u001b[0;34m\u001b[0m\u001b[0m\n\u001b[0;32m---> 22\u001b[0;31m     \u001b[0;32mreturn\u001b[0m \u001b[0mguess_result\u001b[0m\u001b[0;34m(\u001b[0m\u001b[0mbest_guess\u001b[0m\u001b[0;34m,\u001b[0m \u001b[0mall_text\u001b[0m\u001b[0;34m,\u001b[0m \u001b[0mremain_words\u001b[0m\u001b[0;34m,\u001b[0m \u001b[0mtext_size\u001b[0m\u001b[0;34m,\u001b[0m \u001b[0mseed\u001b[0m\u001b[0;34m)\u001b[0m\u001b[0;34m\u001b[0m\u001b[0;34m\u001b[0m\u001b[0m\n\u001b[0m",
            "\u001b[0;32m<ipython-input-20-3177ad0a204e>\u001b[0m in \u001b[0;36mguess_result\u001b[0;34m(inital_guess, all_text, allowed_words_list, text_size, seed)\u001b[0m\n\u001b[1;32m     20\u001b[0m     \u001b[0mbest_guess\u001b[0m \u001b[0;34m=\u001b[0m \u001b[0mall_text\u001b[0m\u001b[0;34m[\u001b[0m\u001b[0mmax_entropy_index\u001b[0m\u001b[0;34m]\u001b[0m\u001b[0;34m\u001b[0m\u001b[0;34m\u001b[0m\u001b[0m\n\u001b[1;32m     21\u001b[0m     \u001b[0mremain_words\u001b[0m\u001b[0;34m[\u001b[0m\u001b[0mmax_entropy_index\u001b[0m\u001b[0;34m]\u001b[0m \u001b[0;34m=\u001b[0m \u001b[0;36m0\u001b[0m\u001b[0;34m\u001b[0m\u001b[0;34m\u001b[0m\u001b[0m\n\u001b[0;32m---> 22\u001b[0;31m     \u001b[0;32mreturn\u001b[0m \u001b[0mguess_result\u001b[0m\u001b[0;34m(\u001b[0m\u001b[0mbest_guess\u001b[0m\u001b[0;34m,\u001b[0m \u001b[0mall_text\u001b[0m\u001b[0;34m,\u001b[0m \u001b[0mremain_words\u001b[0m\u001b[0;34m,\u001b[0m \u001b[0mtext_size\u001b[0m\u001b[0;34m,\u001b[0m \u001b[0mseed\u001b[0m\u001b[0;34m)\u001b[0m\u001b[0;34m\u001b[0m\u001b[0;34m\u001b[0m\u001b[0m\n\u001b[0m",
            "\u001b[0;32m<ipython-input-20-3177ad0a204e>\u001b[0m in \u001b[0;36mguess_result\u001b[0;34m(inital_guess, all_text, allowed_words_list, text_size, seed)\u001b[0m\n\u001b[1;32m     20\u001b[0m     \u001b[0mbest_guess\u001b[0m \u001b[0;34m=\u001b[0m \u001b[0mall_text\u001b[0m\u001b[0;34m[\u001b[0m\u001b[0mmax_entropy_index\u001b[0m\u001b[0;34m]\u001b[0m\u001b[0;34m\u001b[0m\u001b[0;34m\u001b[0m\u001b[0m\n\u001b[1;32m     21\u001b[0m     \u001b[0mremain_words\u001b[0m\u001b[0;34m[\u001b[0m\u001b[0mmax_entropy_index\u001b[0m\u001b[0;34m]\u001b[0m \u001b[0;34m=\u001b[0m \u001b[0;36m0\u001b[0m\u001b[0;34m\u001b[0m\u001b[0;34m\u001b[0m\u001b[0m\n\u001b[0;32m---> 22\u001b[0;31m     \u001b[0;32mreturn\u001b[0m \u001b[0mguess_result\u001b[0m\u001b[0;34m(\u001b[0m\u001b[0mbest_guess\u001b[0m\u001b[0;34m,\u001b[0m \u001b[0mall_text\u001b[0m\u001b[0;34m,\u001b[0m \u001b[0mremain_words\u001b[0m\u001b[0;34m,\u001b[0m \u001b[0mtext_size\u001b[0m\u001b[0;34m,\u001b[0m \u001b[0mseed\u001b[0m\u001b[0;34m)\u001b[0m\u001b[0;34m\u001b[0m\u001b[0;34m\u001b[0m\u001b[0m\n\u001b[0m",
            "\u001b[0;32m<ipython-input-20-3177ad0a204e>\u001b[0m in \u001b[0;36mguess_result\u001b[0;34m(inital_guess, all_text, allowed_words_list, text_size, seed)\u001b[0m\n\u001b[1;32m     20\u001b[0m     \u001b[0mbest_guess\u001b[0m \u001b[0;34m=\u001b[0m \u001b[0mall_text\u001b[0m\u001b[0;34m[\u001b[0m\u001b[0mmax_entropy_index\u001b[0m\u001b[0;34m]\u001b[0m\u001b[0;34m\u001b[0m\u001b[0;34m\u001b[0m\u001b[0m\n\u001b[1;32m     21\u001b[0m     \u001b[0mremain_words\u001b[0m\u001b[0;34m[\u001b[0m\u001b[0mmax_entropy_index\u001b[0m\u001b[0;34m]\u001b[0m \u001b[0;34m=\u001b[0m \u001b[0;36m0\u001b[0m\u001b[0;34m\u001b[0m\u001b[0;34m\u001b[0m\u001b[0m\n\u001b[0;32m---> 22\u001b[0;31m     \u001b[0;32mreturn\u001b[0m \u001b[0mguess_result\u001b[0m\u001b[0;34m(\u001b[0m\u001b[0mbest_guess\u001b[0m\u001b[0;34m,\u001b[0m \u001b[0mall_text\u001b[0m\u001b[0;34m,\u001b[0m \u001b[0mremain_words\u001b[0m\u001b[0;34m,\u001b[0m \u001b[0mtext_size\u001b[0m\u001b[0;34m,\u001b[0m \u001b[0mseed\u001b[0m\u001b[0;34m)\u001b[0m\u001b[0;34m\u001b[0m\u001b[0;34m\u001b[0m\u001b[0m\n\u001b[0m",
            "\u001b[0;32m<ipython-input-20-3177ad0a204e>\u001b[0m in \u001b[0;36mguess_result\u001b[0;34m(inital_guess, all_text, allowed_words_list, text_size, seed)\u001b[0m\n\u001b[1;32m     20\u001b[0m     \u001b[0mbest_guess\u001b[0m \u001b[0;34m=\u001b[0m \u001b[0mall_text\u001b[0m\u001b[0;34m[\u001b[0m\u001b[0mmax_entropy_index\u001b[0m\u001b[0;34m]\u001b[0m\u001b[0;34m\u001b[0m\u001b[0;34m\u001b[0m\u001b[0m\n\u001b[1;32m     21\u001b[0m     \u001b[0mremain_words\u001b[0m\u001b[0;34m[\u001b[0m\u001b[0mmax_entropy_index\u001b[0m\u001b[0;34m]\u001b[0m \u001b[0;34m=\u001b[0m \u001b[0;36m0\u001b[0m\u001b[0;34m\u001b[0m\u001b[0;34m\u001b[0m\u001b[0m\n\u001b[0;32m---> 22\u001b[0;31m     \u001b[0;32mreturn\u001b[0m \u001b[0mguess_result\u001b[0m\u001b[0;34m(\u001b[0m\u001b[0mbest_guess\u001b[0m\u001b[0;34m,\u001b[0m \u001b[0mall_text\u001b[0m\u001b[0;34m,\u001b[0m \u001b[0mremain_words\u001b[0m\u001b[0;34m,\u001b[0m \u001b[0mtext_size\u001b[0m\u001b[0;34m,\u001b[0m \u001b[0mseed\u001b[0m\u001b[0;34m)\u001b[0m\u001b[0;34m\u001b[0m\u001b[0;34m\u001b[0m\u001b[0m\n\u001b[0m",
            "\u001b[0;32m<ipython-input-20-3177ad0a204e>\u001b[0m in \u001b[0;36mguess_result\u001b[0;34m(inital_guess, all_text, allowed_words_list, text_size, seed)\u001b[0m\n\u001b[1;32m     20\u001b[0m     \u001b[0mbest_guess\u001b[0m \u001b[0;34m=\u001b[0m \u001b[0mall_text\u001b[0m\u001b[0;34m[\u001b[0m\u001b[0mmax_entropy_index\u001b[0m\u001b[0;34m]\u001b[0m\u001b[0;34m\u001b[0m\u001b[0;34m\u001b[0m\u001b[0m\n\u001b[1;32m     21\u001b[0m     \u001b[0mremain_words\u001b[0m\u001b[0;34m[\u001b[0m\u001b[0mmax_entropy_index\u001b[0m\u001b[0;34m]\u001b[0m \u001b[0;34m=\u001b[0m \u001b[0;36m0\u001b[0m\u001b[0;34m\u001b[0m\u001b[0;34m\u001b[0m\u001b[0m\n\u001b[0;32m---> 22\u001b[0;31m     \u001b[0;32mreturn\u001b[0m \u001b[0mguess_result\u001b[0m\u001b[0;34m(\u001b[0m\u001b[0mbest_guess\u001b[0m\u001b[0;34m,\u001b[0m \u001b[0mall_text\u001b[0m\u001b[0;34m,\u001b[0m \u001b[0mremain_words\u001b[0m\u001b[0;34m,\u001b[0m \u001b[0mtext_size\u001b[0m\u001b[0;34m,\u001b[0m \u001b[0mseed\u001b[0m\u001b[0;34m)\u001b[0m\u001b[0;34m\u001b[0m\u001b[0;34m\u001b[0m\u001b[0m\n\u001b[0m",
            "\u001b[0;32m<ipython-input-20-3177ad0a204e>\u001b[0m in \u001b[0;36mguess_result\u001b[0;34m(inital_guess, all_text, allowed_words_list, text_size, seed)\u001b[0m\n\u001b[1;32m     20\u001b[0m     \u001b[0mbest_guess\u001b[0m \u001b[0;34m=\u001b[0m \u001b[0mall_text\u001b[0m\u001b[0;34m[\u001b[0m\u001b[0mmax_entropy_index\u001b[0m\u001b[0;34m]\u001b[0m\u001b[0;34m\u001b[0m\u001b[0;34m\u001b[0m\u001b[0m\n\u001b[1;32m     21\u001b[0m     \u001b[0mremain_words\u001b[0m\u001b[0;34m[\u001b[0m\u001b[0mmax_entropy_index\u001b[0m\u001b[0;34m]\u001b[0m \u001b[0;34m=\u001b[0m \u001b[0;36m0\u001b[0m\u001b[0;34m\u001b[0m\u001b[0;34m\u001b[0m\u001b[0m\n\u001b[0;32m---> 22\u001b[0;31m     \u001b[0;32mreturn\u001b[0m \u001b[0mguess_result\u001b[0m\u001b[0;34m(\u001b[0m\u001b[0mbest_guess\u001b[0m\u001b[0;34m,\u001b[0m \u001b[0mall_text\u001b[0m\u001b[0;34m,\u001b[0m \u001b[0mremain_words\u001b[0m\u001b[0;34m,\u001b[0m \u001b[0mtext_size\u001b[0m\u001b[0;34m,\u001b[0m \u001b[0mseed\u001b[0m\u001b[0;34m)\u001b[0m\u001b[0;34m\u001b[0m\u001b[0;34m\u001b[0m\u001b[0m\n\u001b[0m",
            "\u001b[0;32m<ipython-input-20-3177ad0a204e>\u001b[0m in \u001b[0;36mguess_result\u001b[0;34m(inital_guess, all_text, allowed_words_list, text_size, seed)\u001b[0m\n\u001b[1;32m     20\u001b[0m     \u001b[0mbest_guess\u001b[0m \u001b[0;34m=\u001b[0m \u001b[0mall_text\u001b[0m\u001b[0;34m[\u001b[0m\u001b[0mmax_entropy_index\u001b[0m\u001b[0;34m]\u001b[0m\u001b[0;34m\u001b[0m\u001b[0;34m\u001b[0m\u001b[0m\n\u001b[1;32m     21\u001b[0m     \u001b[0mremain_words\u001b[0m\u001b[0;34m[\u001b[0m\u001b[0mmax_entropy_index\u001b[0m\u001b[0;34m]\u001b[0m \u001b[0;34m=\u001b[0m \u001b[0;36m0\u001b[0m\u001b[0;34m\u001b[0m\u001b[0;34m\u001b[0m\u001b[0m\n\u001b[0;32m---> 22\u001b[0;31m     \u001b[0;32mreturn\u001b[0m \u001b[0mguess_result\u001b[0m\u001b[0;34m(\u001b[0m\u001b[0mbest_guess\u001b[0m\u001b[0;34m,\u001b[0m \u001b[0mall_text\u001b[0m\u001b[0;34m,\u001b[0m \u001b[0mremain_words\u001b[0m\u001b[0;34m,\u001b[0m \u001b[0mtext_size\u001b[0m\u001b[0;34m,\u001b[0m \u001b[0mseed\u001b[0m\u001b[0;34m)\u001b[0m\u001b[0;34m\u001b[0m\u001b[0;34m\u001b[0m\u001b[0m\n\u001b[0m",
            "\u001b[0;32m<ipython-input-20-3177ad0a204e>\u001b[0m in \u001b[0;36mguess_result\u001b[0;34m(inital_guess, all_text, allowed_words_list, text_size, seed)\u001b[0m\n\u001b[1;32m     20\u001b[0m     \u001b[0mbest_guess\u001b[0m \u001b[0;34m=\u001b[0m \u001b[0mall_text\u001b[0m\u001b[0;34m[\u001b[0m\u001b[0mmax_entropy_index\u001b[0m\u001b[0;34m]\u001b[0m\u001b[0;34m\u001b[0m\u001b[0;34m\u001b[0m\u001b[0m\n\u001b[1;32m     21\u001b[0m     \u001b[0mremain_words\u001b[0m\u001b[0;34m[\u001b[0m\u001b[0mmax_entropy_index\u001b[0m\u001b[0;34m]\u001b[0m \u001b[0;34m=\u001b[0m \u001b[0;36m0\u001b[0m\u001b[0;34m\u001b[0m\u001b[0;34m\u001b[0m\u001b[0m\n\u001b[0;32m---> 22\u001b[0;31m     \u001b[0;32mreturn\u001b[0m \u001b[0mguess_result\u001b[0m\u001b[0;34m(\u001b[0m\u001b[0mbest_guess\u001b[0m\u001b[0;34m,\u001b[0m \u001b[0mall_text\u001b[0m\u001b[0;34m,\u001b[0m \u001b[0mremain_words\u001b[0m\u001b[0;34m,\u001b[0m \u001b[0mtext_size\u001b[0m\u001b[0;34m,\u001b[0m \u001b[0mseed\u001b[0m\u001b[0;34m)\u001b[0m\u001b[0;34m\u001b[0m\u001b[0;34m\u001b[0m\u001b[0m\n\u001b[0m",
            "\u001b[0;32m<ipython-input-20-3177ad0a204e>\u001b[0m in \u001b[0;36mguess_result\u001b[0;34m(inital_guess, all_text, allowed_words_list, text_size, seed)\u001b[0m\n\u001b[1;32m     20\u001b[0m     \u001b[0mbest_guess\u001b[0m \u001b[0;34m=\u001b[0m \u001b[0mall_text\u001b[0m\u001b[0;34m[\u001b[0m\u001b[0mmax_entropy_index\u001b[0m\u001b[0;34m]\u001b[0m\u001b[0;34m\u001b[0m\u001b[0;34m\u001b[0m\u001b[0m\n\u001b[1;32m     21\u001b[0m     \u001b[0mremain_words\u001b[0m\u001b[0;34m[\u001b[0m\u001b[0mmax_entropy_index\u001b[0m\u001b[0;34m]\u001b[0m \u001b[0;34m=\u001b[0m \u001b[0;36m0\u001b[0m\u001b[0;34m\u001b[0m\u001b[0;34m\u001b[0m\u001b[0m\n\u001b[0;32m---> 22\u001b[0;31m     \u001b[0;32mreturn\u001b[0m \u001b[0mguess_result\u001b[0m\u001b[0;34m(\u001b[0m\u001b[0mbest_guess\u001b[0m\u001b[0;34m,\u001b[0m \u001b[0mall_text\u001b[0m\u001b[0;34m,\u001b[0m \u001b[0mremain_words\u001b[0m\u001b[0;34m,\u001b[0m \u001b[0mtext_size\u001b[0m\u001b[0;34m,\u001b[0m \u001b[0mseed\u001b[0m\u001b[0;34m)\u001b[0m\u001b[0;34m\u001b[0m\u001b[0;34m\u001b[0m\u001b[0m\n\u001b[0m",
            "\u001b[0;32m<ipython-input-20-3177ad0a204e>\u001b[0m in \u001b[0;36mguess_result\u001b[0;34m(inital_guess, all_text, allowed_words_list, text_size, seed)\u001b[0m\n\u001b[1;32m     20\u001b[0m     \u001b[0mbest_guess\u001b[0m \u001b[0;34m=\u001b[0m \u001b[0mall_text\u001b[0m\u001b[0;34m[\u001b[0m\u001b[0mmax_entropy_index\u001b[0m\u001b[0;34m]\u001b[0m\u001b[0;34m\u001b[0m\u001b[0;34m\u001b[0m\u001b[0m\n\u001b[1;32m     21\u001b[0m     \u001b[0mremain_words\u001b[0m\u001b[0;34m[\u001b[0m\u001b[0mmax_entropy_index\u001b[0m\u001b[0;34m]\u001b[0m \u001b[0;34m=\u001b[0m \u001b[0;36m0\u001b[0m\u001b[0;34m\u001b[0m\u001b[0;34m\u001b[0m\u001b[0m\n\u001b[0;32m---> 22\u001b[0;31m     \u001b[0;32mreturn\u001b[0m \u001b[0mguess_result\u001b[0m\u001b[0;34m(\u001b[0m\u001b[0mbest_guess\u001b[0m\u001b[0;34m,\u001b[0m \u001b[0mall_text\u001b[0m\u001b[0;34m,\u001b[0m \u001b[0mremain_words\u001b[0m\u001b[0;34m,\u001b[0m \u001b[0mtext_size\u001b[0m\u001b[0;34m,\u001b[0m \u001b[0mseed\u001b[0m\u001b[0;34m)\u001b[0m\u001b[0;34m\u001b[0m\u001b[0;34m\u001b[0m\u001b[0m\n\u001b[0m",
            "\u001b[0;32m<ipython-input-20-3177ad0a204e>\u001b[0m in \u001b[0;36mguess_result\u001b[0;34m(inital_guess, all_text, allowed_words_list, text_size, seed)\u001b[0m\n\u001b[1;32m     20\u001b[0m     \u001b[0mbest_guess\u001b[0m \u001b[0;34m=\u001b[0m \u001b[0mall_text\u001b[0m\u001b[0;34m[\u001b[0m\u001b[0mmax_entropy_index\u001b[0m\u001b[0;34m]\u001b[0m\u001b[0;34m\u001b[0m\u001b[0;34m\u001b[0m\u001b[0m\n\u001b[1;32m     21\u001b[0m     \u001b[0mremain_words\u001b[0m\u001b[0;34m[\u001b[0m\u001b[0mmax_entropy_index\u001b[0m\u001b[0;34m]\u001b[0m \u001b[0;34m=\u001b[0m \u001b[0;36m0\u001b[0m\u001b[0;34m\u001b[0m\u001b[0;34m\u001b[0m\u001b[0m\n\u001b[0;32m---> 22\u001b[0;31m     \u001b[0;32mreturn\u001b[0m \u001b[0mguess_result\u001b[0m\u001b[0;34m(\u001b[0m\u001b[0mbest_guess\u001b[0m\u001b[0;34m,\u001b[0m \u001b[0mall_text\u001b[0m\u001b[0;34m,\u001b[0m \u001b[0mremain_words\u001b[0m\u001b[0;34m,\u001b[0m \u001b[0mtext_size\u001b[0m\u001b[0;34m,\u001b[0m \u001b[0mseed\u001b[0m\u001b[0;34m)\u001b[0m\u001b[0;34m\u001b[0m\u001b[0;34m\u001b[0m\u001b[0m\n\u001b[0m",
            "\u001b[0;32m<ipython-input-20-3177ad0a204e>\u001b[0m in \u001b[0;36mguess_result\u001b[0;34m(inital_guess, all_text, allowed_words_list, text_size, seed)\u001b[0m\n\u001b[1;32m     20\u001b[0m     \u001b[0mbest_guess\u001b[0m \u001b[0;34m=\u001b[0m \u001b[0mall_text\u001b[0m\u001b[0;34m[\u001b[0m\u001b[0mmax_entropy_index\u001b[0m\u001b[0;34m]\u001b[0m\u001b[0;34m\u001b[0m\u001b[0;34m\u001b[0m\u001b[0m\n\u001b[1;32m     21\u001b[0m     \u001b[0mremain_words\u001b[0m\u001b[0;34m[\u001b[0m\u001b[0mmax_entropy_index\u001b[0m\u001b[0;34m]\u001b[0m \u001b[0;34m=\u001b[0m \u001b[0;36m0\u001b[0m\u001b[0;34m\u001b[0m\u001b[0;34m\u001b[0m\u001b[0m\n\u001b[0;32m---> 22\u001b[0;31m     \u001b[0;32mreturn\u001b[0m \u001b[0mguess_result\u001b[0m\u001b[0;34m(\u001b[0m\u001b[0mbest_guess\u001b[0m\u001b[0;34m,\u001b[0m \u001b[0mall_text\u001b[0m\u001b[0;34m,\u001b[0m \u001b[0mremain_words\u001b[0m\u001b[0;34m,\u001b[0m \u001b[0mtext_size\u001b[0m\u001b[0;34m,\u001b[0m \u001b[0mseed\u001b[0m\u001b[0;34m)\u001b[0m\u001b[0;34m\u001b[0m\u001b[0;34m\u001b[0m\u001b[0m\n\u001b[0m",
            "\u001b[0;32m<ipython-input-20-3177ad0a204e>\u001b[0m in \u001b[0;36mguess_result\u001b[0;34m(inital_guess, all_text, allowed_words_list, text_size, seed)\u001b[0m\n\u001b[1;32m     20\u001b[0m     \u001b[0mbest_guess\u001b[0m \u001b[0;34m=\u001b[0m \u001b[0mall_text\u001b[0m\u001b[0;34m[\u001b[0m\u001b[0mmax_entropy_index\u001b[0m\u001b[0;34m]\u001b[0m\u001b[0;34m\u001b[0m\u001b[0;34m\u001b[0m\u001b[0m\n\u001b[1;32m     21\u001b[0m     \u001b[0mremain_words\u001b[0m\u001b[0;34m[\u001b[0m\u001b[0mmax_entropy_index\u001b[0m\u001b[0;34m]\u001b[0m \u001b[0;34m=\u001b[0m \u001b[0;36m0\u001b[0m\u001b[0;34m\u001b[0m\u001b[0;34m\u001b[0m\u001b[0m\n\u001b[0;32m---> 22\u001b[0;31m     \u001b[0;32mreturn\u001b[0m \u001b[0mguess_result\u001b[0m\u001b[0;34m(\u001b[0m\u001b[0mbest_guess\u001b[0m\u001b[0;34m,\u001b[0m \u001b[0mall_text\u001b[0m\u001b[0;34m,\u001b[0m \u001b[0mremain_words\u001b[0m\u001b[0;34m,\u001b[0m \u001b[0mtext_size\u001b[0m\u001b[0;34m,\u001b[0m \u001b[0mseed\u001b[0m\u001b[0;34m)\u001b[0m\u001b[0;34m\u001b[0m\u001b[0;34m\u001b[0m\u001b[0m\n\u001b[0m",
            "\u001b[0;32m<ipython-input-20-3177ad0a204e>\u001b[0m in \u001b[0;36mguess_result\u001b[0;34m(inital_guess, all_text, allowed_words_list, text_size, seed)\u001b[0m\n\u001b[1;32m     20\u001b[0m     \u001b[0mbest_guess\u001b[0m \u001b[0;34m=\u001b[0m \u001b[0mall_text\u001b[0m\u001b[0;34m[\u001b[0m\u001b[0mmax_entropy_index\u001b[0m\u001b[0;34m]\u001b[0m\u001b[0;34m\u001b[0m\u001b[0;34m\u001b[0m\u001b[0m\n\u001b[1;32m     21\u001b[0m     \u001b[0mremain_words\u001b[0m\u001b[0;34m[\u001b[0m\u001b[0mmax_entropy_index\u001b[0m\u001b[0;34m]\u001b[0m \u001b[0;34m=\u001b[0m \u001b[0;36m0\u001b[0m\u001b[0;34m\u001b[0m\u001b[0;34m\u001b[0m\u001b[0m\n\u001b[0;32m---> 22\u001b[0;31m     \u001b[0;32mreturn\u001b[0m \u001b[0mguess_result\u001b[0m\u001b[0;34m(\u001b[0m\u001b[0mbest_guess\u001b[0m\u001b[0;34m,\u001b[0m \u001b[0mall_text\u001b[0m\u001b[0;34m,\u001b[0m \u001b[0mremain_words\u001b[0m\u001b[0;34m,\u001b[0m \u001b[0mtext_size\u001b[0m\u001b[0;34m,\u001b[0m \u001b[0mseed\u001b[0m\u001b[0;34m)\u001b[0m\u001b[0;34m\u001b[0m\u001b[0;34m\u001b[0m\u001b[0m\n\u001b[0m",
            "\u001b[0;32m<ipython-input-20-3177ad0a204e>\u001b[0m in \u001b[0;36mguess_result\u001b[0;34m(inital_guess, all_text, allowed_words_list, text_size, seed)\u001b[0m\n\u001b[1;32m     20\u001b[0m     \u001b[0mbest_guess\u001b[0m \u001b[0;34m=\u001b[0m \u001b[0mall_text\u001b[0m\u001b[0;34m[\u001b[0m\u001b[0mmax_entropy_index\u001b[0m\u001b[0;34m]\u001b[0m\u001b[0;34m\u001b[0m\u001b[0;34m\u001b[0m\u001b[0m\n\u001b[1;32m     21\u001b[0m     \u001b[0mremain_words\u001b[0m\u001b[0;34m[\u001b[0m\u001b[0mmax_entropy_index\u001b[0m\u001b[0;34m]\u001b[0m \u001b[0;34m=\u001b[0m \u001b[0;36m0\u001b[0m\u001b[0;34m\u001b[0m\u001b[0;34m\u001b[0m\u001b[0m\n\u001b[0;32m---> 22\u001b[0;31m     \u001b[0;32mreturn\u001b[0m \u001b[0mguess_result\u001b[0m\u001b[0;34m(\u001b[0m\u001b[0mbest_guess\u001b[0m\u001b[0;34m,\u001b[0m \u001b[0mall_text\u001b[0m\u001b[0;34m,\u001b[0m \u001b[0mremain_words\u001b[0m\u001b[0;34m,\u001b[0m \u001b[0mtext_size\u001b[0m\u001b[0;34m,\u001b[0m \u001b[0mseed\u001b[0m\u001b[0;34m)\u001b[0m\u001b[0;34m\u001b[0m\u001b[0;34m\u001b[0m\u001b[0m\n\u001b[0m",
            "\u001b[0;32m<ipython-input-20-3177ad0a204e>\u001b[0m in \u001b[0;36mguess_result\u001b[0;34m(inital_guess, all_text, allowed_words_list, text_size, seed)\u001b[0m\n\u001b[1;32m     20\u001b[0m     \u001b[0mbest_guess\u001b[0m \u001b[0;34m=\u001b[0m \u001b[0mall_text\u001b[0m\u001b[0;34m[\u001b[0m\u001b[0mmax_entropy_index\u001b[0m\u001b[0;34m]\u001b[0m\u001b[0;34m\u001b[0m\u001b[0;34m\u001b[0m\u001b[0m\n\u001b[1;32m     21\u001b[0m     \u001b[0mremain_words\u001b[0m\u001b[0;34m[\u001b[0m\u001b[0mmax_entropy_index\u001b[0m\u001b[0;34m]\u001b[0m \u001b[0;34m=\u001b[0m \u001b[0;36m0\u001b[0m\u001b[0;34m\u001b[0m\u001b[0;34m\u001b[0m\u001b[0m\n\u001b[0;32m---> 22\u001b[0;31m     \u001b[0;32mreturn\u001b[0m \u001b[0mguess_result\u001b[0m\u001b[0;34m(\u001b[0m\u001b[0mbest_guess\u001b[0m\u001b[0;34m,\u001b[0m \u001b[0mall_text\u001b[0m\u001b[0;34m,\u001b[0m \u001b[0mremain_words\u001b[0m\u001b[0;34m,\u001b[0m \u001b[0mtext_size\u001b[0m\u001b[0;34m,\u001b[0m \u001b[0mseed\u001b[0m\u001b[0;34m)\u001b[0m\u001b[0;34m\u001b[0m\u001b[0;34m\u001b[0m\u001b[0m\n\u001b[0m",
            "\u001b[0;32m<ipython-input-20-3177ad0a204e>\u001b[0m in \u001b[0;36mguess_result\u001b[0;34m(inital_guess, all_text, allowed_words_list, text_size, seed)\u001b[0m\n\u001b[1;32m      6\u001b[0m \u001b[0;34m\u001b[0m\u001b[0m\n\u001b[1;32m      7\u001b[0m \u001b[0;34m\u001b[0m\u001b[0m\n\u001b[0;32m----> 8\u001b[0;31m   \u001b[0mground_truth_list\u001b[0m \u001b[0;34m=\u001b[0m \u001b[0mcheck_answer\u001b[0m\u001b[0;34m(\u001b[0m\u001b[0minital_guess\u001b[0m\u001b[0;34m,\u001b[0m \u001b[0mtext_size\u001b[0m\u001b[0;34m,\u001b[0m \u001b[0mseed\u001b[0m\u001b[0;34m)\u001b[0m\u001b[0;34m\u001b[0m\u001b[0;34m\u001b[0m\u001b[0m\n\u001b[0m\u001b[1;32m      9\u001b[0m   \u001b[0mprint\u001b[0m\u001b[0;34m(\u001b[0m\u001b[0;34m\"\\ninital_guess: \"\u001b[0m\u001b[0;34m,\u001b[0m\u001b[0minital_guess\u001b[0m\u001b[0;34m)\u001b[0m\u001b[0;34m\u001b[0m\u001b[0;34m\u001b[0m\u001b[0m\n\u001b[1;32m     10\u001b[0m   \u001b[0mprint\u001b[0m\u001b[0;34m(\u001b[0m\u001b[0;34m\"ground_truth_list: \"\u001b[0m\u001b[0;34m,\u001b[0m\u001b[0mground_truth_list\u001b[0m\u001b[0;34m)\u001b[0m\u001b[0;34m\u001b[0m\u001b[0;34m\u001b[0m\u001b[0m\n",
            "\u001b[0;32m<ipython-input-13-0dc27cc967fb>\u001b[0m in \u001b[0;36mcheck_answer\u001b[0;34m(text, size, seed)\u001b[0m\n\u001b[1;32m      1\u001b[0m \u001b[0;32mdef\u001b[0m \u001b[0mcheck_answer\u001b[0m\u001b[0;34m(\u001b[0m\u001b[0mtext\u001b[0m\u001b[0;34m,\u001b[0m \u001b[0msize\u001b[0m\u001b[0;34m,\u001b[0m \u001b[0mseed\u001b[0m\u001b[0;34m)\u001b[0m\u001b[0;34m:\u001b[0m\u001b[0;34m\u001b[0m\u001b[0;34m\u001b[0m\u001b[0m\n\u001b[1;32m      2\u001b[0m   \u001b[0mwordle_url\u001b[0m \u001b[0;34m=\u001b[0m  \u001b[0;34mf\"https://wordle.votee.dev:8000/random?guess={text}&seed={seed}&size={size}\"\u001b[0m\u001b[0;34m\u001b[0m\u001b[0;34m\u001b[0m\u001b[0m\n\u001b[0;32m----> 3\u001b[0;31m   \u001b[0mr\u001b[0m \u001b[0;34m=\u001b[0m \u001b[0mrequests\u001b[0m\u001b[0;34m.\u001b[0m\u001b[0mget\u001b[0m\u001b[0;34m(\u001b[0m\u001b[0mwordle_url\u001b[0m\u001b[0;34m,\u001b[0m \u001b[0mverify\u001b[0m \u001b[0;34m=\u001b[0m \u001b[0;32mFalse\u001b[0m\u001b[0;34m)\u001b[0m\u001b[0;34m\u001b[0m\u001b[0;34m\u001b[0m\u001b[0m\n\u001b[0m\u001b[1;32m      4\u001b[0m   \u001b[0mresult\u001b[0m \u001b[0;34m=\u001b[0m \u001b[0;34m[\u001b[0m\u001b[0mcheck\u001b[0m\u001b[0;34m[\u001b[0m\u001b[0;34m\"result\"\u001b[0m\u001b[0;34m]\u001b[0m \u001b[0;32mfor\u001b[0m \u001b[0mcheck\u001b[0m \u001b[0;32min\u001b[0m \u001b[0mr\u001b[0m\u001b[0;34m.\u001b[0m\u001b[0mjson\u001b[0m\u001b[0;34m(\u001b[0m\u001b[0;34m)\u001b[0m\u001b[0;34m]\u001b[0m\u001b[0;34m\u001b[0m\u001b[0;34m\u001b[0m\u001b[0m\n\u001b[1;32m      5\u001b[0m   \u001b[0;32mreturn\u001b[0m \u001b[0mresult\u001b[0m\u001b[0;34m\u001b[0m\u001b[0;34m\u001b[0m\u001b[0m\n",
            "\u001b[0;32m/usr/local/lib/python3.10/dist-packages/requests/api.py\u001b[0m in \u001b[0;36mget\u001b[0;34m(url, params, **kwargs)\u001b[0m\n\u001b[1;32m     71\u001b[0m     \"\"\"\n\u001b[1;32m     72\u001b[0m \u001b[0;34m\u001b[0m\u001b[0m\n\u001b[0;32m---> 73\u001b[0;31m     \u001b[0;32mreturn\u001b[0m \u001b[0mrequest\u001b[0m\u001b[0;34m(\u001b[0m\u001b[0;34m\"get\"\u001b[0m\u001b[0;34m,\u001b[0m \u001b[0murl\u001b[0m\u001b[0;34m,\u001b[0m \u001b[0mparams\u001b[0m\u001b[0;34m=\u001b[0m\u001b[0mparams\u001b[0m\u001b[0;34m,\u001b[0m \u001b[0;34m**\u001b[0m\u001b[0mkwargs\u001b[0m\u001b[0;34m)\u001b[0m\u001b[0;34m\u001b[0m\u001b[0;34m\u001b[0m\u001b[0m\n\u001b[0m\u001b[1;32m     74\u001b[0m \u001b[0;34m\u001b[0m\u001b[0m\n\u001b[1;32m     75\u001b[0m \u001b[0;34m\u001b[0m\u001b[0m\n",
            "\u001b[0;32m/usr/local/lib/python3.10/dist-packages/requests/api.py\u001b[0m in \u001b[0;36mrequest\u001b[0;34m(method, url, **kwargs)\u001b[0m\n\u001b[1;32m     57\u001b[0m     \u001b[0;31m# cases, and look like a memory leak in others.\u001b[0m\u001b[0;34m\u001b[0m\u001b[0;34m\u001b[0m\u001b[0m\n\u001b[1;32m     58\u001b[0m     \u001b[0;32mwith\u001b[0m \u001b[0msessions\u001b[0m\u001b[0;34m.\u001b[0m\u001b[0mSession\u001b[0m\u001b[0;34m(\u001b[0m\u001b[0;34m)\u001b[0m \u001b[0;32mas\u001b[0m \u001b[0msession\u001b[0m\u001b[0;34m:\u001b[0m\u001b[0;34m\u001b[0m\u001b[0;34m\u001b[0m\u001b[0m\n\u001b[0;32m---> 59\u001b[0;31m         \u001b[0;32mreturn\u001b[0m \u001b[0msession\u001b[0m\u001b[0;34m.\u001b[0m\u001b[0mrequest\u001b[0m\u001b[0;34m(\u001b[0m\u001b[0mmethod\u001b[0m\u001b[0;34m=\u001b[0m\u001b[0mmethod\u001b[0m\u001b[0;34m,\u001b[0m \u001b[0murl\u001b[0m\u001b[0;34m=\u001b[0m\u001b[0murl\u001b[0m\u001b[0;34m,\u001b[0m \u001b[0;34m**\u001b[0m\u001b[0mkwargs\u001b[0m\u001b[0;34m)\u001b[0m\u001b[0;34m\u001b[0m\u001b[0;34m\u001b[0m\u001b[0m\n\u001b[0m\u001b[1;32m     60\u001b[0m \u001b[0;34m\u001b[0m\u001b[0m\n\u001b[1;32m     61\u001b[0m \u001b[0;34m\u001b[0m\u001b[0m\n",
            "\u001b[0;32m/usr/local/lib/python3.10/dist-packages/requests/sessions.py\u001b[0m in \u001b[0;36mrequest\u001b[0;34m(self, method, url, params, data, headers, cookies, files, auth, timeout, allow_redirects, proxies, hooks, stream, verify, cert, json)\u001b[0m\n\u001b[1;32m    587\u001b[0m         }\n\u001b[1;32m    588\u001b[0m         \u001b[0msend_kwargs\u001b[0m\u001b[0;34m.\u001b[0m\u001b[0mupdate\u001b[0m\u001b[0;34m(\u001b[0m\u001b[0msettings\u001b[0m\u001b[0;34m)\u001b[0m\u001b[0;34m\u001b[0m\u001b[0;34m\u001b[0m\u001b[0m\n\u001b[0;32m--> 589\u001b[0;31m         \u001b[0mresp\u001b[0m \u001b[0;34m=\u001b[0m \u001b[0mself\u001b[0m\u001b[0;34m.\u001b[0m\u001b[0msend\u001b[0m\u001b[0;34m(\u001b[0m\u001b[0mprep\u001b[0m\u001b[0;34m,\u001b[0m \u001b[0;34m**\u001b[0m\u001b[0msend_kwargs\u001b[0m\u001b[0;34m)\u001b[0m\u001b[0;34m\u001b[0m\u001b[0;34m\u001b[0m\u001b[0m\n\u001b[0m\u001b[1;32m    590\u001b[0m \u001b[0;34m\u001b[0m\u001b[0m\n\u001b[1;32m    591\u001b[0m         \u001b[0;32mreturn\u001b[0m \u001b[0mresp\u001b[0m\u001b[0;34m\u001b[0m\u001b[0;34m\u001b[0m\u001b[0m\n",
            "\u001b[0;32m/usr/local/lib/python3.10/dist-packages/requests/sessions.py\u001b[0m in \u001b[0;36msend\u001b[0;34m(self, request, **kwargs)\u001b[0m\n\u001b[1;32m    701\u001b[0m \u001b[0;34m\u001b[0m\u001b[0m\n\u001b[1;32m    702\u001b[0m         \u001b[0;31m# Send the request\u001b[0m\u001b[0;34m\u001b[0m\u001b[0;34m\u001b[0m\u001b[0m\n\u001b[0;32m--> 703\u001b[0;31m         \u001b[0mr\u001b[0m \u001b[0;34m=\u001b[0m \u001b[0madapter\u001b[0m\u001b[0;34m.\u001b[0m\u001b[0msend\u001b[0m\u001b[0;34m(\u001b[0m\u001b[0mrequest\u001b[0m\u001b[0;34m,\u001b[0m \u001b[0;34m**\u001b[0m\u001b[0mkwargs\u001b[0m\u001b[0;34m)\u001b[0m\u001b[0;34m\u001b[0m\u001b[0;34m\u001b[0m\u001b[0m\n\u001b[0m\u001b[1;32m    704\u001b[0m \u001b[0;34m\u001b[0m\u001b[0m\n\u001b[1;32m    705\u001b[0m         \u001b[0;31m# Total elapsed time of the request (approximately)\u001b[0m\u001b[0;34m\u001b[0m\u001b[0;34m\u001b[0m\u001b[0m\n",
            "\u001b[0;32m/usr/local/lib/python3.10/dist-packages/requests/adapters.py\u001b[0m in \u001b[0;36msend\u001b[0;34m(self, request, stream, timeout, verify, cert, proxies)\u001b[0m\n\u001b[1;32m    484\u001b[0m \u001b[0;34m\u001b[0m\u001b[0m\n\u001b[1;32m    485\u001b[0m         \u001b[0;32mtry\u001b[0m\u001b[0;34m:\u001b[0m\u001b[0;34m\u001b[0m\u001b[0;34m\u001b[0m\u001b[0m\n\u001b[0;32m--> 486\u001b[0;31m             resp = conn.urlopen(\n\u001b[0m\u001b[1;32m    487\u001b[0m                 \u001b[0mmethod\u001b[0m\u001b[0;34m=\u001b[0m\u001b[0mrequest\u001b[0m\u001b[0;34m.\u001b[0m\u001b[0mmethod\u001b[0m\u001b[0;34m,\u001b[0m\u001b[0;34m\u001b[0m\u001b[0;34m\u001b[0m\u001b[0m\n\u001b[1;32m    488\u001b[0m                 \u001b[0murl\u001b[0m\u001b[0;34m=\u001b[0m\u001b[0murl\u001b[0m\u001b[0;34m,\u001b[0m\u001b[0;34m\u001b[0m\u001b[0;34m\u001b[0m\u001b[0m\n",
            "\u001b[0;32m/usr/local/lib/python3.10/dist-packages/urllib3/connectionpool.py\u001b[0m in \u001b[0;36murlopen\u001b[0;34m(self, method, url, body, headers, retries, redirect, assert_same_host, timeout, pool_timeout, release_conn, chunked, body_pos, preload_content, decode_content, **response_kw)\u001b[0m\n\u001b[1;32m    788\u001b[0m \u001b[0;34m\u001b[0m\u001b[0m\n\u001b[1;32m    789\u001b[0m             \u001b[0;31m# Make the request on the HTTPConnection object\u001b[0m\u001b[0;34m\u001b[0m\u001b[0;34m\u001b[0m\u001b[0m\n\u001b[0;32m--> 790\u001b[0;31m             response = self._make_request(\n\u001b[0m\u001b[1;32m    791\u001b[0m                 \u001b[0mconn\u001b[0m\u001b[0;34m,\u001b[0m\u001b[0;34m\u001b[0m\u001b[0;34m\u001b[0m\u001b[0m\n\u001b[1;32m    792\u001b[0m                 \u001b[0mmethod\u001b[0m\u001b[0;34m,\u001b[0m\u001b[0;34m\u001b[0m\u001b[0;34m\u001b[0m\u001b[0m\n",
            "\u001b[0;32m/usr/local/lib/python3.10/dist-packages/urllib3/connectionpool.py\u001b[0m in \u001b[0;36m_make_request\u001b[0;34m(self, conn, method, url, body, headers, retries, timeout, chunked, response_conn, preload_content, decode_content, enforce_content_length)\u001b[0m\n\u001b[1;32m    534\u001b[0m         \u001b[0;31m# Receive the response from the server\u001b[0m\u001b[0;34m\u001b[0m\u001b[0;34m\u001b[0m\u001b[0m\n\u001b[1;32m    535\u001b[0m         \u001b[0;32mtry\u001b[0m\u001b[0;34m:\u001b[0m\u001b[0;34m\u001b[0m\u001b[0;34m\u001b[0m\u001b[0m\n\u001b[0;32m--> 536\u001b[0;31m             \u001b[0mresponse\u001b[0m \u001b[0;34m=\u001b[0m \u001b[0mconn\u001b[0m\u001b[0;34m.\u001b[0m\u001b[0mgetresponse\u001b[0m\u001b[0;34m(\u001b[0m\u001b[0;34m)\u001b[0m\u001b[0;34m\u001b[0m\u001b[0;34m\u001b[0m\u001b[0m\n\u001b[0m\u001b[1;32m    537\u001b[0m         \u001b[0;32mexcept\u001b[0m \u001b[0;34m(\u001b[0m\u001b[0mBaseSSLError\u001b[0m\u001b[0;34m,\u001b[0m \u001b[0mOSError\u001b[0m\u001b[0;34m)\u001b[0m \u001b[0;32mas\u001b[0m \u001b[0me\u001b[0m\u001b[0;34m:\u001b[0m\u001b[0;34m\u001b[0m\u001b[0;34m\u001b[0m\u001b[0m\n\u001b[1;32m    538\u001b[0m             \u001b[0mself\u001b[0m\u001b[0;34m.\u001b[0m\u001b[0m_raise_timeout\u001b[0m\u001b[0;34m(\u001b[0m\u001b[0merr\u001b[0m\u001b[0;34m=\u001b[0m\u001b[0me\u001b[0m\u001b[0;34m,\u001b[0m \u001b[0murl\u001b[0m\u001b[0;34m=\u001b[0m\u001b[0murl\u001b[0m\u001b[0;34m,\u001b[0m \u001b[0mtimeout_value\u001b[0m\u001b[0;34m=\u001b[0m\u001b[0mread_timeout\u001b[0m\u001b[0;34m)\u001b[0m\u001b[0;34m\u001b[0m\u001b[0;34m\u001b[0m\u001b[0m\n",
            "\u001b[0;32m/usr/local/lib/python3.10/dist-packages/urllib3/connection.py\u001b[0m in \u001b[0;36mgetresponse\u001b[0;34m(self)\u001b[0m\n\u001b[1;32m    459\u001b[0m \u001b[0;34m\u001b[0m\u001b[0m\n\u001b[1;32m    460\u001b[0m         \u001b[0;31m# Get the response from http.client.HTTPConnection\u001b[0m\u001b[0;34m\u001b[0m\u001b[0;34m\u001b[0m\u001b[0m\n\u001b[0;32m--> 461\u001b[0;31m         \u001b[0mhttplib_response\u001b[0m \u001b[0;34m=\u001b[0m \u001b[0msuper\u001b[0m\u001b[0;34m(\u001b[0m\u001b[0;34m)\u001b[0m\u001b[0;34m.\u001b[0m\u001b[0mgetresponse\u001b[0m\u001b[0;34m(\u001b[0m\u001b[0;34m)\u001b[0m\u001b[0;34m\u001b[0m\u001b[0;34m\u001b[0m\u001b[0m\n\u001b[0m\u001b[1;32m    462\u001b[0m \u001b[0;34m\u001b[0m\u001b[0m\n\u001b[1;32m    463\u001b[0m         \u001b[0;32mtry\u001b[0m\u001b[0;34m:\u001b[0m\u001b[0;34m\u001b[0m\u001b[0;34m\u001b[0m\u001b[0m\n",
            "\u001b[0;32m/usr/lib/python3.10/http/client.py\u001b[0m in \u001b[0;36mgetresponse\u001b[0;34m(self)\u001b[0m\n\u001b[1;32m   1373\u001b[0m         \u001b[0;32mtry\u001b[0m\u001b[0;34m:\u001b[0m\u001b[0;34m\u001b[0m\u001b[0;34m\u001b[0m\u001b[0m\n\u001b[1;32m   1374\u001b[0m             \u001b[0;32mtry\u001b[0m\u001b[0;34m:\u001b[0m\u001b[0;34m\u001b[0m\u001b[0;34m\u001b[0m\u001b[0m\n\u001b[0;32m-> 1375\u001b[0;31m                 \u001b[0mresponse\u001b[0m\u001b[0;34m.\u001b[0m\u001b[0mbegin\u001b[0m\u001b[0;34m(\u001b[0m\u001b[0;34m)\u001b[0m\u001b[0;34m\u001b[0m\u001b[0;34m\u001b[0m\u001b[0m\n\u001b[0m\u001b[1;32m   1376\u001b[0m             \u001b[0;32mexcept\u001b[0m \u001b[0mConnectionError\u001b[0m\u001b[0;34m:\u001b[0m\u001b[0;34m\u001b[0m\u001b[0;34m\u001b[0m\u001b[0m\n\u001b[1;32m   1377\u001b[0m                 \u001b[0mself\u001b[0m\u001b[0;34m.\u001b[0m\u001b[0mclose\u001b[0m\u001b[0;34m(\u001b[0m\u001b[0;34m)\u001b[0m\u001b[0;34m\u001b[0m\u001b[0;34m\u001b[0m\u001b[0m\n",
            "\u001b[0;32m/usr/lib/python3.10/http/client.py\u001b[0m in \u001b[0;36mbegin\u001b[0;34m(self)\u001b[0m\n\u001b[1;32m    316\u001b[0m         \u001b[0;31m# read until we get a non-100 response\u001b[0m\u001b[0;34m\u001b[0m\u001b[0;34m\u001b[0m\u001b[0m\n\u001b[1;32m    317\u001b[0m         \u001b[0;32mwhile\u001b[0m \u001b[0;32mTrue\u001b[0m\u001b[0;34m:\u001b[0m\u001b[0;34m\u001b[0m\u001b[0;34m\u001b[0m\u001b[0m\n\u001b[0;32m--> 318\u001b[0;31m             \u001b[0mversion\u001b[0m\u001b[0;34m,\u001b[0m \u001b[0mstatus\u001b[0m\u001b[0;34m,\u001b[0m \u001b[0mreason\u001b[0m \u001b[0;34m=\u001b[0m \u001b[0mself\u001b[0m\u001b[0;34m.\u001b[0m\u001b[0m_read_status\u001b[0m\u001b[0;34m(\u001b[0m\u001b[0;34m)\u001b[0m\u001b[0;34m\u001b[0m\u001b[0;34m\u001b[0m\u001b[0m\n\u001b[0m\u001b[1;32m    319\u001b[0m             \u001b[0;32mif\u001b[0m \u001b[0mstatus\u001b[0m \u001b[0;34m!=\u001b[0m \u001b[0mCONTINUE\u001b[0m\u001b[0;34m:\u001b[0m\u001b[0;34m\u001b[0m\u001b[0;34m\u001b[0m\u001b[0m\n\u001b[1;32m    320\u001b[0m                 \u001b[0;32mbreak\u001b[0m\u001b[0;34m\u001b[0m\u001b[0;34m\u001b[0m\u001b[0m\n",
            "\u001b[0;32m/usr/lib/python3.10/http/client.py\u001b[0m in \u001b[0;36m_read_status\u001b[0;34m(self)\u001b[0m\n\u001b[1;32m    277\u001b[0m \u001b[0;34m\u001b[0m\u001b[0m\n\u001b[1;32m    278\u001b[0m     \u001b[0;32mdef\u001b[0m \u001b[0m_read_status\u001b[0m\u001b[0;34m(\u001b[0m\u001b[0mself\u001b[0m\u001b[0;34m)\u001b[0m\u001b[0;34m:\u001b[0m\u001b[0;34m\u001b[0m\u001b[0;34m\u001b[0m\u001b[0m\n\u001b[0;32m--> 279\u001b[0;31m         \u001b[0mline\u001b[0m \u001b[0;34m=\u001b[0m \u001b[0mstr\u001b[0m\u001b[0;34m(\u001b[0m\u001b[0mself\u001b[0m\u001b[0;34m.\u001b[0m\u001b[0mfp\u001b[0m\u001b[0;34m.\u001b[0m\u001b[0mreadline\u001b[0m\u001b[0;34m(\u001b[0m\u001b[0m_MAXLINE\u001b[0m \u001b[0;34m+\u001b[0m \u001b[0;36m1\u001b[0m\u001b[0;34m)\u001b[0m\u001b[0;34m,\u001b[0m \u001b[0;34m\"iso-8859-1\"\u001b[0m\u001b[0;34m)\u001b[0m\u001b[0;34m\u001b[0m\u001b[0;34m\u001b[0m\u001b[0m\n\u001b[0m\u001b[1;32m    280\u001b[0m         \u001b[0;32mif\u001b[0m \u001b[0mlen\u001b[0m\u001b[0;34m(\u001b[0m\u001b[0mline\u001b[0m\u001b[0;34m)\u001b[0m \u001b[0;34m>\u001b[0m \u001b[0m_MAXLINE\u001b[0m\u001b[0;34m:\u001b[0m\u001b[0;34m\u001b[0m\u001b[0;34m\u001b[0m\u001b[0m\n\u001b[1;32m    281\u001b[0m             \u001b[0;32mraise\u001b[0m \u001b[0mLineTooLong\u001b[0m\u001b[0;34m(\u001b[0m\u001b[0;34m\"status line\"\u001b[0m\u001b[0;34m)\u001b[0m\u001b[0;34m\u001b[0m\u001b[0;34m\u001b[0m\u001b[0m\n",
            "\u001b[0;32m/usr/lib/python3.10/socket.py\u001b[0m in \u001b[0;36mreadinto\u001b[0;34m(self, b)\u001b[0m\n\u001b[1;32m    703\u001b[0m         \u001b[0;32mwhile\u001b[0m \u001b[0;32mTrue\u001b[0m\u001b[0;34m:\u001b[0m\u001b[0;34m\u001b[0m\u001b[0;34m\u001b[0m\u001b[0m\n\u001b[1;32m    704\u001b[0m             \u001b[0;32mtry\u001b[0m\u001b[0;34m:\u001b[0m\u001b[0;34m\u001b[0m\u001b[0;34m\u001b[0m\u001b[0m\n\u001b[0;32m--> 705\u001b[0;31m                 \u001b[0;32mreturn\u001b[0m \u001b[0mself\u001b[0m\u001b[0;34m.\u001b[0m\u001b[0m_sock\u001b[0m\u001b[0;34m.\u001b[0m\u001b[0mrecv_into\u001b[0m\u001b[0;34m(\u001b[0m\u001b[0mb\u001b[0m\u001b[0;34m)\u001b[0m\u001b[0;34m\u001b[0m\u001b[0;34m\u001b[0m\u001b[0m\n\u001b[0m\u001b[1;32m    706\u001b[0m             \u001b[0;32mexcept\u001b[0m \u001b[0mtimeout\u001b[0m\u001b[0;34m:\u001b[0m\u001b[0;34m\u001b[0m\u001b[0;34m\u001b[0m\u001b[0m\n\u001b[1;32m    707\u001b[0m                 \u001b[0mself\u001b[0m\u001b[0;34m.\u001b[0m\u001b[0m_timeout_occurred\u001b[0m \u001b[0;34m=\u001b[0m \u001b[0;32mTrue\u001b[0m\u001b[0;34m\u001b[0m\u001b[0;34m\u001b[0m\u001b[0m\n",
            "\u001b[0;32m/usr/lib/python3.10/ssl.py\u001b[0m in \u001b[0;36mrecv_into\u001b[0;34m(self, buffer, nbytes, flags)\u001b[0m\n\u001b[1;32m   1272\u001b[0m                   \u001b[0;34m\"non-zero flags not allowed in calls to recv_into() on %s\"\u001b[0m \u001b[0;34m%\u001b[0m\u001b[0;34m\u001b[0m\u001b[0;34m\u001b[0m\u001b[0m\n\u001b[1;32m   1273\u001b[0m                   self.__class__)\n\u001b[0;32m-> 1274\u001b[0;31m             \u001b[0;32mreturn\u001b[0m \u001b[0mself\u001b[0m\u001b[0;34m.\u001b[0m\u001b[0mread\u001b[0m\u001b[0;34m(\u001b[0m\u001b[0mnbytes\u001b[0m\u001b[0;34m,\u001b[0m \u001b[0mbuffer\u001b[0m\u001b[0;34m)\u001b[0m\u001b[0;34m\u001b[0m\u001b[0;34m\u001b[0m\u001b[0m\n\u001b[0m\u001b[1;32m   1275\u001b[0m         \u001b[0;32melse\u001b[0m\u001b[0;34m:\u001b[0m\u001b[0;34m\u001b[0m\u001b[0;34m\u001b[0m\u001b[0m\n\u001b[1;32m   1276\u001b[0m             \u001b[0;32mreturn\u001b[0m \u001b[0msuper\u001b[0m\u001b[0;34m(\u001b[0m\u001b[0;34m)\u001b[0m\u001b[0;34m.\u001b[0m\u001b[0mrecv_into\u001b[0m\u001b[0;34m(\u001b[0m\u001b[0mbuffer\u001b[0m\u001b[0;34m,\u001b[0m \u001b[0mnbytes\u001b[0m\u001b[0;34m,\u001b[0m \u001b[0mflags\u001b[0m\u001b[0;34m)\u001b[0m\u001b[0;34m\u001b[0m\u001b[0;34m\u001b[0m\u001b[0m\n",
            "\u001b[0;32m/usr/lib/python3.10/ssl.py\u001b[0m in \u001b[0;36mread\u001b[0;34m(self, len, buffer)\u001b[0m\n\u001b[1;32m   1128\u001b[0m         \u001b[0;32mtry\u001b[0m\u001b[0;34m:\u001b[0m\u001b[0;34m\u001b[0m\u001b[0;34m\u001b[0m\u001b[0m\n\u001b[1;32m   1129\u001b[0m             \u001b[0;32mif\u001b[0m \u001b[0mbuffer\u001b[0m \u001b[0;32mis\u001b[0m \u001b[0;32mnot\u001b[0m \u001b[0;32mNone\u001b[0m\u001b[0;34m:\u001b[0m\u001b[0;34m\u001b[0m\u001b[0;34m\u001b[0m\u001b[0m\n\u001b[0;32m-> 1130\u001b[0;31m                 \u001b[0;32mreturn\u001b[0m \u001b[0mself\u001b[0m\u001b[0;34m.\u001b[0m\u001b[0m_sslobj\u001b[0m\u001b[0;34m.\u001b[0m\u001b[0mread\u001b[0m\u001b[0;34m(\u001b[0m\u001b[0mlen\u001b[0m\u001b[0;34m,\u001b[0m \u001b[0mbuffer\u001b[0m\u001b[0;34m)\u001b[0m\u001b[0;34m\u001b[0m\u001b[0;34m\u001b[0m\u001b[0m\n\u001b[0m\u001b[1;32m   1131\u001b[0m             \u001b[0;32melse\u001b[0m\u001b[0;34m:\u001b[0m\u001b[0;34m\u001b[0m\u001b[0;34m\u001b[0m\u001b[0m\n\u001b[1;32m   1132\u001b[0m                 \u001b[0;32mreturn\u001b[0m \u001b[0mself\u001b[0m\u001b[0;34m.\u001b[0m\u001b[0m_sslobj\u001b[0m\u001b[0;34m.\u001b[0m\u001b[0mread\u001b[0m\u001b[0;34m(\u001b[0m\u001b[0mlen\u001b[0m\u001b[0;34m)\u001b[0m\u001b[0;34m\u001b[0m\u001b[0;34m\u001b[0m\u001b[0m\n",
            "\u001b[0;31mKeyboardInterrupt\u001b[0m: "
          ]
        }
      ],
      "source": [
        "%%time\n",
        "ans = wordle_bot(size = 4, seed = 3214)\n",
        "ans"
      ]
    },
    {
      "cell_type": "code",
      "execution_count": 23,
      "metadata": {
        "colab": {
          "base_uri": "https://localhost:8080/",
          "height": 182
        },
        "id": "ElGFAg1TjZaY",
        "outputId": "6b2f2436-bef7-417d-beaf-81e88868f42b"
      },
      "outputs": [
        {
          "output_type": "error",
          "ename": "NameError",
          "evalue": "ignored",
          "traceback": [
            "\u001b[0;31m---------------------------------------------------------------------------\u001b[0m",
            "\u001b[0;31mNameError\u001b[0m                                 Traceback (most recent call last)",
            "\u001b[0;32m<ipython-input-23-92082b7f0a64>\u001b[0m in \u001b[0;36m<cell line: 1>\u001b[0;34m()\u001b[0m\n\u001b[0;32m----> 1\u001b[0;31m \u001b[0mcheck_answer\u001b[0m\u001b[0;34m(\u001b[0m\u001b[0mans\u001b[0m\u001b[0;34m,\u001b[0m\u001b[0;36m4\u001b[0m\u001b[0;34m,\u001b[0m\u001b[0;36m3214\u001b[0m\u001b[0;34m)\u001b[0m\u001b[0;34m\u001b[0m\u001b[0;34m\u001b[0m\u001b[0m\n\u001b[0m",
            "\u001b[0;31mNameError\u001b[0m: name 'ans' is not defined"
          ]
        }
      ],
      "source": [
        "check_answer(ans,4,3214)"
      ]
    },
    {
      "cell_type": "code",
      "source": [],
      "metadata": {
        "id": "AZfotAd_W9UL"
      },
      "execution_count": null,
      "outputs": []
    }
  ],
  "metadata": {
    "colab": {
      "provenance": [],
      "authorship_tag": "ABX9TyO12fNZJ5PZBy84LvAXo+yY",
      "include_colab_link": true
    },
    "kernelspec": {
      "display_name": "Python 3",
      "name": "python3"
    },
    "language_info": {
      "name": "python"
    }
  },
  "nbformat": 4,
  "nbformat_minor": 0
}