{
  "nbformat": 4,
  "nbformat_minor": 0,
  "metadata": {
    "colab": {
      "provenance": [],
      "collapsed_sections": [
        "jGEXZ1XjJxvS",
        "viZrxl2pKNaS"
      ],
      "mount_file_id": "1WO95-8jN4H6AKg2kmFtj42UCAncKBd94",
      "authorship_tag": "ABX9TyNs1C08SWYqLzHNhggUys9N",
      "include_colab_link": true
    },
    "kernelspec": {
      "name": "python3",
      "display_name": "Python 3"
    },
    "language_info": {
      "name": "python"
    }
  },
  "cells": [
    {
      "cell_type": "markdown",
      "metadata": {
        "id": "view-in-github",
        "colab_type": "text"
      },
      "source": [
        "<a href=\"https://colab.research.google.com/github/TranPhu1999/Wordle_solver/blob/main/wordle_solver.ipynb\" target=\"_parent\"><img src=\"https://colab.research.google.com/assets/colab-badge.svg\" alt=\"Open In Colab\"/></a>"
      ]
    },
    {
      "cell_type": "markdown",
      "source": [
        "# Reference:\n",
        "- 3blue1brown video: https://www.youtube.com/watch?v=v68zYyaEmEA&t=848s\n",
        "- 3blue1brown repo: https://github.com/3b1b/videos/tree/870a6cbf30938793f93a2c9235c82bdeed31c7c6/_2022/wordle"
      ],
      "metadata": {
        "id": "smav8d6sJagf"
      }
    },
    {
      "cell_type": "markdown",
      "source": [
        "# Install"
      ],
      "metadata": {
        "id": "jGEXZ1XjJxvS"
      }
    },
    {
      "cell_type": "code",
      "execution_count": 1,
      "metadata": {
        "colab": {
          "base_uri": "https://localhost:8080/"
        },
        "id": "GsDuSo95H6EZ",
        "outputId": "af4caf10-a77b-4eb0-ae90-028bb3354929"
      },
      "outputs": [
        {
          "output_type": "stream",
          "name": "stdout",
          "text": [
            "Requirement already satisfied: tqdm in /usr/local/lib/python3.10/dist-packages (from -r /content/drive/MyDrive/Projects/Wordle_solver/requirements.txt (line 1)) (4.66.1)\n",
            "Requirement already satisfied: english_words in /usr/local/lib/python3.10/dist-packages (from -r /content/drive/MyDrive/Projects/Wordle_solver/requirements.txt (line 2)) (2.0.1)\n"
          ]
        }
      ],
      "source": [
        "!pip install -r /content/drive/MyDrive/Projects/Wordle_solver/requirements.txt"
      ]
    },
    {
      "cell_type": "markdown",
      "source": [
        "# Dev_v1"
      ],
      "metadata": {
        "id": "viZrxl2pKNaS"
      }
    },
    {
      "cell_type": "code",
      "source": [
        "# import\n",
        "import requests\n",
        "from tqdm import tqdm as ProgressDisplay\n",
        "from itertools import product\n",
        "from math import log\n",
        "from requests.packages.urllib3.exceptions import InsecureRequestWarning\n",
        "from english_words import get_english_words_set\n",
        "import numpy as np\n",
        "\n",
        "# Disable InsecureRequestWarning\n",
        "requests.packages.urllib3.disable_warnings(InsecureRequestWarning)"
      ],
      "metadata": {
        "id": "Dio1J0WlMgCJ"
      },
      "execution_count": 63,
      "outputs": []
    },
    {
      "cell_type": "code",
      "source": [
        "# Global variable\n",
        "web2lowerset = get_english_words_set(['web2'], lower=True, alpha =False) # gcide / web2\n",
        "web2lowerset = list(web2lowerset)\n",
        "common_letter_rank = \"etaonrishdlfcmugypwbvkjxzq\"\n",
        "\n",
        "\n",
        "CORRECT, PRESENT, ABSENT = 2, 1, 0"
      ],
      "metadata": {
        "id": "yZiPrg3qLUXo"
      },
      "execution_count": 64,
      "outputs": []
    },
    {
      "cell_type": "code",
      "source": [
        "def check_answer(guess_word: str, seed: int, text_size: int) -> list:\n",
        "  # Check answer from API and return next pattern\n",
        "  query = f\"https://wordle.votee.dev:8000/random?guess={guess_word}&seed={seed}&size={text_size}\"\n",
        "  r = requests.get(query, verify = False)\n",
        "  result = [check[\"result\"] for check in r.json()]\n",
        "  return result"
      ],
      "metadata": {
        "id": "zxE__OJtKiBS"
      },
      "execution_count": 65,
      "outputs": []
    },
    {
      "cell_type": "code",
      "source": [
        "# check_answer(\"thefo\",1234,5)"
      ],
      "metadata": {
        "id": "rLIPb6l1PW4v"
      },
      "execution_count": 66,
      "outputs": []
    },
    {
      "cell_type": "code",
      "source": [
        "def get_the_remain_words_list(guess_word: str, pattern: list, allowed_words_list: list) -> list:\n",
        "  remain_list = []\n",
        "\n",
        "  for word in allowed_words_list:\n",
        "    check = True\n",
        "    for i, possible in enumerate(pattern): # \"absent\": 0, \"present\": 1, \"correct\": 2,\n",
        "      if (possible == ABSENT and guess_word[i] in word) or \\\n",
        "      (possible == PRESENT and guess_word[i] not in word) or \\\n",
        "      (possible == CORRECT and guess_word[i] != word[i]):\n",
        "        check = False\n",
        "    if check:\n",
        "      remain_list.append(word)\n",
        "  return remain_list"
      ],
      "metadata": {
        "id": "QvEj4riDOWXQ"
      },
      "execution_count": 67,
      "outputs": []
    },
    {
      "cell_type": "code",
      "source": [
        "# get_the_remain_words_list(\"theao\",[2,2,2,0,0],[x for x in web2lowerset  if len(x) == 5])"
      ],
      "metadata": {
        "id": "3ZcxS9XtScr9"
      },
      "execution_count": 68,
      "outputs": []
    },
    {
      "cell_type": "code",
      "source": [
        "def calculate_entropy(word, all_pattern: list, allowed_words_list: list)-> float:\n",
        "  # Return entropy of the correspond word, check the details explanation here: https://youtu.be/v68zYyaEmEA\n",
        "  # For a particular word, check for all possible pattern and their probability\n",
        "  # Then calculate the entropy for each of these word with formular of information theory E = sum(px*log(1/px))\n",
        "\n",
        "  entropy = 0\n",
        "  for pattern in all_pattern:\n",
        "    word_basket = get_the_remain_words_list(word, pattern, allowed_words_list)\n",
        "    if len(word_basket) > 0:\n",
        "      px = len(word_basket)/len(allowed_words_list)\n",
        "      entropy += px * log(1/px,2)\n",
        "  return entropy"
      ],
      "metadata": {
        "id": "srNpV-HjNqoI"
      },
      "execution_count": 69,
      "outputs": []
    },
    {
      "cell_type": "code",
      "source": [
        "def get_best_guess(allowed_words_list: list, all_pattern: list)-> list:\n",
        "  # from the allow word list, get the word that give the highest entropy\n",
        "  # higher entropy mean it wil help split the possibility word even smaller\n",
        "  highest_entropy = 0\n",
        "  result_index = 0\n",
        "  for i, word in enumerate(ProgressDisplay(allowed_words_list)):\n",
        "    entropy = calculate_entropy(word, all_pattern, allowed_words_list)\n",
        "    if entropy > highest_entropy:\n",
        "      highest_entropy = entropy\n",
        "      result_index = i\n",
        "\n",
        "  return result_index"
      ],
      "metadata": {
        "id": "N-z_LEaVLGAa"
      },
      "execution_count": 70,
      "outputs": []
    },
    {
      "cell_type": "code",
      "source": [
        "def recursive_guess(inital_guess: str, allowed_words_list: list, all_pattern: list, seed: int) -> str:\n",
        "  # recursive function, shrink the allowed_words_list down untill there is one word left or the guess was correct\n",
        "  if len(allowed_words_list) == 1:\n",
        "    return allowed_words_list[0]\n",
        "\n",
        "  guess_pattern = check_answer(inital_guess, seed, len(inital_guess))\n",
        "  print(f\"\\ninitial guess: {inital_guess}\")\n",
        "  print(f\"guess_pattern: {guess_pattern}\")\n",
        "  if set(guess_pattern) == set([\"correct\"]):\n",
        "    return inital_guess\n",
        "  else:\n",
        "    #if not true, filter the allowed_words_list with the guess_pattern above\n",
        "    pattern = {\"absent\": ABSENT, \"present\": PRESENT, \"correct\": CORRECT}\n",
        "    guess_pattern = [pattern[x] for x in guess_pattern]\n",
        "    remain_words = get_the_remain_words_list(inital_guess, guess_pattern, allowed_words_list)\n",
        "    best_guess_index = get_best_guess(remain_words, all_pattern)\n",
        "    best_guess = remain_words.pop(best_guess_index)\n",
        "    return recursive_guess(best_guess, remain_words, all_pattern, seed)"
      ],
      "metadata": {
        "id": "7qCH5f_iYuR0"
      },
      "execution_count": 71,
      "outputs": []
    },
    {
      "cell_type": "code",
      "source": [
        "def wordle_solver(seed: int, text_size: int) -> str:\n",
        "  all_pattern = np.array(list(product(*[[ABSENT ,PRESENT ,CORRECT]]*text_size)),dtype=int) # \"absent\": 0, \"present\": 1, \"correct\": 2,\n",
        "  # main function solve wordle\n",
        "\n",
        "  allowed_text = []\n",
        "\n",
        "  for text in web2lowerset:\n",
        "    if len(text) == text_size and text not in allowed_text:\n",
        "      allowed_text.append(text)\n",
        "\n",
        "  answer = recursive_guess(inital_guess = common_letter_rank[:text_size],\\\n",
        "                           allowed_words_list = allowed_text, all_pattern=all_pattern, seed = seed)\n",
        "\n",
        "  return answer"
      ],
      "metadata": {
        "id": "axUq_R8xKKJ9"
      },
      "execution_count": 72,
      "outputs": []
    },
    {
      "cell_type": "code",
      "source": [
        "%%time\n",
        "wordle_solver(1234, 5)"
      ],
      "metadata": {
        "colab": {
          "base_uri": "https://localhost:8080/",
          "height": 424
        },
        "id": "Cf_Fe7SHcm-4",
        "outputId": "d7fb033d-0701-44a5-f058-d9e2b9fd9565"
      },
      "execution_count": 73,
      "outputs": [
        {
          "output_type": "stream",
          "name": "stdout",
          "text": [
            "\n",
            "initial guess: etaon\n",
            "guess_pattern: ['present', 'present', 'absent', 'absent', 'absent']\n"
          ]
        },
        {
          "output_type": "stream",
          "name": "stderr",
          "text": [
            "100%|██████████| 405/405 [01:14<00:00,  5.42it/s]\n"
          ]
        },
        {
          "output_type": "stream",
          "name": "stdout",
          "text": [
            "\n",
            "initial guess: slite\n",
            "guess_pattern: ['absent', 'absent', 'absent', 'present', 'present']\n"
          ]
        },
        {
          "output_type": "stream",
          "name": "stderr",
          "text": [
            "100%|██████████| 135/135 [00:07<00:00, 18.38it/s]\n"
          ]
        },
        {
          "output_type": "stream",
          "name": "stdout",
          "text": [
            "\n",
            "initial guess: berth\n",
            "guess_pattern: ['absent', 'present', 'absent', 'present', 'present']\n"
          ]
        },
        {
          "output_type": "stream",
          "name": "stderr",
          "text": [
            "100%|██████████| 26/26 [00:00<00:00, 91.88it/s]\n"
          ]
        },
        {
          "output_type": "stream",
          "name": "stdout",
          "text": [
            "\n",
            "initial guess: wheft\n",
            "guess_pattern: ['absent', 'correct', 'correct', 'correct', 'correct']\n"
          ]
        },
        {
          "output_type": "stream",
          "name": "stderr",
          "text": [
            "100%|██████████| 1/1 [00:00<00:00, 1007.28it/s]\n"
          ]
        },
        {
          "output_type": "stream",
          "name": "stdout",
          "text": [
            "\n",
            "initial guess: theft\n",
            "guess_pattern: ['correct', 'correct', 'correct', 'correct', 'correct']\n",
            "CPU times: user 1min 21s, sys: 385 ms, total: 1min 21s\n",
            "Wall time: 1min 28s\n"
          ]
        },
        {
          "output_type": "execute_result",
          "data": {
            "text/plain": [
              "'theft'"
            ],
            "application/vnd.google.colaboratory.intrinsic+json": {
              "type": "string"
            }
          },
          "metadata": {},
          "execution_count": 73
        }
      ]
    },
    {
      "cell_type": "code",
      "source": [],
      "metadata": {
        "id": "HJDtLYFLcvXR"
      },
      "execution_count": 73,
      "outputs": []
    },
    {
      "cell_type": "markdown",
      "source": [
        "# Dev_v2"
      ],
      "metadata": {
        "id": "eO6acY1ZkzMZ"
      }
    },
    {
      "cell_type": "code",
      "source": [
        "# import\n",
        "import requests\n",
        "from tqdm import tqdm as ProgressDisplay\n",
        "from itertools import product\n",
        "from math import log\n",
        "from requests.packages.urllib3.exceptions import InsecureRequestWarning\n",
        "from english_words import get_english_words_set\n",
        "import numpy as np\n",
        "\n",
        "# Disable InsecureRequestWarning\n",
        "requests.packages.urllib3.disable_warnings(InsecureRequestWarning)"
      ],
      "metadata": {
        "id": "1sLVD5MukzMa"
      },
      "execution_count": 1,
      "outputs": []
    },
    {
      "cell_type": "code",
      "source": [
        "# Global variable\n",
        "web2lowerset = get_english_words_set(['web2'], lower=True, alpha =False) # gcide / web2\n",
        "web2lowerset = list(web2lowerset)\n",
        "common_letter_rank = \"etaonrishdlfcmugypwbvkjxzq\"\n",
        "\n",
        "CORRECT, PRESENT, ABSENT = np.uint8(2), np.uint8(1), np.uint8(0)"
      ],
      "metadata": {
        "id": "hTgj2b8kkzMa"
      },
      "execution_count": 2,
      "outputs": []
    },
    {
      "cell_type": "code",
      "source": [
        "def words_to_int_arrays(words):\n",
        "    return np.array([[ord(c)for c in w] for w in words], dtype=np.uint8)"
      ],
      "metadata": {
        "id": "A2HPGWWNsJ7Z"
      },
      "execution_count": 3,
      "outputs": []
    },
    {
      "cell_type": "code",
      "source": [
        "# https://github.com/3b1b/videos/blob/870a6cbf30938793f93a2c9235c82bdeed31c7c6/_2022/wordle/simulations.py#L104\n",
        "def create_pattern_matrix(allowed_words_list_1, allowed_words_list_2):\n",
        "  \"\"\"\n",
        "  A pattern for two words represents the wordle-similarity\n",
        "  pattern (grey -> 0, yellow -> 1, green -> 2) but as an integer\n",
        "  between 0 and 3^5. Reading this integer in ternary gives the\n",
        "  associated pattern.\n",
        "\n",
        "  This function computes the pairwise patterns between two lists\n",
        "  of words, returning the result as a grid of hash values. Since\n",
        "  this can be time-consuming, many operations that can be are vectorized\n",
        "  (perhaps at the expense of easier readibility), and the the result\n",
        "  is saved to file so that this only needs to be evaluated once, and\n",
        "  all remaining pattern matching is a lookup.\n",
        "  \"\"\"\n",
        "  text_size = len(allowed_words_list_1[0])\n",
        "  matrix_dimension_1 = len(allowed_words_list_1)\n",
        "  matrix_dimension_2 = len(allowed_words_list_2)\n",
        "\n",
        "  allowed_words_arr_1, allowed_words_arr_2 = map(words_to_int_arrays,(allowed_words_list_1, allowed_words_list_2))\n",
        "\n",
        "  # equality_grid keeps track of all equalities between all pairs\n",
        "  # of letters in words. Specifically, equality_grid[a, b, i, j]\n",
        "  # is true when words[i][a] == words[b][j]\n",
        "  equality_grid = np.zeros((matrix_dimension_1, matrix_dimension_2, text_size, text_size), dtype=bool)\n",
        "  for i, j in product(range(text_size), range(text_size)):\n",
        "      equality_grid[:, :, i, j] = np.equal.outer(allowed_words_arr_1[:, i], allowed_words_arr_2[:, j])\n",
        "\n",
        "  # full_pattern_matrix[a, b] should represent the 5-color pattern\n",
        "  # for guess a and answer b, with 0 -> grey, 1 -> yellow, 2 -> green\n",
        "  full_pattern_matrix = np.zeros((matrix_dimension_1, matrix_dimension_2, text_size), dtype=np.uint8)\n",
        "\n",
        "  # Green pass\n",
        "  for i in range(text_size):\n",
        "      matches = equality_grid[:, :, i, i].flatten()  # matches[a, b] is true when words[a][i] = words[b][i]\n",
        "      full_pattern_matrix[:, :, i].flat[matches] = CORRECT\n",
        "\n",
        "      for k in range(text_size):\n",
        "          # If it's a match, mark all elements associated with\n",
        "          # that letter, both from the guess and answer, as covered.\n",
        "          # That way, it won't trigger the yellow pass.\n",
        "          equality_grid[:, :, k, i].flat[matches] = False\n",
        "          equality_grid[:, :, i, k].flat[matches] = False\n",
        "\n",
        "  # Yellow pass\n",
        "  for i, j in product(range(text_size), range(text_size)):\n",
        "      matches = equality_grid[:, :, i, j].flatten()\n",
        "      full_pattern_matrix[:, :, i].flat[matches] = PRESENT\n",
        "      for k in range(text_size):\n",
        "          # Similar to above, we want to mark this letter\n",
        "          # as taken care of, both for answer and guess\n",
        "          equality_grid[:, :, k, j].flat[matches] = False\n",
        "          equality_grid[:, :, i, k].flat[matches] = False\n",
        "\n",
        "  # Rather than representing a color pattern as a lists of integers,\n",
        "  # store it as a single integer, whose ternary representations corresponds\n",
        "  # to that list of integers.\n",
        "  pattern_matrix = np.dot(\n",
        "      full_pattern_matrix,\n",
        "      (3**np.arange(text_size)).astype(np.uint8)\n",
        "  )\n",
        "\n",
        "  return pattern_matrix"
      ],
      "metadata": {
        "id": "jJDQOFzIrBav"
      },
      "execution_count": 4,
      "outputs": []
    },
    {
      "cell_type": "code",
      "source": [
        "def generate_full_pattern_matrix(save_file_name, allowed_text):\n",
        "    pattern_matrix = create_pattern_matrix(allowed_text, allowed_text)\n",
        "    # Save to file\n",
        "    np.save(save_file_name, pattern_matrix)\n",
        "    return pattern_matrix"
      ],
      "metadata": {
        "id": "dNVBvXtUtjTb"
      },
      "execution_count": 5,
      "outputs": []
    },
    {
      "cell_type": "code",
      "source": [
        "text_basket_with_size = dict()\n",
        "for text in web2lowerset:\n",
        "  if len(text) in text_basket_with_size:\n",
        "    text_basket_with_size[len(text)].append(text)\n",
        "  else:\n",
        "    text_basket_with_size[len(text)] = [text]"
      ],
      "metadata": {
        "id": "xPOVU3y5vGE8"
      },
      "execution_count": 6,
      "outputs": []
    },
    {
      "cell_type": "code",
      "source": [
        "generate_full_pattern_matrix(f\"pattern_matrix_size_{2}.npy\",text_basket_with_size[5])"
      ],
      "metadata": {
        "id": "-tDr2nwsyP6k"
      },
      "execution_count": null,
      "outputs": []
    },
    {
      "cell_type": "code",
      "source": [
        "for length, list_word in ProgressDisplay(text_basket_with_size.items()):\n",
        "  import os\n",
        "  pattern_file = f\"pattern_matrix_size_{length}.npy\"\n",
        "  if not os.path.exists(pattern_file):\n",
        "    generate_full_pattern_matrix(pattern_file ,list_word)"
      ],
      "metadata": {
        "colab": {
          "base_uri": "https://localhost:8080/"
        },
        "id": "kWs2RYhGxGar",
        "outputId": "8f48eb2a-d1b6-4ffd-9f04-d36c3df851fe"
      },
      "execution_count": null,
      "outputs": [
        {
          "output_type": "stream",
          "name": "stderr",
          "text": [
            "\r  0%|          | 0/25 [00:00<?, ?it/s]"
          ]
        }
      ]
    },
    {
      "cell_type": "code",
      "source": [
        "def check_answer(guess_word: str, seed: int, text_size: int) -> list:\n",
        "  # Check answer from API and return next pattern\n",
        "  query = f\"https://wordle.votee.dev:8000/random?guess={guess_word}&seed={seed}&size={text_size}\"\n",
        "  r = requests.get(query, verify = False)\n",
        "  result = [check[\"result\"] for check in r.json()]\n",
        "  return result"
      ],
      "metadata": {
        "id": "bIS5J-l6kzMa"
      },
      "execution_count": 78,
      "outputs": []
    },
    {
      "cell_type": "code",
      "source": [
        "# check_answer(\"thefo\",1234,5)"
      ],
      "metadata": {
        "id": "l7duPcUTkzMb"
      },
      "execution_count": 79,
      "outputs": []
    },
    {
      "cell_type": "code",
      "source": [
        "def get_the_remain_words_list(guess_word: str, pattern: list, allowed_words_list: list) -> list:\n",
        "  remain_list = []\n",
        "\n",
        "  for word in allowed_words_list:\n",
        "    check = True\n",
        "    for i, possible in enumerate(pattern): # \"absent\": 0, \"present\": 1, \"correct\": 2,\n",
        "      if (possible == ABSENT and guess_word[i] in word) or \\\n",
        "      (possible == PRESENT and guess_word[i] not in word) or \\\n",
        "      (possible == CORRECT and guess_word[i] != word[i]):\n",
        "        check = False\n",
        "    if check:\n",
        "      remain_list.append(word)\n",
        "  return remain_list"
      ],
      "metadata": {
        "id": "eyGiSyS5kzMb"
      },
      "execution_count": 80,
      "outputs": []
    },
    {
      "cell_type": "code",
      "source": [
        "# get_the_remain_words_list(\"theao\",[2,2,2,0,0],[x for x in web2lowerset  if len(x) == 5])"
      ],
      "metadata": {
        "id": "DpDVtHG5kzMc"
      },
      "execution_count": 81,
      "outputs": []
    },
    {
      "cell_type": "code",
      "source": [
        "def calculate_entropy(word, all_pattern: list, allowed_words_list: list)-> float:\n",
        "  # Return entropy of the correspond word, check the details explanation here: https://youtu.be/v68zYyaEmEA\n",
        "  # For a particular word, check for all possible pattern and their probability\n",
        "  # Then calculate the entropy for each of these word with formular of information theory E = sum(px*log(1/px))\n",
        "\n",
        "  entropy = 0\n",
        "  for pattern in all_pattern:\n",
        "    word_basket = get_the_remain_words_list(word, pattern, allowed_words_list)\n",
        "    if len(word_basket) > 0:\n",
        "      px = len(word_basket)/len(allowed_words_list)\n",
        "      entropy += px * log(1/px,2)\n",
        "  return entropy"
      ],
      "metadata": {
        "id": "JYAoCworkzMd"
      },
      "execution_count": 82,
      "outputs": []
    },
    {
      "cell_type": "code",
      "source": [
        "def get_best_guess(allowed_words_list: list, all_pattern: list)-> list:\n",
        "  # from the allow word list, get the word that give the highest entropy\n",
        "  # higher entropy mean it wil help split the possibility word even smaller\n",
        "  highest_entropy = 0\n",
        "  result_index = 0\n",
        "  for i, word in enumerate(ProgressDisplay(allowed_words_list)):\n",
        "    entropy = calculate_entropy(word, all_pattern, allowed_words_list)\n",
        "    if entropy > highest_entropy:\n",
        "      highest_entropy = entropy\n",
        "      result_index = i\n",
        "\n",
        "  return result_index"
      ],
      "metadata": {
        "id": "qmFGRymPkzMe"
      },
      "execution_count": 83,
      "outputs": []
    },
    {
      "cell_type": "code",
      "source": [
        "def recursive_guess(inital_guess: str, allowed_words_list: list, all_pattern: list, seed: int) -> str:\n",
        "  # recursive function, shrink the allowed_words_list down untill there is one word left or the guess was correct\n",
        "  if len(allowed_words_list) == 1:\n",
        "    return allowed_words_list[0]\n",
        "\n",
        "  guess_pattern = check_answer(inital_guess, seed, len(inital_guess))\n",
        "  print(f\"\\ninitial guess: {inital_guess}\")\n",
        "  print(f\"guess_pattern: {guess_pattern}\")\n",
        "  if set(guess_pattern) == set([\"correct\"]):\n",
        "    return inital_guess\n",
        "  else:\n",
        "    #if not true, filter the allowed_words_list with the guess_pattern above\n",
        "    pattern = {\"absent\": ABSENT, \"present\": PRESENT, \"correct\": CORRECT}\n",
        "    guess_pattern = [pattern[x] for x in guess_pattern]\n",
        "    remain_words = get_the_remain_words_list(inital_guess, guess_pattern, allowed_words_list)\n",
        "    best_guess_index = get_best_guess(remain_words, all_pattern)\n",
        "    best_guess = remain_words.pop(best_guess_index)\n",
        "    return recursive_guess(best_guess, remain_words, all_pattern, seed)"
      ],
      "metadata": {
        "id": "NslFBIF7kzMf"
      },
      "execution_count": 84,
      "outputs": []
    },
    {
      "cell_type": "code",
      "source": [
        "def wordle_solver(seed: int, text_size: int) -> str:\n",
        "  all_pattern = list(product(*[[ABSENT ,PRESENT ,CORRECT]]*text_size)) # \"absent\": 0, \"present\": 1, \"correct\": 2,\n",
        "  # main function solve wordle\n",
        "\n",
        "  allowed_text = []\n",
        "\n",
        "  for text in web2lowerset:\n",
        "    if len(text) == text_size and text not in allowed_text:\n",
        "      allowed_text.append(text)\n",
        "\n",
        "  answer = recursive_guess(inital_guess = common_letter_rank[:text_size],\\\n",
        "                           allowed_words_list = allowed_text, all_pattern=all_pattern, seed = seed)\n",
        "\n",
        "  return answer"
      ],
      "metadata": {
        "id": "ytySTMh3kzMg"
      },
      "execution_count": 87,
      "outputs": []
    },
    {
      "cell_type": "code",
      "source": [
        "%%time\n",
        "wordle_solver(1234, 5)"
      ],
      "metadata": {
        "colab": {
          "base_uri": "https://localhost:8080/",
          "height": 424
        },
        "outputId": "bd60b2a5-bf72-423f-fde1-0afb06f63eb9",
        "id": "pgu4AxKokzMg"
      },
      "execution_count": 88,
      "outputs": [
        {
          "output_type": "stream",
          "name": "stdout",
          "text": [
            "\n",
            "initial guess: etaon\n",
            "guess_pattern: ['present', 'present', 'absent', 'absent', 'absent']\n"
          ]
        },
        {
          "output_type": "stream",
          "name": "stderr",
          "text": [
            "100%|██████████| 405/405 [00:26<00:00, 15.01it/s]\n"
          ]
        },
        {
          "output_type": "stream",
          "name": "stdout",
          "text": [
            "\n",
            "initial guess: slite\n",
            "guess_pattern: ['absent', 'absent', 'absent', 'present', 'present']\n"
          ]
        },
        {
          "output_type": "stream",
          "name": "stderr",
          "text": [
            "100%|██████████| 135/135 [00:02<00:00, 50.01it/s]\n"
          ]
        },
        {
          "output_type": "stream",
          "name": "stdout",
          "text": [
            "\n",
            "initial guess: berth\n",
            "guess_pattern: ['absent', 'present', 'absent', 'present', 'present']\n"
          ]
        },
        {
          "output_type": "stream",
          "name": "stderr",
          "text": [
            "100%|██████████| 26/26 [00:00<00:00, 253.52it/s]\n"
          ]
        },
        {
          "output_type": "stream",
          "name": "stdout",
          "text": [
            "\n",
            "initial guess: wheft\n",
            "guess_pattern: ['absent', 'correct', 'correct', 'correct', 'correct']\n"
          ]
        },
        {
          "output_type": "stream",
          "name": "stderr",
          "text": [
            "100%|██████████| 1/1 [00:00<00:00, 2239.35it/s]\n"
          ]
        },
        {
          "output_type": "stream",
          "name": "stdout",
          "text": [
            "\n",
            "initial guess: theft\n",
            "guess_pattern: ['correct', 'correct', 'correct', 'correct', 'correct']\n",
            "CPU times: user 30.2 s, sys: 208 ms, total: 30.4 s\n",
            "Wall time: 35.6 s\n"
          ]
        },
        {
          "output_type": "execute_result",
          "data": {
            "text/plain": [
              "'theft'"
            ],
            "application/vnd.google.colaboratory.intrinsic+json": {
              "type": "string"
            }
          },
          "metadata": {},
          "execution_count": 88
        }
      ]
    },
    {
      "cell_type": "code",
      "source": [],
      "metadata": {
        "id": "FyBEix8fqREL"
      },
      "execution_count": null,
      "outputs": []
    }
  ]
}