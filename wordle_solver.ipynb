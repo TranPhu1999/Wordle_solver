{
  "nbformat": 4,
  "nbformat_minor": 0,
  "metadata": {
    "colab": {
      "provenance": [],
      "collapsed_sections": [
        "jGEXZ1XjJxvS"
      ],
      "mount_file_id": "1WO95-8jN4H6AKg2kmFtj42UCAncKBd94",
      "authorship_tag": "ABX9TyPM92gK/rUTT8NO8SEqpdzz",
      "include_colab_link": true
    },
    "kernelspec": {
      "name": "python3",
      "display_name": "Python 3"
    },
    "language_info": {
      "name": "python"
    }
  },
  "cells": [
    {
      "cell_type": "markdown",
      "metadata": {
        "id": "view-in-github",
        "colab_type": "text"
      },
      "source": [
        "<a href=\"https://colab.research.google.com/github/TranPhu1999/Wordle_solver/blob/main/wordle_solver.ipynb\" target=\"_parent\"><img src=\"https://colab.research.google.com/assets/colab-badge.svg\" alt=\"Open In Colab\"/></a>"
      ]
    },
    {
      "cell_type": "markdown",
      "source": [
        "# Reference:\n",
        "- 3blue1brown video: https://www.youtube.com/watch?v=v68zYyaEmEA&t=848s\n",
        "- 3blue1brown repo: https://github.com/3b1b/videos/tree/870a6cbf30938793f93a2c9235c82bdeed31c7c6/_2022/wordle"
      ],
      "metadata": {
        "id": "smav8d6sJagf"
      }
    },
    {
      "cell_type": "markdown",
      "source": [
        "# Install"
      ],
      "metadata": {
        "id": "jGEXZ1XjJxvS"
      }
    },
    {
      "cell_type": "code",
      "execution_count": 1,
      "metadata": {
        "colab": {
          "base_uri": "https://localhost:8080/"
        },
        "id": "GsDuSo95H6EZ",
        "outputId": "7385580d-7aaa-41fa-dead-dfa60e7629ab"
      },
      "outputs": [
        {
          "output_type": "stream",
          "name": "stdout",
          "text": [
            "Requirement already satisfied: tqdm in /usr/local/lib/python3.10/dist-packages (from -r /content/drive/MyDrive/Projects/Wordle_solver/requirements.txt (line 1)) (4.66.1)\n",
            "Collecting english_words (from -r /content/drive/MyDrive/Projects/Wordle_solver/requirements.txt (line 2))\n",
            "  Downloading english-words-2.0.1.tar.gz (8.2 MB)\n",
            "\u001b[2K     \u001b[90m━━━━━━━━━━━━━━━━━━━━━━━━━━━━━━━━━━━━━━━━\u001b[0m \u001b[32m8.2/8.2 MB\u001b[0m \u001b[31m62.0 MB/s\u001b[0m eta \u001b[36m0:00:00\u001b[0m\n",
            "\u001b[?25h  Installing build dependencies ... \u001b[?25l\u001b[?25hdone\n",
            "  Getting requirements to build wheel ... \u001b[?25l\u001b[?25hdone\n",
            "  Preparing metadata (pyproject.toml) ... \u001b[?25l\u001b[?25hdone\n",
            "Building wheels for collected packages: english_words\n",
            "  Building wheel for english_words (pyproject.toml) ... \u001b[?25l\u001b[?25hdone\n",
            "  Created wheel for english_words: filename=english_words-2.0.1-py3-none-any.whl size=8196240 sha256=c1f65c91d3a9438109a69ddebe4c78ce017a1a88350511c4f891249730200392\n",
            "  Stored in directory: /root/.cache/pip/wheels/f0/e6/d9/16a123647999fe535f03a36e7af23eef203736d84c7ca25b0b\n",
            "Successfully built english_words\n",
            "Installing collected packages: english_words\n",
            "Successfully installed english_words-2.0.1\n"
          ]
        }
      ],
      "source": [
        "!pip install -r /content/drive/MyDrive/Projects/Wordle_solver/requirements.txt"
      ]
    },
    {
      "cell_type": "markdown",
      "source": [
        "# Dev_v1"
      ],
      "metadata": {
        "id": "viZrxl2pKNaS"
      }
    },
    {
      "cell_type": "code",
      "source": [
        "# import\n",
        "import requests\n",
        "from tqdm import tqdm as ProgressDisplay\n",
        "from itertools import product\n",
        "from math import log\n",
        "from requests.packages.urllib3.exceptions import InsecureRequestWarning\n",
        "from english_words import get_english_words_set\n",
        "import numpy as np\n",
        "\n",
        "# Disable InsecureRequestWarning\n",
        "requests.packages.urllib3.disable_warnings(InsecureRequestWarning)"
      ],
      "metadata": {
        "id": "Dio1J0WlMgCJ"
      },
      "execution_count": 25,
      "outputs": []
    },
    {
      "cell_type": "code",
      "source": [
        "# Global variable\n",
        "web2lowerset = get_english_words_set(['web2'], lower=True, alpha =False) # gcide / web2\n",
        "web2lowerset = list(web2lowerset)\n",
        "common_letter_rank = \"etaonrishdlfcmugypwbvkjxzq\"\n",
        "\n",
        "\n",
        "CORRECT, PRESENT, ABSENT = np.uint8(2), np.uint8(1), np.uint8(0)"
      ],
      "metadata": {
        "id": "yZiPrg3qLUXo"
      },
      "execution_count": 53,
      "outputs": []
    },
    {
      "cell_type": "code",
      "source": [
        "def check_answer(guess_word: str, seed: int, text_size: int) -> list:\n",
        "  # Check answer from API and return next pattern\n",
        "  query = f\"https://wordle.votee.dev:8000/random?guess={guess_word}&seed={seed}&size={text_size}\"\n",
        "  r = requests.get(query, verify = False)\n",
        "  result = [check[\"result\"] for check in r.json()]\n",
        "  return result"
      ],
      "metadata": {
        "id": "zxE__OJtKiBS"
      },
      "execution_count": 27,
      "outputs": []
    },
    {
      "cell_type": "code",
      "source": [
        "# check_answer(\"thefo\",1234,5)"
      ],
      "metadata": {
        "id": "rLIPb6l1PW4v"
      },
      "execution_count": 28,
      "outputs": []
    },
    {
      "cell_type": "code",
      "source": [
        "def get_the_remain_words_list(guess_word: str, pattern: list, allowed_words_list: list) -> list:\n",
        "  remain_list = []\n",
        "\n",
        "  for word in allowed_words_list:\n",
        "    check = True\n",
        "    for i, possible in enumerate(pattern): # \"absent\": 0, \"present\": 1, \"correct\": 2,\n",
        "      if (possible == ABSENT and guess_word[i] in word) or \\\n",
        "      (possible == PRESENT and guess_word[i] not in word) or \\\n",
        "      (possible == CORRECT and guess_word[i] != word[i]):\n",
        "        check = False\n",
        "    if check:\n",
        "      remain_list.append(word)\n",
        "  return remain_list"
      ],
      "metadata": {
        "id": "QvEj4riDOWXQ"
      },
      "execution_count": 55,
      "outputs": []
    },
    {
      "cell_type": "code",
      "source": [
        "# get_the_remain_words_list(\"theao\",[2,2,2,0,0],[x for x in web2lowerset  if len(x) == 5])"
      ],
      "metadata": {
        "id": "3ZcxS9XtScr9"
      },
      "execution_count": 56,
      "outputs": []
    },
    {
      "cell_type": "code",
      "source": [
        "def calculate_entropy(word, all_pattern: list, allowed_words_list: list)-> float:\n",
        "  # Return entropy of the correspond word, check the details explanation here: https://youtu.be/v68zYyaEmEA\n",
        "  # For a particular word, check for all possible pattern and their probability\n",
        "  # Then calculate the entropy for each of these word with formular of information theory E = sum(px*log(1/px))\n",
        "\n",
        "  entropy = 0\n",
        "  for pattern in all_pattern:\n",
        "    word_basket = get_the_remain_words_list(word, pattern, allowed_words_list)\n",
        "    if len(word_basket) > 0:\n",
        "      px = len(word_basket)/len(allowed_words_list)\n",
        "      entropy += px * log(1/px,2)\n",
        "  return entropy"
      ],
      "metadata": {
        "id": "srNpV-HjNqoI"
      },
      "execution_count": 57,
      "outputs": []
    },
    {
      "cell_type": "code",
      "source": [
        "def get_best_guess(allowed_words_list: list, all_pattern: list)-> list:\n",
        "  # from the allow word list, get the word that give the highest entropy\n",
        "  # higher entropy mean it wil help split the possibility word even smaller\n",
        "  highest_entropy = 0\n",
        "  result_index = 0\n",
        "  for i, word in enumerate(ProgressDisplay(allowed_words_list)):\n",
        "    entropy = calculate_entropy(word, all_pattern, allowed_words_list)\n",
        "    if entropy > highest_entropy:\n",
        "      highest_entropy = entropy\n",
        "      result_index = i\n",
        "\n",
        "  return result_index"
      ],
      "metadata": {
        "id": "N-z_LEaVLGAa"
      },
      "execution_count": 58,
      "outputs": []
    },
    {
      "cell_type": "code",
      "source": [
        "def recursive_guess(inital_guess: str, allowed_words_list: list, all_pattern: list, seed: int) -> str:\n",
        "  # recursive function, shrink the allowed_words_list down untill there is one word left or the guess was correct\n",
        "  if len(allowed_words_list) == 1:\n",
        "    return allowed_words_list[0]\n",
        "\n",
        "  guess_pattern = check_answer(inital_guess, seed, len(inital_guess))\n",
        "  print(f\"\\ninitial guess: {inital_guess}\")\n",
        "  print(f\"guess_pattern: {guess_pattern}\")\n",
        "  if set(guess_pattern) == set([\"correct\"]):\n",
        "    return inital_guess\n",
        "  else:\n",
        "    #if not true, filter the allowed_words_list with the guess_pattern above\n",
        "    pattern = {\"absent\": ABSENT, \"present\": PRESENT, \"correct\": CORRECT}\n",
        "    guess_pattern = [pattern[x] for x in guess_pattern]\n",
        "    remain_words = get_the_remain_words_list(inital_guess, guess_pattern, allowed_words_list)\n",
        "    best_guess_index = get_best_guess(remain_words, all_pattern)\n",
        "    best_guess = remain_words.pop(best_guess_index)\n",
        "    return recursive_guess(best_guess, remain_words, all_pattern, seed)"
      ],
      "metadata": {
        "id": "7qCH5f_iYuR0"
      },
      "execution_count": 59,
      "outputs": []
    },
    {
      "cell_type": "code",
      "source": [
        "def wordle_solver(seed: int, text_size: int) -> str:\n",
        "  all_pattern = np.array(list(product(*[[ABSENT ,PRESENT ,CORRECT]]*text_size)),dtype=int) # \"absent\": 0, \"present\": 1, \"correct\": 2,\n",
        "  # main function solve wordle\n",
        "\n",
        "  allowed_text = []\n",
        "\n",
        "  for text in web2lowerset:\n",
        "    if len(text) == text_size and text not in allowed_text:\n",
        "      allowed_text.append(text)\n",
        "\n",
        "  answer = recursive_guess(inital_guess = common_letter_rank[:text_size],\\\n",
        "                           allowed_words_list = allowed_text, all_pattern=all_pattern, seed = seed)\n",
        "\n",
        "  return answer"
      ],
      "metadata": {
        "id": "axUq_R8xKKJ9"
      },
      "execution_count": 60,
      "outputs": []
    },
    {
      "cell_type": "code",
      "source": [
        "%%time\n",
        "wordle_solver(1234, 5)"
      ],
      "metadata": {
        "colab": {
          "base_uri": "https://localhost:8080/"
        },
        "id": "Cf_Fe7SHcm-4",
        "outputId": "5f2486b4-8e3a-432b-ec40-5bb1c334dc9a"
      },
      "execution_count": null,
      "outputs": [
        {
          "output_type": "stream",
          "name": "stdout",
          "text": [
            "\n",
            "initial guess: etaon\n",
            "guess_pattern: ['present', 'present', 'absent', 'absent', 'absent']\n"
          ]
        },
        {
          "output_type": "stream",
          "name": "stderr",
          "text": [
            " 65%|██████▌   | 264/405 [01:03<00:30,  4.69it/s]"
          ]
        }
      ]
    },
    {
      "cell_type": "code",
      "source": [],
      "metadata": {
        "id": "HJDtLYFLcvXR"
      },
      "execution_count": 52,
      "outputs": []
    }
  ]
}